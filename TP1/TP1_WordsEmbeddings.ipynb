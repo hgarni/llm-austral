{
 "cells": [
  {
   "cell_type": "code",
   "execution_count": 1,
   "id": "0c871591-31e3-4130-b9ed-bda43d45464a",
   "metadata": {},
   "outputs": [],
   "source": [
    "import numpy as np\n",
    "from gensim.models import KeyedVectors\n",
    "from gensim.scripts.glove2word2vec import glove2word2vec"
   ]
  },
  {
   "cell_type": "markdown",
   "id": "96419f00-074f-440d-9bec-1e0403a778f2",
   "metadata": {},
   "source": [
    "# Words embeddings\n",
    "\n",
    "En el siguiente trabajo utilizaremos word embeddings. Recordemos que los word embeddings son representaciones vectoriales de las palabras ($\\mathbb{R}^d$, generalmente $25 \\leq d \\leq 1000$).\n",
    "\n",
    "En el presente trabajo corroboraremos propiedades de los word embeddings y lo utilizaremos para clasificar texto.\n",
    "\n",
    "## Gensim\n",
    "Gensim es un paquete muy usado, eficiente y escalable para trabajar con similitud de texto.\n",
    "\n",
    "Existen en internet diferentes base de datos de \"word embeddings\" que se pueden descargar: generalmente archivos \".vec\" que asoscian cada palabra con un vector de enteros. Estos archivos pueden ser cargados por gensim.\n",
    "\n",
    "Como vimos en la clase, los embeddings son calculados por medio de un proceso de entrenamiento auto-supervisado. Existen varios algoritmos para producir word embeddings. El objetivo es siempre, utilizar dichos embeddings luego para otras tareas como clasificación de texto.\n",
    "\n",
    "### Standford GloVe\n",
    "\n",
    "Para palabras en inglés utilizaremos los [GloVe word vectors](https://nlp.stanford.edu/projects/glove/) que pueden ser descargados de [aquí](https://nlp.stanford.edu/data/glove.6B.zip).\n",
    "\n",
    "### Cargando los modelos\n",
    "\n",
    "Hemos guardado nuestros embeddings en la subcarpeta ('./models/') de nuestro repositorio. Esta estructura es muy común es proyectos de Machine Learning. Los word embeddings son considerados modelos ya que son representacioens aprendidas de los datos que \"modelan\" relaciones semánticas de palabras.\n"
   ]
  },
  {
   "cell_type": "code",
   "execution_count": 4,
   "id": "92a24c84-aefd-4453-b039-88ce0e26607d",
   "metadata": {},
   "outputs": [
    {
     "name": "stderr",
     "output_type": "stream",
     "text": [
      "C:\\Users\\hgarnica\\AppData\\Local\\Temp\\ipykernel_16980\\1349107516.py:9: DeprecationWarning: Call to deprecated `glove2word2vec` (KeyedVectors.load_word2vec_format(.., binary=False, no_header=True) loads GLoVE text vectors.).\n",
      "  glove2word2vec(embeddings_path, word2vec_glove_file)\n"
     ]
    }
   ],
   "source": [
    "from gensim.test.utils import datapath, get_tmpfile\n",
    "from gensim.scripts.glove2word2vec import glove2word2vec\n",
    "\n",
    "embeddings_path = '../models/glove.6B/glove.6B.300d.txt'\n",
    "\n",
    "glove_file = datapath(embeddings_path)\n",
    "word2vec_glove_file = get_tmpfile(\"glove.6B.100d.word2vec.txt\")\n",
    "\n",
    "glove2word2vec(embeddings_path, word2vec_glove_file)\n",
    "\n",
    "model_en = KeyedVectors.load_word2vec_format(word2vec_glove_file)"
   ]
  },
  {
   "cell_type": "markdown",
   "id": "41d1e3d1-4bb6-484e-b67b-a926d0a2885b",
   "metadata": {},
   "source": [
    "Podemos corroborar que efectivamente a cada palabra le asigna un vector (de dimensión 300 en este caso):"
   ]
  },
  {
   "cell_type": "code",
   "execution_count": 5,
   "id": "355e0598-ce7f-4160-8be2-2e3050d601b3",
   "metadata": {},
   "outputs": [
    {
     "data": {
      "text/plain": [
       "(300,)"
      ]
     },
     "execution_count": 5,
     "metadata": {},
     "output_type": "execute_result"
    }
   ],
   "source": [
    "model_en['obama'].shape"
   ]
  },
  {
   "cell_type": "code",
   "execution_count": 6,
   "id": "db2311f7-4695-4762-b1b6-fced140a0de6",
   "metadata": {},
   "outputs": [
    {
     "data": {
      "text/plain": [
       "array([ 0.10303 ,  0.48005 , -0.50917 ,  0.142   , -0.58965 ,  0.17514 ,\n",
       "        0.084485, -0.56529 ,  0.10185 , -1.76    ], dtype=float32)"
      ]
     },
     "execution_count": 6,
     "metadata": {},
     "output_type": "execute_result"
    }
   ],
   "source": [
    "model_en['obama'][:10]"
   ]
  },
  {
   "cell_type": "markdown",
   "id": "226c4cee-61bf-41dd-82b0-fd57da226c48",
   "metadata": {},
   "source": [
    "Gensim nos provee funcionalidad para hacer operaciones útiles con estos vectores como buscar otros vectores similares de forma eficiente.\n",
    "\n",
    "Si bien todavía no vimos una utilidad práctica, que el resultado \"tenga sentido\" nos habla de que las representaciones realmente tienen potencial de ser útiles: las palabras \"relacionadas\" están cerca."
   ]
  },
  {
   "cell_type": "code",
   "execution_count": 7,
   "id": "4f7394df-0bd2-468e-9073-8fe5fc1341b3",
   "metadata": {},
   "outputs": [
    {
     "data": {
      "text/plain": [
       "[('barack', 0.9254721999168396),\n",
       " ('mccain', 0.7590768337249756),\n",
       " ('bush', 0.7570987939834595),\n",
       " ('clinton', 0.7085603475570679),\n",
       " ('hillary', 0.6497915387153625),\n",
       " ('kerry', 0.6144053339958191),\n",
       " ('rodham', 0.613863468170166),\n",
       " ('biden', 0.5940852165222168),\n",
       " ('gore', 0.5885975956916809),\n",
       " ('democrats', 0.5608304142951965)]"
      ]
     },
     "execution_count": 7,
     "metadata": {},
     "output_type": "execute_result"
    }
   ],
   "source": [
    "model_en.most_similar('obama')"
   ]
  },
  {
   "cell_type": "markdown",
   "id": "84f13b85-f70e-4c28-97cf-be70e072a871",
   "metadata": {},
   "source": [
    "A .most_similar también le podemos pasar un vector. En este caso, como no sabe de que palabra proviene el vector que le estamos pasando, la misma palabra \"obama\" aparecerá en el top ya que tiene similaridad 1 (en el otro caso gensim quita del top el resultado trivial de la misma palabra):"
   ]
  },
  {
   "cell_type": "code",
   "execution_count": 8,
   "id": "88a5b92b-536f-4768-a43e-dbee5a1d5cdb",
   "metadata": {},
   "outputs": [
    {
     "data": {
      "text/plain": [
       "[('obama', 1.0),\n",
       " ('barack', 0.9254721999168396),\n",
       " ('mccain', 0.7590768337249756),\n",
       " ('bush', 0.7570987939834595),\n",
       " ('clinton', 0.7085603475570679),\n",
       " ('hillary', 0.6497915387153625),\n",
       " ('kerry', 0.6144053339958191),\n",
       " ('rodham', 0.6138635277748108),\n",
       " ('biden', 0.5940852165222168),\n",
       " ('gore', 0.5885975956916809)]"
      ]
     },
     "execution_count": 8,
     "metadata": {},
     "output_type": "execute_result"
    }
   ],
   "source": [
    "model_en.most_similar(model_en['obama'])"
   ]
  },
  {
   "cell_type": "markdown",
   "id": "c914e304-0238-4974-b6cb-0634854e7454",
   "metadata": {},
   "source": [
    "Es importante tener en cuenta que si bien los embeddings codifican información, esa información tiene que estar disponible en el dataset en el que fueron entrenados. En este caso, en el momento en el que los embeddings fueron entrenados, trump no estaba asosciado con la presidencia de los estados unidos, y los embeddings similares al embedding de \"trump\" tienen que ver con los negocios y familia de Donald Trump:"
   ]
  },
  {
   "cell_type": "code",
   "execution_count": 9,
   "id": "f62690be-08cf-4bbd-acbf-6fb05440966f",
   "metadata": {},
   "outputs": [
    {
     "data": {
      "text/plain": [
       "[('ivana', 0.4999052882194519),\n",
       " ('melania', 0.45651501417160034),\n",
       " ('casino', 0.45222753286361694),\n",
       " ('nows', 0.44631344079971313),\n",
       " ('knauss', 0.4360748529434204),\n",
       " ('hilton', 0.4234515130519867),\n",
       " ('trumps', 0.41433754563331604),\n",
       " ('ivanka', 0.40609344840049744),\n",
       " ('resorts', 0.3992827832698822),\n",
       " ('wynn', 0.3902420997619629)]"
      ]
     },
     "execution_count": 9,
     "metadata": {},
     "output_type": "execute_result"
    }
   ],
   "source": [
    "model_en.most_similar('trump')"
   ]
  },
  {
   "cell_type": "markdown",
   "id": "87f284ed-022d-49d3-a75c-6cb123d5004d",
   "metadata": {},
   "source": [
    "Otra propiedad de los word embeddings que nos habla de su potencialidad de capturar significado son las \"meaning components\": si pensamos al embedding $e_w$ de la palabra $w$ como un punto en el espacio $\\mathbb{R}^{300}$ que representa la palabra $w$, luego el vector diferencia $e_b - e_a$ entre los embeddings de dos palabras $a$ y $b$, representarán la dirección de \"a hacia b\". Esta dirección puede tener un significado preciso si se piensa por ejemplo $e_{australian} - e_{australia}$ es la dirección de la palabra \"australia\" hacia \"australian\", o sea es la dirección que indica como transformar un país en una nacionalidad. \n",
    "\n",
    "![title](meaning_component.webp)\n",
    "\n",
    "Se puede corroborar que sumando esa misa dirección a otro país como \"mexican\", se obtiene un punto muy cercano a la respectiva nacionalidad \"mexican\""
   ]
  },
  {
   "cell_type": "code",
   "execution_count": 10,
   "id": "7a4fee66-a25a-4768-97f1-26eba0b2fd52",
   "metadata": {},
   "outputs": [
    {
     "data": {
      "text/plain": [
       "[('mexican', 0.8576371669769287),\n",
       " ('mexico', 0.7306691408157349),\n",
       " ('colombian', 0.5733058452606201),\n",
       " ('venezuelan', 0.5602331757545471),\n",
       " ('argentine', 0.5432359576225281),\n",
       " ('spanish', 0.5182245373725891),\n",
       " ('bolivian', 0.5015351176261902),\n",
       " ('peruvian', 0.5009693503379822),\n",
       " ('chilean', 0.4896966516971588),\n",
       " ('tijuana', 0.46829572319984436)]"
      ]
     },
     "execution_count": 10,
     "metadata": {},
     "output_type": "execute_result"
    }
   ],
   "source": [
    "from_country_to_nationality = model_en['australian'] - model_en['australia']\n",
    "model_en.most_similar(from_country_to_nationality + model_en['mexico'])"
   ]
  },
  {
   "cell_type": "markdown",
   "id": "fe1a6cf7-20b3-45cc-bb08-5470568042a7",
   "metadata": {},
   "source": [
    "Gensim provee de funcionalidad para hacer esto en una sola linea, con los argumentos positive y negative de la función most_similar. Además, excluye de las búsqueda a las palabras de \"positive\" (notar que \"mexico\" no aparece ya entre los resultados) ya que son resultados triviales."
   ]
  },
  {
   "cell_type": "code",
   "execution_count": 11,
   "id": "03f4fa5a-fc8f-4a6c-9b1f-5e86ddae8c26",
   "metadata": {},
   "outputs": [
    {
     "data": {
      "text/plain": [
       "[('mexican', 0.8613249659538269),\n",
       " ('colombian', 0.5716720819473267),\n",
       " ('venezuelan', 0.5595687031745911),\n",
       " ('argentine', 0.5421301126480103),\n",
       " ('spanish', 0.5189327001571655),\n",
       " ('bolivian', 0.5003634095191956),\n",
       " ('peruvian', 0.5000406503677368),\n",
       " ('chilean', 0.48860830068588257),\n",
       " ('tijuana', 0.47381317615509033),\n",
       " ('american', 0.4659227132797241)]"
      ]
     },
     "execution_count": 11,
     "metadata": {},
     "output_type": "execute_result"
    }
   ],
   "source": [
    "model_en.most_similar(positive=['australian', 'mexico'], negative=['australia'])"
   ]
  },
  {
   "cell_type": "markdown",
   "id": "7ec83192-ac67-4edf-bf98-5074ca926932",
   "metadata": {},
   "source": [
    "En otras palabras, cuando hacemos esto estamos calculando analogías: \"$X_1$ es a $X_2$ como $Y_1$ es a ...\".\n",
    "\n",
    "Podemos implementar una función para calcular analogías:"
   ]
  },
  {
   "cell_type": "code",
   "execution_count": 13,
   "id": "59ca53ff-92e9-41f2-a250-6b60168313de",
   "metadata": {},
   "outputs": [],
   "source": [
    "def analogy(model, x1, x2, y1):\n",
    "    result = model.most_similar(positive=[y1, x2], negative=[x1])\n",
    "    return result[0][0]"
   ]
  },
  {
   "cell_type": "markdown",
   "id": "8fd6aa51-69ec-4b93-9ccd-5dc3763e63f2",
   "metadata": {},
   "source": [
    "Las analogías capturan significados:\n",
    "- De género.\n",
    "- Gramaticales.\n",
    "- Información factual (\"Es capital de ...\")"
   ]
  },
  {
   "cell_type": "code",
   "execution_count": 14,
   "id": "6145bb83-95e1-4eca-8adf-6b00d10b0093",
   "metadata": {},
   "outputs": [
    {
     "data": {
      "text/plain": [
       "'queen'"
      ]
     },
     "execution_count": 14,
     "metadata": {},
     "output_type": "execute_result"
    }
   ],
   "source": [
    "analogy(model_en, 'man', 'king', 'woman')"
   ]
  },
  {
   "cell_type": "code",
   "execution_count": 15,
   "id": "c8c97a8d-201a-4749-9e0d-93a278812ce9",
   "metadata": {},
   "outputs": [
    {
     "data": {
      "text/plain": [
       "'thought'"
      ]
     },
     "execution_count": 15,
     "metadata": {},
     "output_type": "execute_result"
    }
   ],
   "source": [
    "analogy(model_en, 'walk', 'walked', 'think')"
   ]
  },
  {
   "cell_type": "code",
   "execution_count": 16,
   "id": "47b48e16-d100-45e0-9f99-a6ae324faf2e",
   "metadata": {},
   "outputs": [
    {
     "data": {
      "text/plain": [
       "'kiev'"
      ]
     },
     "execution_count": 16,
     "metadata": {},
     "output_type": "execute_result"
    }
   ],
   "source": [
    "analogy(model_en, 'germany', 'berlin', 'ukraine')"
   ]
  },
  {
   "cell_type": "markdown",
   "id": "5f8be17c-4935-4b18-8a02-d9c4a38df139",
   "metadata": {},
   "source": [
    "#### Ethical warning\n",
    "\n",
    "Es importante recalcar que los modelos, así como capturan información factual de los datos de entrenamiento, también capturan sesgos y pueden repetirlos.\n",
    "\n",
    "En este caso le hicimos calcular la siguiente analogía: \"{man, he, gentleman} es a programmer como {women, she, lady} es a ...\"\n",
    "Y el modelo contesta entre sus respuestas probables: actress, pregnant, mother."
   ]
  },
  {
   "cell_type": "code",
   "execution_count": 14,
   "id": "ca7a3330-d016-4987-bed8-0883fbc36cfd",
   "metadata": {},
   "outputs": [
    {
     "data": {
      "text/plain": [
       "[('actress', 0.4465254247188568),\n",
       " ('herself', 0.4092317521572113),\n",
       " ('her', 0.4046404957771301),\n",
       " ('pregnant', 0.40257561206817627),\n",
       " ('mother', 0.3984251618385315),\n",
       " ('linda', 0.39298215508461),\n",
       " ('sister', 0.3816814720630646),\n",
       " ('michelle', 0.3761267364025116),\n",
       " ('mary', 0.3757179081439972),\n",
       " ('laura', 0.3712882995605469)]"
      ]
     },
     "execution_count": 14,
     "metadata": {},
     "output_type": "execute_result"
    }
   ],
   "source": [
    "model_en.most_similar(positive=['woman', 'she', 'lady', 'programmer'], negative=['man', 'he', 'gentleman'])"
   ]
  },
  {
   "cell_type": "markdown",
   "id": "2e5e5f85-974f-45c7-9d74-e9ddc81fc535",
   "metadata": {},
   "source": [
    "#### Más funcionalidad de Gensim\n",
    "\n",
    "Gensim contiene muchas funciones extras como .doesnt_match, detectar las palabra que no pertenece a cierto grupo de palabras.\n",
    "Podemos ver todas las funciones disponibles de nuestros word vectors [aquí](https://radimrehurek.com/gensim/models/keyedvectors.html)."
   ]
  },
  {
   "cell_type": "code",
   "execution_count": 17,
   "id": "a9ce3183-06bf-4898-a6f7-1d290cc9b7fb",
   "metadata": {},
   "outputs": [
    {
     "name": "stdout",
     "output_type": "stream",
     "text": [
      "cereal\n"
     ]
    }
   ],
   "source": [
    "print(model_en.doesnt_match(\"breakfast cereal dinner lunch\".split()))"
   ]
  },
  {
   "cell_type": "markdown",
   "id": "eb971877-3269-44cf-a37d-25b869b6de9f",
   "metadata": {
    "jp-MarkdownHeadingCollapsed": true
   },
   "source": [
    "#### Ejercicio 1: \"Embeddings en español\" (obligatorio)\n",
    "\n",
    "Para palabras en español utilizaremos embeddings entrenados con FastText que hemos descargado del [repositorio](https://github.com/dccuchile/spanish-word-embeddings). Particularmente el archivo utilizado se puede descargar de [aquí](https://zenodo.org/record/3234051/files/embeddings-l-model.vec).\n",
    "\n",
    "El ejercicio consiste en:\n",
    "1. Cargar los embeddings linkeados utilizados la librería Gensim\n",
    "2. Dar 1 ejemplo de most_similar para una palabra en español.\n",
    "3. Dar 1 ejemplo de un \"fallo\" similar a lo que ocurría con \"trump\" en most_similar para una palabra en español: donde el embedding desconozca cierta información por el año en dodne fue entrenado.\n",
    "4. Dar 5 ejemplos de analogías. Es necesario reescribir la función analogy?\n",
    "5. Dar 1 ejemplo donde el modelo replique sesgos presentes en los datos que considere pernicioso.\n",
    "\n"
   ]
  },
  {
   "cell_type": "markdown",
   "id": "08a54301-9c68-45a9-beab-0094f4660881",
   "metadata": {},
   "source": [
    "#### Ejercicio 1 (solución)\n",
    "\n",
    "Tratar de resolver sin mirar la solución.\n"
   ]
  },
  {
   "cell_type": "code",
   "execution_count": 18,
   "id": "d90e6b6b-263c-4fb5-bfeb-ec410d9fdbbb",
   "metadata": {},
   "outputs": [],
   "source": [
    "model_es = KeyedVectors.load_word2vec_format('../models/embeddings-l-model.vec')"
   ]
  },
  {
   "cell_type": "code",
   "execution_count": 19,
   "id": "daf8bcbd-3600-4933-aaa3-6efafad60683",
   "metadata": {},
   "outputs": [
    {
     "data": {
      "text/plain": [
       "[('asada', 0.7902636528015137),\n",
       " ('asados', 0.7901856899261475),\n",
       " ('guiso', 0.7752070426940918),\n",
       " ('estofado', 0.7731484174728394),\n",
       " ('asadas', 0.770538330078125),\n",
       " ('pollo', 0.761725664138794),\n",
       " ('chorizo', 0.7508561015129089),\n",
       " ('asador', 0.7376899123191833),\n",
       " ('churrasco', 0.7269676923751831),\n",
       " ('guisado', 0.7253041863441467)]"
      ]
     },
     "execution_count": 19,
     "metadata": {},
     "output_type": "execute_result"
    }
   ],
   "source": [
    "model_es.most_similar('asado')"
   ]
  },
  {
   "cell_type": "code",
   "execution_count": 22,
   "id": "35a6a7cd-1aa6-46f8-a953-f49645cf499e",
   "metadata": {},
   "outputs": [
    {
     "data": {
      "text/plain": [
       "[('neymar', 0.772021472454071),\n",
       " ('ronaldinho', 0.7494037747383118),\n",
       " ('tévez', 0.7455589771270752),\n",
       " ('higuaín', 0.7395713329315186),\n",
       " ('maradona', 0.7223870754241943),\n",
       " ('zinedine', 0.7179876565933228),\n",
       " ('forlán', 0.7102377414703369),\n",
       " ('falcao', 0.7088690996170044),\n",
       " ('kaká', 0.7069801092147827),\n",
       " ('ibrahimović', 0.7039478421211243)]"
      ]
     },
     "execution_count": 22,
     "metadata": {},
     "output_type": "execute_result"
    }
   ],
   "source": [
    "model_es.most_similar('messi')"
   ]
  },
  {
   "cell_type": "code",
   "execution_count": 23,
   "id": "10d8d10f-fac7-488a-875c-252210650548",
   "metadata": {},
   "outputs": [
    {
     "data": {
      "text/plain": [
       "[('mileidy', 0.6162314414978027),\n",
       " ('archilei', 0.5704389810562134),\n",
       " ('milessi', 0.564062237739563),\n",
       " ('milea', 0.5424215793609619),\n",
       " ('zilei', 0.5419692993164062),\n",
       " ('leilei', 0.5339961051940918),\n",
       " ('montironi', 0.5273367762565613),\n",
       " ('jucilei', 0.5159411430358887),\n",
       " ('iannaccone', 0.5134119987487793),\n",
       " ('miledi', 0.512912392616272)]"
      ]
     },
     "execution_count": 23,
     "metadata": {},
     "output_type": "execute_result"
    }
   ],
   "source": [
    "model_es.most_similar('milei')"
   ]
  },
  {
   "cell_type": "code",
   "execution_count": 26,
   "id": "dcf9a559-5dbb-4a9a-8c13-b8b1b6711d3d",
   "metadata": {},
   "outputs": [
    {
     "data": {
      "text/plain": [
       "'cocinera'"
      ]
     },
     "execution_count": 26,
     "metadata": {},
     "output_type": "execute_result"
    }
   ],
   "source": [
    "analogy(model_es, 'hombre', 'cocinero', 'mujer')"
   ]
  },
  {
   "cell_type": "code",
   "execution_count": 27,
   "id": "d0c002df-0d9a-4c58-a7e7-42a672336d3a",
   "metadata": {},
   "outputs": [
    {
     "data": {
      "text/plain": [
       "'comiendo'"
      ]
     },
     "execution_count": 27,
     "metadata": {},
     "output_type": "execute_result"
    }
   ],
   "source": [
    "analogy(model_es, 'habalar', 'hablando', 'comer')"
   ]
  },
  {
   "cell_type": "code",
   "execution_count": 28,
   "id": "137babd5-3727-4b2a-b2bf-2de9f3faef8c",
   "metadata": {},
   "outputs": [
    {
     "data": {
      "text/plain": [
       "'paris'"
      ]
     },
     "execution_count": 28,
     "metadata": {},
     "output_type": "execute_result"
    }
   ],
   "source": [
    "analogy(model_es, 'alemania', 'berlin', 'francia')"
   ]
  },
  {
   "cell_type": "code",
   "execution_count": 29,
   "id": "dd8fcd88-06ce-4f05-babd-80cc8ef458e6",
   "metadata": {},
   "outputs": [
    {
     "data": {
      "text/plain": [
       "'ronaldinho'"
      ]
     },
     "execution_count": 29,
     "metadata": {},
     "output_type": "execute_result"
    }
   ],
   "source": [
    "analogy(model_es, 'argentina', 'maradona', 'brasil')"
   ]
  },
  {
   "cell_type": "code",
   "execution_count": 30,
   "id": "9a15224e-92cc-4687-b6e3-fff6903356dd",
   "metadata": {},
   "outputs": [
    {
     "data": {
      "text/plain": [
       "'tolkien'"
      ]
     },
     "execution_count": 30,
     "metadata": {},
     "output_type": "execute_result"
    }
   ],
   "source": [
    "analogy(model_es, 'harry', 'rowling', 'anillos')"
   ]
  },
  {
   "cell_type": "code",
   "execution_count": 31,
   "id": "aebbe775-3ae7-4597-8f5d-556f3137a027",
   "metadata": {},
   "outputs": [
    {
     "data": {
      "text/plain": [
       "[('trabajadora', 0.5435466766357422),\n",
       " ('costurera', 0.48017582297325134),\n",
       " ('lesbiana', 0.4611666202545166),\n",
       " ('obradora', 0.4599410593509674),\n",
       " ('obrera', 0.4563603699207306),\n",
       " ('vividora', 0.44954487681388855),\n",
       " ('tipógrafa', 0.44897523522377014),\n",
       " ('cizkova', 0.4488752484321594),\n",
       " ('pañera', 0.4467610716819763),\n",
       " ('socialadora', 0.4435802400112152)]"
      ]
     },
     "execution_count": 31,
     "metadata": {},
     "output_type": "execute_result"
    }
   ],
   "source": [
    "women_terms_es = ['mujer', 'ella', 'chica']\n",
    "men_terms_es = ['hombre', 'el', 'chico']\n",
    "model_es.most_similar(positive=women_terms_es+['obrero'], negative=men_terms_es)"
   ]
  },
  {
   "cell_type": "code",
   "execution_count": 32,
   "id": "b48e7269-54f3-45bf-9aa0-11aa55683409",
   "metadata": {},
   "outputs": [
    {
     "data": {
      "text/plain": [
       "[('obrero', 0.41873669624328613),\n",
       " ('reaccionario', 0.4009731113910675),\n",
       " ('revolucionario', 0.39405152201652527),\n",
       " ('améwicano', 0.39144861698150635),\n",
       " ('proletario', 0.39072349667549133),\n",
       " ('maderoso', 0.3807927668094635),\n",
       " ('burgués', 0.3793873190879822),\n",
       " ('sindicalismo', 0.3717118799686432),\n",
       " ('copador', 0.3708193004131317),\n",
       " ('aunario', 0.3698670566082001)]"
      ]
     },
     "execution_count": 32,
     "metadata": {},
     "output_type": "execute_result"
    }
   ],
   "source": [
    "model_es.most_similar(positive=men_terms_es+['obrera'], negative=women_terms_es)"
   ]
  },
  {
   "cell_type": "markdown",
   "id": "8673bc0d-86b4-4c22-84d7-800d4a89f48c",
   "metadata": {},
   "source": [
    "## Utilizando Word Embedding para clasificar texto\n",
    "\n",
    "Éstas propiedades deseables analizadas nos dicen que los embeddings calculados tienen sentido, no son simplemente vectores aleatorios. Pero ... sirven para algo práctico?\n",
    "\n",
    "Resulta que como, no es de sorprender, son buenas features para utilizar en algoritmos de Machine Learning. Por ejemplo si queremos clasificar texto podemos crear features del texto utilizando los word embeddings.\n",
    "\n",
    "Mostraremos este hecho en el dataset [Large Movie Review Dataset](https://ai.stanford.edu/~amaas/data/sentiment/) que contiene reviews de películas y el respectivo \"sentimiento\": \"positivo\" o \"negativo\", según si el usuario acompañó su review con un voto positivo o negativo.\n",
    "\n",
    "Nosotros ya lo hemos descargado en la carpeta \"../data/aclImb/\". El dataset tiene una estructura bastante típica de los datasets (no solo de texto):\n",
    "- Contiene dos subcarpetas \"train\" y \"test\": el dataset ya define cuál será el conjunto de test para que los resultados de diferentes trabajos sean comparables. Si vamos a sacar datos para validación (porque queremos probar varias configuraciones de hiperparámetros), tendremos que utilizar los datos de la carpeta \"train\" (en este sentido estos datos serían los denominados datos de \"desarrollo\", o sea todos los datos sobre los cuales vamos a tomar decisiones, tanto validación como training).\n",
    "- Dentro de cada carpeta \"train\" y \"test\" existen subcarpetas \"pos\" y \"neg\" que contienen archivos de texto. Cada archivo es una review. La clase de cada review se la da el nombre de la subcarpeta donde se encuentra (\"pos\" y \"neg\").\n",
    "- Existen otros archivos que vamos a ignorar para esta tarea. Muchas veces los datasets incluyen otra información como metadatos o incluso datos para otros tipos de tareas."
   ]
  },
  {
   "cell_type": "code",
   "execution_count": 1,
   "id": "a957f55c-a047-4363-9aa9-5122ed50acf0",
   "metadata": {},
   "outputs": [
    {
     "data": {
      "text/html": [
       "<div>\n",
       "<style scoped>\n",
       "    .dataframe tbody tr th:only-of-type {\n",
       "        vertical-align: middle;\n",
       "    }\n",
       "\n",
       "    .dataframe tbody tr th {\n",
       "        vertical-align: top;\n",
       "    }\n",
       "\n",
       "    .dataframe thead th {\n",
       "        text-align: right;\n",
       "    }\n",
       "</style>\n",
       "<table border=\"1\" class=\"dataframe\">\n",
       "  <thead>\n",
       "    <tr style=\"text-align: right;\">\n",
       "      <th></th>\n",
       "      <th>text</th>\n",
       "      <th>class</th>\n",
       "    </tr>\n",
       "  </thead>\n",
       "  <tbody>\n",
       "  </tbody>\n",
       "</table>\n",
       "</div>"
      ],
      "text/plain": [
       "Empty DataFrame\n",
       "Columns: [text, class]\n",
       "Index: []"
      ]
     },
     "execution_count": 1,
     "metadata": {},
     "output_type": "execute_result"
    }
   ],
   "source": [
    "import os.path \n",
    "import glob\n",
    "import pandas as pd\n",
    "\n",
    "dataset_path = '../data/aclImdb/'\n",
    "\n",
    "cls = ['pos', 'neg']\n",
    "\n",
    "def get_text(file_path):\n",
    "    with open(file_path, 'r') as f:\n",
    "        return '\\n'.join(f.readlines())\n",
    "\n",
    "def load_dataset(is_train, limit):\n",
    "    data_path = os.path.join(dataset_path, 'train' if is_train else 'test')\n",
    "    data = []\n",
    "    limit_per_class = limit//2\n",
    "    for c in cls:\n",
    "        class_path = os.path.join(data_path,c)\n",
    "        regex_glob = os.path.join(class_path,\"*.txt\")\n",
    "        for i, file_path in enumerate(glob.glob(regex_glob)):\n",
    "            if i == limit_per_class:\n",
    "                break\n",
    "            data.append((get_text(file_path),c))\n",
    "    return pd.DataFrame(data=data,columns=['text', 'class'])\n",
    "            \n",
    "        \n",
    "df = load_dataset(is_train=True, limit=100000).sample(frac=1)\n",
    "df.head(10)"
   ]
  },
  {
   "cell_type": "markdown",
   "id": "d867e39c-dee9-45ac-9357-fb1055827979",
   "metadata": {},
   "source": [
    "Podemos visualizar el primer comentario que es claramente negativo (\"This movie is terrible\"). Visualizar también nos es útil para entender la dificultad de la tarea. Como podemos ver las reviews son largas, llenas de información dificilmente relevante para el objetivo de la tarea:"
   ]
  },
  {
   "cell_type": "code",
   "execution_count": 28,
   "id": "70901d63-82a8-4bb4-a466-5854278a5076",
   "metadata": {},
   "outputs": [
    {
     "name": "stdout",
     "output_type": "stream",
     "text": [
      "I saw this movie when i was much younger and i thought it was funny. I saw it again last week, and you can guess the result. Some funny parts in it, very few and too long. The beginning is the only thing that is funny if you ask me.<br /><br />If you want a total b-movie this is a good pick, but don't expect too much from aliens dwarf size\n"
     ]
    }
   ],
   "source": [
    "print(df.iloc[0]['text'])"
   ]
  },
  {
   "cell_type": "markdown",
   "id": "e639f215-b253-48af-b64a-7b9b72d37a83",
   "metadata": {},
   "source": [
    "Nuestras features (o variable independiente) son textos. Cómo obtener un array de features del texto dado nuestros word embeddings?\n",
    "\n",
    "Primero que nada, es necesario calcular la secuencia de palabras que aparece en el texto.\n",
    "\n",
    "Para calcular las features del texto existen diferentes formas. Siempre implicará calcular los embeddings de las palabras para luego:\n",
    "1. Calcular la suma.\n",
    "2. Calcular la media\n",
    "3. Calcular otro agregado (max, min, etc). O una combinación de ellos.\n",
    "4. Concatenarlos. En este caso hay que decidir cuántos embeddings vamos a concatenar y agregar padding (embedding de ceros) para rellenar comentarios cortos y truncar comentarios largos. Recordar que todos los samples tienen que tener la misma cantidad de features para utilizar una algoritmos de Machine Learning.\n",
    "\n",
    "Nosotros vamos a optar por el punto 2"
   ]
  },
  {
   "cell_type": "code",
   "execution_count": 29,
   "id": "708c3a88-494f-4d7e-9177-89343e7d1709",
   "metadata": {},
   "outputs": [
    {
     "data": {
      "text/plain": [
       "['this',\n",
       " 'movie',\n",
       " 'is',\n",
       " 'terrible',\n",
       " '.',\n",
       " 'i',\n",
       " 'watch',\n",
       " 'crappy',\n",
       " 'movies',\n",
       " 'for',\n",
       " 'fun',\n",
       " '.']"
      ]
     },
     "execution_count": 29,
     "metadata": {},
     "output_type": "execute_result"
    }
   ],
   "source": [
    "import nltk\n",
    "\n",
    "text = 'This movie is terrible. I watch crappy movies for fun.'\n",
    "words = nltk.word_tokenize(text.lower())\n",
    "words"
   ]
  },
  {
   "cell_type": "code",
   "execution_count": 30,
   "id": "db58d39f-4bbf-4f5f-b050-c598f19d9d74",
   "metadata": {},
   "outputs": [
    {
     "data": {
      "text/plain": [
       "(300,)"
      ]
     },
     "execution_count": 30,
     "metadata": {},
     "output_type": "execute_result"
    }
   ],
   "source": [
    "def get_text_embedding(text):\n",
    "    words = nltk.word_tokenize(text.lower())\n",
    "    l = [model_en[w] for w in words if w in model_en]\n",
    "    if not l:\n",
    "        return np.zeros((300,))\n",
    "    return np.array(l).mean(axis=0)\n",
    "get_text_embedding(text).shape "
   ]
  },
  {
   "cell_type": "markdown",
   "id": "11005f66-c924-449a-903f-a6a521b25699",
   "metadata": {},
   "source": [
    "Llego el momento de calcular los embeddings de todo el texto:"
   ]
  },
  {
   "cell_type": "code",
   "execution_count": 31,
   "id": "343b12ee-6cea-4fe2-be2f-022719b586a7",
   "metadata": {},
   "outputs": [],
   "source": [
    "import tqdm\n",
    "\n",
    "def get_df_embeddings(df):\n",
    "    embs = []\n",
    "    for i, row in tqdm.tqdm(df.iterrows(), total=len(df)):\n",
    "        embs.append(get_text_embedding(row['text']))\n",
    "    embs=np.array(embs)\n",
    "    return embs"
   ]
  },
  {
   "cell_type": "code",
   "execution_count": 32,
   "id": "8ca6c09e-4eae-45ad-a23f-887fe3c7784d",
   "metadata": {},
   "outputs": [
    {
     "name": "stderr",
     "output_type": "stream",
     "text": [
      "100%|███████████████████| 25000/25000 [00:20<00:00, 1236.83it/s]\n"
     ]
    }
   ],
   "source": [
    "X = get_df_embeddings(df)"
   ]
  },
  {
   "cell_type": "markdown",
   "id": "1e04861f-2b16-4865-828e-d46366759205",
   "metadata": {},
   "source": [
    "Y calcularemos las targets (variable dependiente):"
   ]
  },
  {
   "cell_type": "code",
   "execution_count": 33,
   "id": "faa282f3-3fa5-4f7b-9938-42d913e7432d",
   "metadata": {},
   "outputs": [
    {
     "data": {
      "text/plain": [
       "22148    0\n",
       "5888     1\n",
       "24595    0\n",
       "16694    0\n",
       "2011     1\n",
       "        ..\n",
       "10607    1\n",
       "14079    0\n",
       "1754     1\n",
       "13910    0\n",
       "15415    0\n",
       "Name: class, Length: 25000, dtype: int64"
      ]
     },
     "execution_count": 33,
     "metadata": {},
     "output_type": "execute_result"
    }
   ],
   "source": [
    "y = (df['class']=='pos').astype(int)\n",
    "y"
   ]
  },
  {
   "cell_type": "markdown",
   "id": "42bf118c-db2a-4302-8f72-6bf6f857c49b",
   "metadata": {},
   "source": [
    "Nos separaremos un split de validación:"
   ]
  },
  {
   "cell_type": "code",
   "execution_count": 34,
   "id": "d437a797-cc2d-4edc-931d-8c1d36edbae6",
   "metadata": {},
   "outputs": [
    {
     "data": {
      "text/plain": [
       "((20000, 300), (5000, 300), (20000,), (5000,))"
      ]
     },
     "execution_count": 34,
     "metadata": {},
     "output_type": "execute_result"
    }
   ],
   "source": [
    "from sklearn.model_selection import train_test_split\n",
    "\n",
    "X_train, X_valid, y_train, y_valid = train_test_split(X, y, test_size=0.2, random_state=42)\n",
    "X_train.shape, X_valid.shape, y_train.shape, y_valid.shape"
   ]
  },
  {
   "cell_type": "markdown",
   "id": "6b49bf41-e1a4-4451-9ff4-e56da949a3aa",
   "metadata": {},
   "source": [
    "Y finalmente entrenaremos y evaluaremos algunos clasificadores simples: uno basado en KNN y otro basado en RandomForest."
   ]
  },
  {
   "cell_type": "code",
   "execution_count": 35,
   "id": "e6e71fb8-3131-441a-8014-6e159a56c85b",
   "metadata": {},
   "outputs": [
    {
     "data": {
      "text/html": [
       "<style>#sk-container-id-1 {\n",
       "  /* Definition of color scheme common for light and dark mode */\n",
       "  --sklearn-color-text: black;\n",
       "  --sklearn-color-line: gray;\n",
       "  /* Definition of color scheme for unfitted estimators */\n",
       "  --sklearn-color-unfitted-level-0: #fff5e6;\n",
       "  --sklearn-color-unfitted-level-1: #f6e4d2;\n",
       "  --sklearn-color-unfitted-level-2: #ffe0b3;\n",
       "  --sklearn-color-unfitted-level-3: chocolate;\n",
       "  /* Definition of color scheme for fitted estimators */\n",
       "  --sklearn-color-fitted-level-0: #f0f8ff;\n",
       "  --sklearn-color-fitted-level-1: #d4ebff;\n",
       "  --sklearn-color-fitted-level-2: #b3dbfd;\n",
       "  --sklearn-color-fitted-level-3: cornflowerblue;\n",
       "\n",
       "  /* Specific color for light theme */\n",
       "  --sklearn-color-text-on-default-background: var(--sg-text-color, var(--theme-code-foreground, var(--jp-content-font-color1, black)));\n",
       "  --sklearn-color-background: var(--sg-background-color, var(--theme-background, var(--jp-layout-color0, white)));\n",
       "  --sklearn-color-border-box: var(--sg-text-color, var(--theme-code-foreground, var(--jp-content-font-color1, black)));\n",
       "  --sklearn-color-icon: #696969;\n",
       "\n",
       "  @media (prefers-color-scheme: dark) {\n",
       "    /* Redefinition of color scheme for dark theme */\n",
       "    --sklearn-color-text-on-default-background: var(--sg-text-color, var(--theme-code-foreground, var(--jp-content-font-color1, white)));\n",
       "    --sklearn-color-background: var(--sg-background-color, var(--theme-background, var(--jp-layout-color0, #111)));\n",
       "    --sklearn-color-border-box: var(--sg-text-color, var(--theme-code-foreground, var(--jp-content-font-color1, white)));\n",
       "    --sklearn-color-icon: #878787;\n",
       "  }\n",
       "}\n",
       "\n",
       "#sk-container-id-1 {\n",
       "  color: var(--sklearn-color-text);\n",
       "}\n",
       "\n",
       "#sk-container-id-1 pre {\n",
       "  padding: 0;\n",
       "}\n",
       "\n",
       "#sk-container-id-1 input.sk-hidden--visually {\n",
       "  border: 0;\n",
       "  clip: rect(1px 1px 1px 1px);\n",
       "  clip: rect(1px, 1px, 1px, 1px);\n",
       "  height: 1px;\n",
       "  margin: -1px;\n",
       "  overflow: hidden;\n",
       "  padding: 0;\n",
       "  position: absolute;\n",
       "  width: 1px;\n",
       "}\n",
       "\n",
       "#sk-container-id-1 div.sk-dashed-wrapped {\n",
       "  border: 1px dashed var(--sklearn-color-line);\n",
       "  margin: 0 0.4em 0.5em 0.4em;\n",
       "  box-sizing: border-box;\n",
       "  padding-bottom: 0.4em;\n",
       "  background-color: var(--sklearn-color-background);\n",
       "}\n",
       "\n",
       "#sk-container-id-1 div.sk-container {\n",
       "  /* jupyter's `normalize.less` sets `[hidden] { display: none; }`\n",
       "     but bootstrap.min.css set `[hidden] { display: none !important; }`\n",
       "     so we also need the `!important` here to be able to override the\n",
       "     default hidden behavior on the sphinx rendered scikit-learn.org.\n",
       "     See: https://github.com/scikit-learn/scikit-learn/issues/21755 */\n",
       "  display: inline-block !important;\n",
       "  position: relative;\n",
       "}\n",
       "\n",
       "#sk-container-id-1 div.sk-text-repr-fallback {\n",
       "  display: none;\n",
       "}\n",
       "\n",
       "div.sk-parallel-item,\n",
       "div.sk-serial,\n",
       "div.sk-item {\n",
       "  /* draw centered vertical line to link estimators */\n",
       "  background-image: linear-gradient(var(--sklearn-color-text-on-default-background), var(--sklearn-color-text-on-default-background));\n",
       "  background-size: 2px 100%;\n",
       "  background-repeat: no-repeat;\n",
       "  background-position: center center;\n",
       "}\n",
       "\n",
       "/* Parallel-specific style estimator block */\n",
       "\n",
       "#sk-container-id-1 div.sk-parallel-item::after {\n",
       "  content: \"\";\n",
       "  width: 100%;\n",
       "  border-bottom: 2px solid var(--sklearn-color-text-on-default-background);\n",
       "  flex-grow: 1;\n",
       "}\n",
       "\n",
       "#sk-container-id-1 div.sk-parallel {\n",
       "  display: flex;\n",
       "  align-items: stretch;\n",
       "  justify-content: center;\n",
       "  background-color: var(--sklearn-color-background);\n",
       "  position: relative;\n",
       "}\n",
       "\n",
       "#sk-container-id-1 div.sk-parallel-item {\n",
       "  display: flex;\n",
       "  flex-direction: column;\n",
       "}\n",
       "\n",
       "#sk-container-id-1 div.sk-parallel-item:first-child::after {\n",
       "  align-self: flex-end;\n",
       "  width: 50%;\n",
       "}\n",
       "\n",
       "#sk-container-id-1 div.sk-parallel-item:last-child::after {\n",
       "  align-self: flex-start;\n",
       "  width: 50%;\n",
       "}\n",
       "\n",
       "#sk-container-id-1 div.sk-parallel-item:only-child::after {\n",
       "  width: 0;\n",
       "}\n",
       "\n",
       "/* Serial-specific style estimator block */\n",
       "\n",
       "#sk-container-id-1 div.sk-serial {\n",
       "  display: flex;\n",
       "  flex-direction: column;\n",
       "  align-items: center;\n",
       "  background-color: var(--sklearn-color-background);\n",
       "  padding-right: 1em;\n",
       "  padding-left: 1em;\n",
       "}\n",
       "\n",
       "\n",
       "/* Toggleable style: style used for estimator/Pipeline/ColumnTransformer box that is\n",
       "clickable and can be expanded/collapsed.\n",
       "- Pipeline and ColumnTransformer use this feature and define the default style\n",
       "- Estimators will overwrite some part of the style using the `sk-estimator` class\n",
       "*/\n",
       "\n",
       "/* Pipeline and ColumnTransformer style (default) */\n",
       "\n",
       "#sk-container-id-1 div.sk-toggleable {\n",
       "  /* Default theme specific background. It is overwritten whether we have a\n",
       "  specific estimator or a Pipeline/ColumnTransformer */\n",
       "  background-color: var(--sklearn-color-background);\n",
       "}\n",
       "\n",
       "/* Toggleable label */\n",
       "#sk-container-id-1 label.sk-toggleable__label {\n",
       "  cursor: pointer;\n",
       "  display: block;\n",
       "  width: 100%;\n",
       "  margin-bottom: 0;\n",
       "  padding: 0.5em;\n",
       "  box-sizing: border-box;\n",
       "  text-align: center;\n",
       "}\n",
       "\n",
       "#sk-container-id-1 label.sk-toggleable__label-arrow:before {\n",
       "  /* Arrow on the left of the label */\n",
       "  content: \"▸\";\n",
       "  float: left;\n",
       "  margin-right: 0.25em;\n",
       "  color: var(--sklearn-color-icon);\n",
       "}\n",
       "\n",
       "#sk-container-id-1 label.sk-toggleable__label-arrow:hover:before {\n",
       "  color: var(--sklearn-color-text);\n",
       "}\n",
       "\n",
       "/* Toggleable content - dropdown */\n",
       "\n",
       "#sk-container-id-1 div.sk-toggleable__content {\n",
       "  max-height: 0;\n",
       "  max-width: 0;\n",
       "  overflow: hidden;\n",
       "  text-align: left;\n",
       "  /* unfitted */\n",
       "  background-color: var(--sklearn-color-unfitted-level-0);\n",
       "}\n",
       "\n",
       "#sk-container-id-1 div.sk-toggleable__content.fitted {\n",
       "  /* fitted */\n",
       "  background-color: var(--sklearn-color-fitted-level-0);\n",
       "}\n",
       "\n",
       "#sk-container-id-1 div.sk-toggleable__content pre {\n",
       "  margin: 0.2em;\n",
       "  border-radius: 0.25em;\n",
       "  color: var(--sklearn-color-text);\n",
       "  /* unfitted */\n",
       "  background-color: var(--sklearn-color-unfitted-level-0);\n",
       "}\n",
       "\n",
       "#sk-container-id-1 div.sk-toggleable__content.fitted pre {\n",
       "  /* unfitted */\n",
       "  background-color: var(--sklearn-color-fitted-level-0);\n",
       "}\n",
       "\n",
       "#sk-container-id-1 input.sk-toggleable__control:checked~div.sk-toggleable__content {\n",
       "  /* Expand drop-down */\n",
       "  max-height: 200px;\n",
       "  max-width: 100%;\n",
       "  overflow: auto;\n",
       "}\n",
       "\n",
       "#sk-container-id-1 input.sk-toggleable__control:checked~label.sk-toggleable__label-arrow:before {\n",
       "  content: \"▾\";\n",
       "}\n",
       "\n",
       "/* Pipeline/ColumnTransformer-specific style */\n",
       "\n",
       "#sk-container-id-1 div.sk-label input.sk-toggleable__control:checked~label.sk-toggleable__label {\n",
       "  color: var(--sklearn-color-text);\n",
       "  background-color: var(--sklearn-color-unfitted-level-2);\n",
       "}\n",
       "\n",
       "#sk-container-id-1 div.sk-label.fitted input.sk-toggleable__control:checked~label.sk-toggleable__label {\n",
       "  background-color: var(--sklearn-color-fitted-level-2);\n",
       "}\n",
       "\n",
       "/* Estimator-specific style */\n",
       "\n",
       "/* Colorize estimator box */\n",
       "#sk-container-id-1 div.sk-estimator input.sk-toggleable__control:checked~label.sk-toggleable__label {\n",
       "  /* unfitted */\n",
       "  background-color: var(--sklearn-color-unfitted-level-2);\n",
       "}\n",
       "\n",
       "#sk-container-id-1 div.sk-estimator.fitted input.sk-toggleable__control:checked~label.sk-toggleable__label {\n",
       "  /* fitted */\n",
       "  background-color: var(--sklearn-color-fitted-level-2);\n",
       "}\n",
       "\n",
       "#sk-container-id-1 div.sk-label label.sk-toggleable__label,\n",
       "#sk-container-id-1 div.sk-label label {\n",
       "  /* The background is the default theme color */\n",
       "  color: var(--sklearn-color-text-on-default-background);\n",
       "}\n",
       "\n",
       "/* On hover, darken the color of the background */\n",
       "#sk-container-id-1 div.sk-label:hover label.sk-toggleable__label {\n",
       "  color: var(--sklearn-color-text);\n",
       "  background-color: var(--sklearn-color-unfitted-level-2);\n",
       "}\n",
       "\n",
       "/* Label box, darken color on hover, fitted */\n",
       "#sk-container-id-1 div.sk-label.fitted:hover label.sk-toggleable__label.fitted {\n",
       "  color: var(--sklearn-color-text);\n",
       "  background-color: var(--sklearn-color-fitted-level-2);\n",
       "}\n",
       "\n",
       "/* Estimator label */\n",
       "\n",
       "#sk-container-id-1 div.sk-label label {\n",
       "  font-family: monospace;\n",
       "  font-weight: bold;\n",
       "  display: inline-block;\n",
       "  line-height: 1.2em;\n",
       "}\n",
       "\n",
       "#sk-container-id-1 div.sk-label-container {\n",
       "  text-align: center;\n",
       "}\n",
       "\n",
       "/* Estimator-specific */\n",
       "#sk-container-id-1 div.sk-estimator {\n",
       "  font-family: monospace;\n",
       "  border: 1px dotted var(--sklearn-color-border-box);\n",
       "  border-radius: 0.25em;\n",
       "  box-sizing: border-box;\n",
       "  margin-bottom: 0.5em;\n",
       "  /* unfitted */\n",
       "  background-color: var(--sklearn-color-unfitted-level-0);\n",
       "}\n",
       "\n",
       "#sk-container-id-1 div.sk-estimator.fitted {\n",
       "  /* fitted */\n",
       "  background-color: var(--sklearn-color-fitted-level-0);\n",
       "}\n",
       "\n",
       "/* on hover */\n",
       "#sk-container-id-1 div.sk-estimator:hover {\n",
       "  /* unfitted */\n",
       "  background-color: var(--sklearn-color-unfitted-level-2);\n",
       "}\n",
       "\n",
       "#sk-container-id-1 div.sk-estimator.fitted:hover {\n",
       "  /* fitted */\n",
       "  background-color: var(--sklearn-color-fitted-level-2);\n",
       "}\n",
       "\n",
       "/* Specification for estimator info (e.g. \"i\" and \"?\") */\n",
       "\n",
       "/* Common style for \"i\" and \"?\" */\n",
       "\n",
       ".sk-estimator-doc-link,\n",
       "a:link.sk-estimator-doc-link,\n",
       "a:visited.sk-estimator-doc-link {\n",
       "  float: right;\n",
       "  font-size: smaller;\n",
       "  line-height: 1em;\n",
       "  font-family: monospace;\n",
       "  background-color: var(--sklearn-color-background);\n",
       "  border-radius: 1em;\n",
       "  height: 1em;\n",
       "  width: 1em;\n",
       "  text-decoration: none !important;\n",
       "  margin-left: 1ex;\n",
       "  /* unfitted */\n",
       "  border: var(--sklearn-color-unfitted-level-1) 1pt solid;\n",
       "  color: var(--sklearn-color-unfitted-level-1);\n",
       "}\n",
       "\n",
       ".sk-estimator-doc-link.fitted,\n",
       "a:link.sk-estimator-doc-link.fitted,\n",
       "a:visited.sk-estimator-doc-link.fitted {\n",
       "  /* fitted */\n",
       "  border: var(--sklearn-color-fitted-level-1) 1pt solid;\n",
       "  color: var(--sklearn-color-fitted-level-1);\n",
       "}\n",
       "\n",
       "/* On hover */\n",
       "div.sk-estimator:hover .sk-estimator-doc-link:hover,\n",
       ".sk-estimator-doc-link:hover,\n",
       "div.sk-label-container:hover .sk-estimator-doc-link:hover,\n",
       ".sk-estimator-doc-link:hover {\n",
       "  /* unfitted */\n",
       "  background-color: var(--sklearn-color-unfitted-level-3);\n",
       "  color: var(--sklearn-color-background);\n",
       "  text-decoration: none;\n",
       "}\n",
       "\n",
       "div.sk-estimator.fitted:hover .sk-estimator-doc-link.fitted:hover,\n",
       ".sk-estimator-doc-link.fitted:hover,\n",
       "div.sk-label-container:hover .sk-estimator-doc-link.fitted:hover,\n",
       ".sk-estimator-doc-link.fitted:hover {\n",
       "  /* fitted */\n",
       "  background-color: var(--sklearn-color-fitted-level-3);\n",
       "  color: var(--sklearn-color-background);\n",
       "  text-decoration: none;\n",
       "}\n",
       "\n",
       "/* Span, style for the box shown on hovering the info icon */\n",
       ".sk-estimator-doc-link span {\n",
       "  display: none;\n",
       "  z-index: 9999;\n",
       "  position: relative;\n",
       "  font-weight: normal;\n",
       "  right: .2ex;\n",
       "  padding: .5ex;\n",
       "  margin: .5ex;\n",
       "  width: min-content;\n",
       "  min-width: 20ex;\n",
       "  max-width: 50ex;\n",
       "  color: var(--sklearn-color-text);\n",
       "  box-shadow: 2pt 2pt 4pt #999;\n",
       "  /* unfitted */\n",
       "  background: var(--sklearn-color-unfitted-level-0);\n",
       "  border: .5pt solid var(--sklearn-color-unfitted-level-3);\n",
       "}\n",
       "\n",
       ".sk-estimator-doc-link.fitted span {\n",
       "  /* fitted */\n",
       "  background: var(--sklearn-color-fitted-level-0);\n",
       "  border: var(--sklearn-color-fitted-level-3);\n",
       "}\n",
       "\n",
       ".sk-estimator-doc-link:hover span {\n",
       "  display: block;\n",
       "}\n",
       "\n",
       "/* \"?\"-specific style due to the `<a>` HTML tag */\n",
       "\n",
       "#sk-container-id-1 a.estimator_doc_link {\n",
       "  float: right;\n",
       "  font-size: 1rem;\n",
       "  line-height: 1em;\n",
       "  font-family: monospace;\n",
       "  background-color: var(--sklearn-color-background);\n",
       "  border-radius: 1rem;\n",
       "  height: 1rem;\n",
       "  width: 1rem;\n",
       "  text-decoration: none;\n",
       "  /* unfitted */\n",
       "  color: var(--sklearn-color-unfitted-level-1);\n",
       "  border: var(--sklearn-color-unfitted-level-1) 1pt solid;\n",
       "}\n",
       "\n",
       "#sk-container-id-1 a.estimator_doc_link.fitted {\n",
       "  /* fitted */\n",
       "  border: var(--sklearn-color-fitted-level-1) 1pt solid;\n",
       "  color: var(--sklearn-color-fitted-level-1);\n",
       "}\n",
       "\n",
       "/* On hover */\n",
       "#sk-container-id-1 a.estimator_doc_link:hover {\n",
       "  /* unfitted */\n",
       "  background-color: var(--sklearn-color-unfitted-level-3);\n",
       "  color: var(--sklearn-color-background);\n",
       "  text-decoration: none;\n",
       "}\n",
       "\n",
       "#sk-container-id-1 a.estimator_doc_link.fitted:hover {\n",
       "  /* fitted */\n",
       "  background-color: var(--sklearn-color-fitted-level-3);\n",
       "}\n",
       "</style><div id=\"sk-container-id-1\" class=\"sk-top-container\"><div class=\"sk-text-repr-fallback\"><pre>KNeighborsClassifier(n_neighbors=11)</pre><b>In a Jupyter environment, please rerun this cell to show the HTML representation or trust the notebook. <br />On GitHub, the HTML representation is unable to render, please try loading this page with nbviewer.org.</b></div><div class=\"sk-container\" hidden><div class=\"sk-item\"><div class=\"sk-estimator fitted sk-toggleable\"><input class=\"sk-toggleable__control sk-hidden--visually\" id=\"sk-estimator-id-1\" type=\"checkbox\" checked><label for=\"sk-estimator-id-1\" class=\"sk-toggleable__label fitted sk-toggleable__label-arrow fitted\">&nbsp;&nbsp;KNeighborsClassifier<a class=\"sk-estimator-doc-link fitted\" rel=\"noreferrer\" target=\"_blank\" href=\"https://scikit-learn.org/1.5/modules/generated/sklearn.neighbors.KNeighborsClassifier.html\">?<span>Documentation for KNeighborsClassifier</span></a><span class=\"sk-estimator-doc-link fitted\">i<span>Fitted</span></span></label><div class=\"sk-toggleable__content fitted\"><pre>KNeighborsClassifier(n_neighbors=11)</pre></div> </div></div></div></div>"
      ],
      "text/plain": [
       "KNeighborsClassifier(n_neighbors=11)"
      ]
     },
     "execution_count": 35,
     "metadata": {},
     "output_type": "execute_result"
    }
   ],
   "source": [
    "from sklearn.neighbors import KNeighborsClassifier\n",
    "\n",
    "knn_clf = KNeighborsClassifier(n_neighbors=11)\n",
    "knn_clf.fit(X_train, y_train)"
   ]
  },
  {
   "cell_type": "code",
   "execution_count": 38,
   "id": "721d14e7-4650-4db6-8264-fd9d5de1d96c",
   "metadata": {},
   "outputs": [
    {
     "data": {
      "text/html": [
       "<style>#sk-container-id-2 {\n",
       "  /* Definition of color scheme common for light and dark mode */\n",
       "  --sklearn-color-text: black;\n",
       "  --sklearn-color-line: gray;\n",
       "  /* Definition of color scheme for unfitted estimators */\n",
       "  --sklearn-color-unfitted-level-0: #fff5e6;\n",
       "  --sklearn-color-unfitted-level-1: #f6e4d2;\n",
       "  --sklearn-color-unfitted-level-2: #ffe0b3;\n",
       "  --sklearn-color-unfitted-level-3: chocolate;\n",
       "  /* Definition of color scheme for fitted estimators */\n",
       "  --sklearn-color-fitted-level-0: #f0f8ff;\n",
       "  --sklearn-color-fitted-level-1: #d4ebff;\n",
       "  --sklearn-color-fitted-level-2: #b3dbfd;\n",
       "  --sklearn-color-fitted-level-3: cornflowerblue;\n",
       "\n",
       "  /* Specific color for light theme */\n",
       "  --sklearn-color-text-on-default-background: var(--sg-text-color, var(--theme-code-foreground, var(--jp-content-font-color1, black)));\n",
       "  --sklearn-color-background: var(--sg-background-color, var(--theme-background, var(--jp-layout-color0, white)));\n",
       "  --sklearn-color-border-box: var(--sg-text-color, var(--theme-code-foreground, var(--jp-content-font-color1, black)));\n",
       "  --sklearn-color-icon: #696969;\n",
       "\n",
       "  @media (prefers-color-scheme: dark) {\n",
       "    /* Redefinition of color scheme for dark theme */\n",
       "    --sklearn-color-text-on-default-background: var(--sg-text-color, var(--theme-code-foreground, var(--jp-content-font-color1, white)));\n",
       "    --sklearn-color-background: var(--sg-background-color, var(--theme-background, var(--jp-layout-color0, #111)));\n",
       "    --sklearn-color-border-box: var(--sg-text-color, var(--theme-code-foreground, var(--jp-content-font-color1, white)));\n",
       "    --sklearn-color-icon: #878787;\n",
       "  }\n",
       "}\n",
       "\n",
       "#sk-container-id-2 {\n",
       "  color: var(--sklearn-color-text);\n",
       "}\n",
       "\n",
       "#sk-container-id-2 pre {\n",
       "  padding: 0;\n",
       "}\n",
       "\n",
       "#sk-container-id-2 input.sk-hidden--visually {\n",
       "  border: 0;\n",
       "  clip: rect(1px 1px 1px 1px);\n",
       "  clip: rect(1px, 1px, 1px, 1px);\n",
       "  height: 1px;\n",
       "  margin: -1px;\n",
       "  overflow: hidden;\n",
       "  padding: 0;\n",
       "  position: absolute;\n",
       "  width: 1px;\n",
       "}\n",
       "\n",
       "#sk-container-id-2 div.sk-dashed-wrapped {\n",
       "  border: 1px dashed var(--sklearn-color-line);\n",
       "  margin: 0 0.4em 0.5em 0.4em;\n",
       "  box-sizing: border-box;\n",
       "  padding-bottom: 0.4em;\n",
       "  background-color: var(--sklearn-color-background);\n",
       "}\n",
       "\n",
       "#sk-container-id-2 div.sk-container {\n",
       "  /* jupyter's `normalize.less` sets `[hidden] { display: none; }`\n",
       "     but bootstrap.min.css set `[hidden] { display: none !important; }`\n",
       "     so we also need the `!important` here to be able to override the\n",
       "     default hidden behavior on the sphinx rendered scikit-learn.org.\n",
       "     See: https://github.com/scikit-learn/scikit-learn/issues/21755 */\n",
       "  display: inline-block !important;\n",
       "  position: relative;\n",
       "}\n",
       "\n",
       "#sk-container-id-2 div.sk-text-repr-fallback {\n",
       "  display: none;\n",
       "}\n",
       "\n",
       "div.sk-parallel-item,\n",
       "div.sk-serial,\n",
       "div.sk-item {\n",
       "  /* draw centered vertical line to link estimators */\n",
       "  background-image: linear-gradient(var(--sklearn-color-text-on-default-background), var(--sklearn-color-text-on-default-background));\n",
       "  background-size: 2px 100%;\n",
       "  background-repeat: no-repeat;\n",
       "  background-position: center center;\n",
       "}\n",
       "\n",
       "/* Parallel-specific style estimator block */\n",
       "\n",
       "#sk-container-id-2 div.sk-parallel-item::after {\n",
       "  content: \"\";\n",
       "  width: 100%;\n",
       "  border-bottom: 2px solid var(--sklearn-color-text-on-default-background);\n",
       "  flex-grow: 1;\n",
       "}\n",
       "\n",
       "#sk-container-id-2 div.sk-parallel {\n",
       "  display: flex;\n",
       "  align-items: stretch;\n",
       "  justify-content: center;\n",
       "  background-color: var(--sklearn-color-background);\n",
       "  position: relative;\n",
       "}\n",
       "\n",
       "#sk-container-id-2 div.sk-parallel-item {\n",
       "  display: flex;\n",
       "  flex-direction: column;\n",
       "}\n",
       "\n",
       "#sk-container-id-2 div.sk-parallel-item:first-child::after {\n",
       "  align-self: flex-end;\n",
       "  width: 50%;\n",
       "}\n",
       "\n",
       "#sk-container-id-2 div.sk-parallel-item:last-child::after {\n",
       "  align-self: flex-start;\n",
       "  width: 50%;\n",
       "}\n",
       "\n",
       "#sk-container-id-2 div.sk-parallel-item:only-child::after {\n",
       "  width: 0;\n",
       "}\n",
       "\n",
       "/* Serial-specific style estimator block */\n",
       "\n",
       "#sk-container-id-2 div.sk-serial {\n",
       "  display: flex;\n",
       "  flex-direction: column;\n",
       "  align-items: center;\n",
       "  background-color: var(--sklearn-color-background);\n",
       "  padding-right: 1em;\n",
       "  padding-left: 1em;\n",
       "}\n",
       "\n",
       "\n",
       "/* Toggleable style: style used for estimator/Pipeline/ColumnTransformer box that is\n",
       "clickable and can be expanded/collapsed.\n",
       "- Pipeline and ColumnTransformer use this feature and define the default style\n",
       "- Estimators will overwrite some part of the style using the `sk-estimator` class\n",
       "*/\n",
       "\n",
       "/* Pipeline and ColumnTransformer style (default) */\n",
       "\n",
       "#sk-container-id-2 div.sk-toggleable {\n",
       "  /* Default theme specific background. It is overwritten whether we have a\n",
       "  specific estimator or a Pipeline/ColumnTransformer */\n",
       "  background-color: var(--sklearn-color-background);\n",
       "}\n",
       "\n",
       "/* Toggleable label */\n",
       "#sk-container-id-2 label.sk-toggleable__label {\n",
       "  cursor: pointer;\n",
       "  display: block;\n",
       "  width: 100%;\n",
       "  margin-bottom: 0;\n",
       "  padding: 0.5em;\n",
       "  box-sizing: border-box;\n",
       "  text-align: center;\n",
       "}\n",
       "\n",
       "#sk-container-id-2 label.sk-toggleable__label-arrow:before {\n",
       "  /* Arrow on the left of the label */\n",
       "  content: \"▸\";\n",
       "  float: left;\n",
       "  margin-right: 0.25em;\n",
       "  color: var(--sklearn-color-icon);\n",
       "}\n",
       "\n",
       "#sk-container-id-2 label.sk-toggleable__label-arrow:hover:before {\n",
       "  color: var(--sklearn-color-text);\n",
       "}\n",
       "\n",
       "/* Toggleable content - dropdown */\n",
       "\n",
       "#sk-container-id-2 div.sk-toggleable__content {\n",
       "  max-height: 0;\n",
       "  max-width: 0;\n",
       "  overflow: hidden;\n",
       "  text-align: left;\n",
       "  /* unfitted */\n",
       "  background-color: var(--sklearn-color-unfitted-level-0);\n",
       "}\n",
       "\n",
       "#sk-container-id-2 div.sk-toggleable__content.fitted {\n",
       "  /* fitted */\n",
       "  background-color: var(--sklearn-color-fitted-level-0);\n",
       "}\n",
       "\n",
       "#sk-container-id-2 div.sk-toggleable__content pre {\n",
       "  margin: 0.2em;\n",
       "  border-radius: 0.25em;\n",
       "  color: var(--sklearn-color-text);\n",
       "  /* unfitted */\n",
       "  background-color: var(--sklearn-color-unfitted-level-0);\n",
       "}\n",
       "\n",
       "#sk-container-id-2 div.sk-toggleable__content.fitted pre {\n",
       "  /* unfitted */\n",
       "  background-color: var(--sklearn-color-fitted-level-0);\n",
       "}\n",
       "\n",
       "#sk-container-id-2 input.sk-toggleable__control:checked~div.sk-toggleable__content {\n",
       "  /* Expand drop-down */\n",
       "  max-height: 200px;\n",
       "  max-width: 100%;\n",
       "  overflow: auto;\n",
       "}\n",
       "\n",
       "#sk-container-id-2 input.sk-toggleable__control:checked~label.sk-toggleable__label-arrow:before {\n",
       "  content: \"▾\";\n",
       "}\n",
       "\n",
       "/* Pipeline/ColumnTransformer-specific style */\n",
       "\n",
       "#sk-container-id-2 div.sk-label input.sk-toggleable__control:checked~label.sk-toggleable__label {\n",
       "  color: var(--sklearn-color-text);\n",
       "  background-color: var(--sklearn-color-unfitted-level-2);\n",
       "}\n",
       "\n",
       "#sk-container-id-2 div.sk-label.fitted input.sk-toggleable__control:checked~label.sk-toggleable__label {\n",
       "  background-color: var(--sklearn-color-fitted-level-2);\n",
       "}\n",
       "\n",
       "/* Estimator-specific style */\n",
       "\n",
       "/* Colorize estimator box */\n",
       "#sk-container-id-2 div.sk-estimator input.sk-toggleable__control:checked~label.sk-toggleable__label {\n",
       "  /* unfitted */\n",
       "  background-color: var(--sklearn-color-unfitted-level-2);\n",
       "}\n",
       "\n",
       "#sk-container-id-2 div.sk-estimator.fitted input.sk-toggleable__control:checked~label.sk-toggleable__label {\n",
       "  /* fitted */\n",
       "  background-color: var(--sklearn-color-fitted-level-2);\n",
       "}\n",
       "\n",
       "#sk-container-id-2 div.sk-label label.sk-toggleable__label,\n",
       "#sk-container-id-2 div.sk-label label {\n",
       "  /* The background is the default theme color */\n",
       "  color: var(--sklearn-color-text-on-default-background);\n",
       "}\n",
       "\n",
       "/* On hover, darken the color of the background */\n",
       "#sk-container-id-2 div.sk-label:hover label.sk-toggleable__label {\n",
       "  color: var(--sklearn-color-text);\n",
       "  background-color: var(--sklearn-color-unfitted-level-2);\n",
       "}\n",
       "\n",
       "/* Label box, darken color on hover, fitted */\n",
       "#sk-container-id-2 div.sk-label.fitted:hover label.sk-toggleable__label.fitted {\n",
       "  color: var(--sklearn-color-text);\n",
       "  background-color: var(--sklearn-color-fitted-level-2);\n",
       "}\n",
       "\n",
       "/* Estimator label */\n",
       "\n",
       "#sk-container-id-2 div.sk-label label {\n",
       "  font-family: monospace;\n",
       "  font-weight: bold;\n",
       "  display: inline-block;\n",
       "  line-height: 1.2em;\n",
       "}\n",
       "\n",
       "#sk-container-id-2 div.sk-label-container {\n",
       "  text-align: center;\n",
       "}\n",
       "\n",
       "/* Estimator-specific */\n",
       "#sk-container-id-2 div.sk-estimator {\n",
       "  font-family: monospace;\n",
       "  border: 1px dotted var(--sklearn-color-border-box);\n",
       "  border-radius: 0.25em;\n",
       "  box-sizing: border-box;\n",
       "  margin-bottom: 0.5em;\n",
       "  /* unfitted */\n",
       "  background-color: var(--sklearn-color-unfitted-level-0);\n",
       "}\n",
       "\n",
       "#sk-container-id-2 div.sk-estimator.fitted {\n",
       "  /* fitted */\n",
       "  background-color: var(--sklearn-color-fitted-level-0);\n",
       "}\n",
       "\n",
       "/* on hover */\n",
       "#sk-container-id-2 div.sk-estimator:hover {\n",
       "  /* unfitted */\n",
       "  background-color: var(--sklearn-color-unfitted-level-2);\n",
       "}\n",
       "\n",
       "#sk-container-id-2 div.sk-estimator.fitted:hover {\n",
       "  /* fitted */\n",
       "  background-color: var(--sklearn-color-fitted-level-2);\n",
       "}\n",
       "\n",
       "/* Specification for estimator info (e.g. \"i\" and \"?\") */\n",
       "\n",
       "/* Common style for \"i\" and \"?\" */\n",
       "\n",
       ".sk-estimator-doc-link,\n",
       "a:link.sk-estimator-doc-link,\n",
       "a:visited.sk-estimator-doc-link {\n",
       "  float: right;\n",
       "  font-size: smaller;\n",
       "  line-height: 1em;\n",
       "  font-family: monospace;\n",
       "  background-color: var(--sklearn-color-background);\n",
       "  border-radius: 1em;\n",
       "  height: 1em;\n",
       "  width: 1em;\n",
       "  text-decoration: none !important;\n",
       "  margin-left: 1ex;\n",
       "  /* unfitted */\n",
       "  border: var(--sklearn-color-unfitted-level-1) 1pt solid;\n",
       "  color: var(--sklearn-color-unfitted-level-1);\n",
       "}\n",
       "\n",
       ".sk-estimator-doc-link.fitted,\n",
       "a:link.sk-estimator-doc-link.fitted,\n",
       "a:visited.sk-estimator-doc-link.fitted {\n",
       "  /* fitted */\n",
       "  border: var(--sklearn-color-fitted-level-1) 1pt solid;\n",
       "  color: var(--sklearn-color-fitted-level-1);\n",
       "}\n",
       "\n",
       "/* On hover */\n",
       "div.sk-estimator:hover .sk-estimator-doc-link:hover,\n",
       ".sk-estimator-doc-link:hover,\n",
       "div.sk-label-container:hover .sk-estimator-doc-link:hover,\n",
       ".sk-estimator-doc-link:hover {\n",
       "  /* unfitted */\n",
       "  background-color: var(--sklearn-color-unfitted-level-3);\n",
       "  color: var(--sklearn-color-background);\n",
       "  text-decoration: none;\n",
       "}\n",
       "\n",
       "div.sk-estimator.fitted:hover .sk-estimator-doc-link.fitted:hover,\n",
       ".sk-estimator-doc-link.fitted:hover,\n",
       "div.sk-label-container:hover .sk-estimator-doc-link.fitted:hover,\n",
       ".sk-estimator-doc-link.fitted:hover {\n",
       "  /* fitted */\n",
       "  background-color: var(--sklearn-color-fitted-level-3);\n",
       "  color: var(--sklearn-color-background);\n",
       "  text-decoration: none;\n",
       "}\n",
       "\n",
       "/* Span, style for the box shown on hovering the info icon */\n",
       ".sk-estimator-doc-link span {\n",
       "  display: none;\n",
       "  z-index: 9999;\n",
       "  position: relative;\n",
       "  font-weight: normal;\n",
       "  right: .2ex;\n",
       "  padding: .5ex;\n",
       "  margin: .5ex;\n",
       "  width: min-content;\n",
       "  min-width: 20ex;\n",
       "  max-width: 50ex;\n",
       "  color: var(--sklearn-color-text);\n",
       "  box-shadow: 2pt 2pt 4pt #999;\n",
       "  /* unfitted */\n",
       "  background: var(--sklearn-color-unfitted-level-0);\n",
       "  border: .5pt solid var(--sklearn-color-unfitted-level-3);\n",
       "}\n",
       "\n",
       ".sk-estimator-doc-link.fitted span {\n",
       "  /* fitted */\n",
       "  background: var(--sklearn-color-fitted-level-0);\n",
       "  border: var(--sklearn-color-fitted-level-3);\n",
       "}\n",
       "\n",
       ".sk-estimator-doc-link:hover span {\n",
       "  display: block;\n",
       "}\n",
       "\n",
       "/* \"?\"-specific style due to the `<a>` HTML tag */\n",
       "\n",
       "#sk-container-id-2 a.estimator_doc_link {\n",
       "  float: right;\n",
       "  font-size: 1rem;\n",
       "  line-height: 1em;\n",
       "  font-family: monospace;\n",
       "  background-color: var(--sklearn-color-background);\n",
       "  border-radius: 1rem;\n",
       "  height: 1rem;\n",
       "  width: 1rem;\n",
       "  text-decoration: none;\n",
       "  /* unfitted */\n",
       "  color: var(--sklearn-color-unfitted-level-1);\n",
       "  border: var(--sklearn-color-unfitted-level-1) 1pt solid;\n",
       "}\n",
       "\n",
       "#sk-container-id-2 a.estimator_doc_link.fitted {\n",
       "  /* fitted */\n",
       "  border: var(--sklearn-color-fitted-level-1) 1pt solid;\n",
       "  color: var(--sklearn-color-fitted-level-1);\n",
       "}\n",
       "\n",
       "/* On hover */\n",
       "#sk-container-id-2 a.estimator_doc_link:hover {\n",
       "  /* unfitted */\n",
       "  background-color: var(--sklearn-color-unfitted-level-3);\n",
       "  color: var(--sklearn-color-background);\n",
       "  text-decoration: none;\n",
       "}\n",
       "\n",
       "#sk-container-id-2 a.estimator_doc_link.fitted:hover {\n",
       "  /* fitted */\n",
       "  background-color: var(--sklearn-color-fitted-level-3);\n",
       "}\n",
       "</style><div id=\"sk-container-id-2\" class=\"sk-top-container\"><div class=\"sk-text-repr-fallback\"><pre>RandomForestClassifier()</pre><b>In a Jupyter environment, please rerun this cell to show the HTML representation or trust the notebook. <br />On GitHub, the HTML representation is unable to render, please try loading this page with nbviewer.org.</b></div><div class=\"sk-container\" hidden><div class=\"sk-item\"><div class=\"sk-estimator fitted sk-toggleable\"><input class=\"sk-toggleable__control sk-hidden--visually\" id=\"sk-estimator-id-2\" type=\"checkbox\" checked><label for=\"sk-estimator-id-2\" class=\"sk-toggleable__label fitted sk-toggleable__label-arrow fitted\">&nbsp;&nbsp;RandomForestClassifier<a class=\"sk-estimator-doc-link fitted\" rel=\"noreferrer\" target=\"_blank\" href=\"https://scikit-learn.org/1.5/modules/generated/sklearn.ensemble.RandomForestClassifier.html\">?<span>Documentation for RandomForestClassifier</span></a><span class=\"sk-estimator-doc-link fitted\">i<span>Fitted</span></span></label><div class=\"sk-toggleable__content fitted\"><pre>RandomForestClassifier()</pre></div> </div></div></div></div>"
      ],
      "text/plain": [
       "RandomForestClassifier()"
      ]
     },
     "execution_count": 38,
     "metadata": {},
     "output_type": "execute_result"
    }
   ],
   "source": [
    "from sklearn.ensemble import RandomForestClassifier\n",
    "\n",
    "rf_clf = RandomForestClassifier()\n",
    "rf_clf.fit(X_train, y_train)"
   ]
  },
  {
   "cell_type": "code",
   "execution_count": 39,
   "id": "307b62b5-675d-438c-a2c2-2fd884920d24",
   "metadata": {},
   "outputs": [
    {
     "data": {
      "text/plain": [
       "((5000,), (5000,), (5000,))"
      ]
     },
     "execution_count": 39,
     "metadata": {},
     "output_type": "execute_result"
    }
   ],
   "source": [
    "pred_rf = rf_clf.predict(X_valid)\n",
    "pred_knn = knn_clf.predict(X_valid)\n",
    "\n",
    "probs_rf = rf_clf.predict_proba(X_valid)\n",
    "probs_knn = knn_clf.predict_proba(X_valid)\n",
    "ensamble_pred = ((probs_rf[:,1]+probs_knn[:,1])/2.0)>0.5\n",
    "\n",
    "pred_rf.shape, pred_knn.shape, ensamble_pred.shape"
   ]
  },
  {
   "cell_type": "code",
   "execution_count": 40,
   "id": "f365d5dc-ab64-4cec-8dc9-537da7cab7ca",
   "metadata": {},
   "outputs": [
    {
     "data": {
      "text/plain": [
       "True"
      ]
     },
     "execution_count": 40,
     "metadata": {},
     "output_type": "execute_result"
    }
   ],
   "source": [
    "((probs_rf[:,1]>0.5) == pred_rf).all()"
   ]
  },
  {
   "cell_type": "code",
   "execution_count": 41,
   "id": "ce67eab0-b3cf-4f6a-bd48-eba6233798f5",
   "metadata": {},
   "outputs": [
    {
     "data": {
      "text/plain": [
       "True"
      ]
     },
     "execution_count": 41,
     "metadata": {},
     "output_type": "execute_result"
    }
   ],
   "source": [
    "((probs_knn[:,1]>0.5) == pred_knn).all()"
   ]
  },
  {
   "cell_type": "code",
   "execution_count": 42,
   "id": "332fedd3-7700-47a8-8d38-e85d838b8fe6",
   "metadata": {},
   "outputs": [
    {
     "name": "stdout",
     "output_type": "stream",
     "text": [
      "Random Forest acc: 0.7774\n",
      "KNN acc: 0.7454\n",
      "Ensamble acc: 0.7742\n"
     ]
    }
   ],
   "source": [
    "from sklearn.metrics import accuracy_score\n",
    "\n",
    "print(f'Random Forest acc: {accuracy_score(y_valid,pred_rf)}')\n",
    "print(f'KNN acc: {accuracy_score(y_valid,pred_knn)}')\n",
    "print(f'Ensamble acc: {accuracy_score(y_valid,ensamble_pred)}')"
   ]
  },
  {
   "cell_type": "markdown",
   "id": "040f5289-098b-4d65-8b4d-f92d98da6924",
   "metadata": {},
   "source": [
    "#### Ejercicio 2: \"Otros text embedding\" (opcional)\n",
    "\n",
    "Probar otro método de generar el text embedding a partir de los word embeddings y reportar los resultados.\n",
    "\n",
    "#### Ejercicio 3: \"Conjunto de test\" (obligatorio)\n",
    "\n",
    "Reportar los resultados en el conjunto de test.\n",
    "\n",
    "Entrenar los resultados en toda la data de desarrollo (incluyendo x_valid), y volver a evaluar el test. Esto no se debería hacer, por qué?\n",
    "\n",
    "En la práctica, no obstante es común entrenar la configuración elegida en toda la data de desarrollo y luego evaluar en el test. Notar que esto no supone un conflicto siempre y cuando evaluemos en test UNA SOLA VEZ (no vale elegir entre el modelo entrenado en toda la data de desarrollo.\n",
    "Que ventajas tiene hacer esto?\n",
    "\n",
    "#### Ejercicio 4: \"MeLi Challenge 2019\" (opcional)\n",
    "\n",
    "El ejercicio consiste en entrenar un clasificador para el dataset del melichallenge2019 y evaluarlo utilizando la métrica que especificaba la competencia ([Balanced Accuracy Binary Classification](https://neptune.ai/blog/balanced-accuracy)). Utilizar el dataset disponible en el link de Kaggle provisto a continuación. Para entrenar utilizar las primeras 18,000,000 filas y reservar las últimas 2,000,000 de filas. Como el dataset es público no podrá controlar que no hagan trampa, pero confío en la honestidad intelectual de cada uno: sólo pueden evaluar el split de test una única vez, al final.\n",
    "\n",
    "#### MeLi Challenge 2019\n",
    "\n",
    "En 2019 Mercado Libre publicó en su Challenge anual un problema de Machine Learning en donde había que predecir la categoría de productos dado el título (y el idioma que era español y portugués).\n",
    "\n",
    "El premio era una entrada (con viaje y alojamiento) a KHIPU: un evento latinoamericano MUY importante de inteligencia artificial que se año se celebró en noviembre.\n",
    "\n",
    "El dataset público (que te daban para entrenar y validar) está [subido a Kaggle](https://www.kaggle.com/datasets/abugim/meli-data-challenge-2019). Lamentablemente no publicaron el dataset de test, oculto a momento de competir, que utilizaron para el rankeo final de las soluciones, así que no podemos compararnos exactamente contra el scoreboard final.\n",
    "\n",
    "Algunas soluciones encontradas en internet:\n",
    "- Usando BERT y NNML: 0.8789  ([link](https://github.com/eduardofv/meli2019)).\n",
    "- Usando LSTM se obtuvo una puntación de: 0.8853 ([link](https://github.com/Sebasu11/MERCADOLIBRE-DATA-CHALLENGE-2019)).\n",
    "- Contando n-gramas de palabras: 0.89207 ([link](https://github.com/isadofschi/MeLiDataChallenge)).\n",
    "- **(Ganador de la competencia)** Usando embeddings FastText + LSTM y GRU + clasificador de capas densas: 0.91733 ([link](https://github.com/eduagarcia/meli-challenge-2019)).\n",
    "\n",
    "Como se puede observar no siempre utilizar modelos más complejos (como BERT en ese entonces era de total vanguardia) nos garantiza mejores resultados que métodos tradicionales (como LSTM) o incluso que métodos muy simples como n-gramas."
   ]
  },
  {
   "cell_type": "code",
   "execution_count": 43,
   "id": "21c8f4a4-8335-45dc-8da7-deb632cf8ba9",
   "metadata": {},
   "outputs": [
    {
     "data": {
      "text/html": [
       "<div>\n",
       "<style scoped>\n",
       "    .dataframe tbody tr th:only-of-type {\n",
       "        vertical-align: middle;\n",
       "    }\n",
       "\n",
       "    .dataframe tbody tr th {\n",
       "        vertical-align: top;\n",
       "    }\n",
       "\n",
       "    .dataframe thead th {\n",
       "        text-align: right;\n",
       "    }\n",
       "</style>\n",
       "<table border=\"1\" class=\"dataframe\">\n",
       "  <thead>\n",
       "    <tr style=\"text-align: right;\">\n",
       "      <th></th>\n",
       "      <th>title</th>\n",
       "      <th>label_quality</th>\n",
       "      <th>language</th>\n",
       "      <th>category</th>\n",
       "    </tr>\n",
       "  </thead>\n",
       "  <tbody>\n",
       "    <tr>\n",
       "      <th>0</th>\n",
       "      <td>Hidrolavadora Lavor One 120 Bar 1700w  Bomba A...</td>\n",
       "      <td>unreliable</td>\n",
       "      <td>spanish</td>\n",
       "      <td>ELECTRIC_PRESSURE_WASHERS</td>\n",
       "    </tr>\n",
       "    <tr>\n",
       "      <th>1</th>\n",
       "      <td>Placa De Sonido - Behringer Umc22</td>\n",
       "      <td>unreliable</td>\n",
       "      <td>spanish</td>\n",
       "      <td>SOUND_CARDS</td>\n",
       "    </tr>\n",
       "    <tr>\n",
       "      <th>2</th>\n",
       "      <td>Maquina De Lavar Electrolux 12 Kilos</td>\n",
       "      <td>unreliable</td>\n",
       "      <td>portuguese</td>\n",
       "      <td>WASHING_MACHINES</td>\n",
       "    </tr>\n",
       "    <tr>\n",
       "      <th>3</th>\n",
       "      <td>Par Disco De Freio Diant Vent Gol 8v 08/ Frema...</td>\n",
       "      <td>unreliable</td>\n",
       "      <td>portuguese</td>\n",
       "      <td>VEHICLE_BRAKE_DISCS</td>\n",
       "    </tr>\n",
       "    <tr>\n",
       "      <th>4</th>\n",
       "      <td>Flashes Led Pestañas Luminoso Falso Pestañas P...</td>\n",
       "      <td>unreliable</td>\n",
       "      <td>spanish</td>\n",
       "      <td>FALSE_EYELASHES</td>\n",
       "    </tr>\n",
       "    <tr>\n",
       "      <th>...</th>\n",
       "      <td>...</td>\n",
       "      <td>...</td>\n",
       "      <td>...</td>\n",
       "      <td>...</td>\n",
       "    </tr>\n",
       "    <tr>\n",
       "      <th>19999995</th>\n",
       "      <td>Brochas De Maquillaje Kylie Set De 12 Unidades</td>\n",
       "      <td>unreliable</td>\n",
       "      <td>spanish</td>\n",
       "      <td>MAKEUP_BRUSHES</td>\n",
       "    </tr>\n",
       "    <tr>\n",
       "      <th>19999996</th>\n",
       "      <td>Trimmer Detailer Wahl + Kit Tijeras Stylecut</td>\n",
       "      <td>reliable</td>\n",
       "      <td>spanish</td>\n",
       "      <td>HAIR_CLIPPERS</td>\n",
       "    </tr>\n",
       "    <tr>\n",
       "      <th>19999997</th>\n",
       "      <td>Bateria Portátil 3300 Mah  Power Bank  Usb Max...</td>\n",
       "      <td>unreliable</td>\n",
       "      <td>portuguese</td>\n",
       "      <td>PORTABLE_CELLPHONE_CHARGERS</td>\n",
       "    </tr>\n",
       "    <tr>\n",
       "      <th>19999998</th>\n",
       "      <td>Palo De Hockey Grays Nano 7 37,5''</td>\n",
       "      <td>unreliable</td>\n",
       "      <td>spanish</td>\n",
       "      <td>FIELD_HOCKEY_STICKS</td>\n",
       "    </tr>\n",
       "    <tr>\n",
       "      <th>19999999</th>\n",
       "      <td>175x90 Cm Natal Tricotado Sereia Cauda Coberto...</td>\n",
       "      <td>unreliable</td>\n",
       "      <td>portuguese</td>\n",
       "      <td>BEDS</td>\n",
       "    </tr>\n",
       "  </tbody>\n",
       "</table>\n",
       "<p>20000000 rows × 4 columns</p>\n",
       "</div>"
      ],
      "text/plain": [
       "                                                      title label_quality  \\\n",
       "0         Hidrolavadora Lavor One 120 Bar 1700w  Bomba A...    unreliable   \n",
       "1                         Placa De Sonido - Behringer Umc22    unreliable   \n",
       "2                      Maquina De Lavar Electrolux 12 Kilos    unreliable   \n",
       "3         Par Disco De Freio Diant Vent Gol 8v 08/ Frema...    unreliable   \n",
       "4         Flashes Led Pestañas Luminoso Falso Pestañas P...    unreliable   \n",
       "...                                                     ...           ...   \n",
       "19999995     Brochas De Maquillaje Kylie Set De 12 Unidades    unreliable   \n",
       "19999996       Trimmer Detailer Wahl + Kit Tijeras Stylecut      reliable   \n",
       "19999997  Bateria Portátil 3300 Mah  Power Bank  Usb Max...    unreliable   \n",
       "19999998                 Palo De Hockey Grays Nano 7 37,5''    unreliable   \n",
       "19999999  175x90 Cm Natal Tricotado Sereia Cauda Coberto...    unreliable   \n",
       "\n",
       "            language                     category  \n",
       "0            spanish    ELECTRIC_PRESSURE_WASHERS  \n",
       "1            spanish                  SOUND_CARDS  \n",
       "2         portuguese             WASHING_MACHINES  \n",
       "3         portuguese          VEHICLE_BRAKE_DISCS  \n",
       "4            spanish              FALSE_EYELASHES  \n",
       "...              ...                          ...  \n",
       "19999995     spanish               MAKEUP_BRUSHES  \n",
       "19999996     spanish                HAIR_CLIPPERS  \n",
       "19999997  portuguese  PORTABLE_CELLPHONE_CHARGERS  \n",
       "19999998     spanish          FIELD_HOCKEY_STICKS  \n",
       "19999999  portuguese                         BEDS  \n",
       "\n",
       "[20000000 rows x 4 columns]"
      ]
     },
     "execution_count": 43,
     "metadata": {},
     "output_type": "execute_result"
    }
   ],
   "source": [
    "df=pd.read_csv('../data/meli2019/meli2019.csv')\n",
    "df"
   ]
  },
  {
   "cell_type": "markdown",
   "id": "181ad273-fc08-4292-8c15-899fdb8eb49b",
   "metadata": {},
   "source": [
    "El método describe nos provee info útil de cada columna, como la cantidad de valores únicos:"
   ]
  },
  {
   "cell_type": "code",
   "execution_count": null,
   "id": "2be4940c-a84d-4015-af64-449a4722e425",
   "metadata": {},
   "outputs": [],
   "source": [
    "df.describe()"
   ]
  },
  {
   "cell_type": "code",
   "execution_count": null,
   "id": "abbad055-6d9a-42c6-a471-9c22b17ef363",
   "metadata": {},
   "outputs": [],
   "source": [
    "len(df)*0.1"
   ]
  },
  {
   "cell_type": "code",
   "execution_count": null,
   "id": "90da2edc-31db-43b4-9fe5-32d61f4d1538",
   "metadata": {},
   "outputs": [],
   "source": []
  }
 ],
 "metadata": {
  "kernelspec": {
   "display_name": "base",
   "language": "python",
   "name": "python3"
  },
  "language_info": {
   "codemirror_mode": {
    "name": "ipython",
    "version": 3
   },
   "file_extension": ".py",
   "mimetype": "text/x-python",
   "name": "python",
   "nbconvert_exporter": "python",
   "pygments_lexer": "ipython3",
   "version": "3.11.7"
  }
 },
 "nbformat": 4,
 "nbformat_minor": 5
}

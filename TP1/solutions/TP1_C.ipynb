{
 "cells": [
  {
   "cell_type": "markdown",
   "metadata": {},
   "source": [
    "#### Ejercicio 1: \"Embeddings en español\" (obligatorio)\n",
    "\n",
    "Para palabras en español utilizaremos embeddings entrenados con FastText que hemos descargado del [repositorio](https://github.com/dccuchile/spanish-word-embeddings). Particularmente el archivo utilizado se puede descargar de [aquí](https://zenodo.org/record/3234051/files/embeddings-l-model.vec).\n",
    "\n",
    "El ejercicio consiste en:\n",
    "1. Cargar los embeddings linkeados utilizados la librería Gensim\n",
    "2. Dar 1 ejemplo de most_similar para una palabra en español.\n",
    "3. Dar 1 ejemplo de un \"fallo\" similar a lo que ocurría con \"trump\" en most_similar para una palabra en español: donde el embedding desconozca cierta información por el año en dodne fue entrenado.\n",
    "4. Dar 5 ejemplos de analogías. Es necesario reescribir la función analogy?\n",
    "5. Dar 1 ejemplo donde el modelo replique sesgos presentes en los datos que considere pernicioso."
   ]
  },
  {
   "cell_type": "code",
   "execution_count": 1,
   "metadata": {},
   "outputs": [],
   "source": [
    "from gensim.models import KeyedVectors"
   ]
  },
  {
   "cell_type": "code",
   "execution_count": 2,
   "metadata": {},
   "outputs": [],
   "source": [
    "# 1. Cargar el modelo en español\n",
    "model_es = KeyedVectors.load_word2vec_format('../../models/embeddings-l-model.vec')"
   ]
  },
  {
   "cell_type": "code",
   "execution_count": 4,
   "metadata": {},
   "outputs": [
    {
     "data": {
      "text/plain": [
       "[('asada', 0.7902636528015137),\n",
       " ('asados', 0.7901856899261475),\n",
       " ('guiso', 0.7752070426940918),\n",
       " ('estofado', 0.7731484174728394),\n",
       " ('asadas', 0.770538330078125),\n",
       " ('pollo', 0.761725664138794),\n",
       " ('chorizo', 0.7508561015129089),\n",
       " ('asador', 0.7376899123191833),\n",
       " ('churrasco', 0.7269676923751831),\n",
       " ('guisado', 0.7253041863441467)]"
      ]
     },
     "execution_count": 4,
     "metadata": {},
     "output_type": "execute_result"
    }
   ],
   "source": [
    "#2. Palabra similar\n",
    "model_es.most_similar('asado', topn=10)"
   ]
  },
  {
   "cell_type": "code",
   "execution_count": 5,
   "metadata": {},
   "outputs": [
    {
     "data": {
      "text/plain": [
       "[('mileidy', 0.6162314414978027),\n",
       " ('archilei', 0.5704389810562134),\n",
       " ('milessi', 0.564062237739563),\n",
       " ('milea', 0.5424215793609619),\n",
       " ('zilei', 0.5419692993164062),\n",
       " ('leilei', 0.5339961051940918),\n",
       " ('montironi', 0.5273367762565613),\n",
       " ('jucilei', 0.5159411430358887),\n",
       " ('iannaccone', 0.5134119987487793),\n",
       " ('miledi', 0.512912392616272)]"
      ]
     },
     "execution_count": 5,
     "metadata": {},
     "output_type": "execute_result"
    }
   ],
   "source": [
    "# 3. Ejemplo de palabra que tenia otro contexto unos años atras\n",
    "model_es.most_similar('milei')"
   ]
  },
  {
   "cell_type": "code",
   "execution_count": 12,
   "metadata": {},
   "outputs": [
    {
     "data": {
      "text/plain": [
       "'pensando'"
      ]
     },
     "execution_count": 12,
     "metadata": {},
     "output_type": "execute_result"
    }
   ],
   "source": [
    "# 4. Analogias: comparativa entre hacerlo con función y directamente con Gensim en una liena de código\n",
    "from numpy import negative, positive\n",
    "\n",
    "def analogy(model, x1, x2, y1):\n",
    "    result = model.most_similar(positive=[y1, x2], negative=[x1])\n",
    "    return result[0][0]\n",
    "\n",
    "analogy(model_es, 'caminar', 'caminando', 'pensar')\n"
   ]
  },
  {
   "cell_type": "code",
   "execution_count": 18,
   "metadata": {},
   "outputs": [
    {
     "data": {
      "text/plain": [
       "[('pensando', 0.653136670589447)]"
      ]
     },
     "execution_count": 18,
     "metadata": {},
     "output_type": "execute_result"
    }
   ],
   "source": [
    "model_es.most_similar(positive=['pensar','caminando'], negative=['caminar'], topn=1)\n",
    "# se puede observar que es el mismo resultado"
   ]
  },
  {
   "cell_type": "code",
   "execution_count": 34,
   "metadata": {},
   "outputs": [
    {
     "data": {
      "text/plain": [
       "[('chile2', 0.6111091375350952),\n",
       " ('chilena', 0.6027321219444275),\n",
       " ('chiledu', 0.5967060327529907),\n",
       " ('bolivia', 0.5691836476325989),\n",
       " ('chilea', 0.5562186241149902),\n",
       " ('antofagasta', 0.5533804893493652),\n",
       " ('argentina', 0.5515984892845154),\n",
       " ('ecuador', 0.5405001044273376),\n",
       " ('chilex', 0.5386781096458435),\n",
       " ('valparaíso', 0.5310677289962769)]"
      ]
     },
     "execution_count": 34,
     "metadata": {},
     "output_type": "execute_result"
    }
   ],
   "source": [
    "# Ejemplo 2\n",
    "model_es.most_similar(positive=['chile','mujer'], negative=['hombre'])"
   ]
  },
  {
   "cell_type": "code",
   "execution_count": 38,
   "metadata": {},
   "outputs": [
    {
     "data": {
      "text/plain": [
       "[('aires', 0.7352921962738037),\n",
       " ('argentinay', 0.6647652387619019),\n",
       " ('argentino', 0.6434076428413391),\n",
       " ('neuquén', 0.6407351493835449),\n",
       " ('bariloche', 0.6374251842498779),\n",
       " ('esquel', 0.6308908462524414),\n",
       " ('tucumán', 0.6209922432899475),\n",
       " ('montevideo', 0.6202198266983032),\n",
       " ('argentinam', 0.6175807118415833),\n",
       " ('catamarca', 0.6056064963340759)]"
      ]
     },
     "execution_count": 38,
     "metadata": {},
     "output_type": "execute_result"
    }
   ],
   "source": [
    "# Ejemplo3\n",
    "model_es.most_similar(positive=['argentina','brasilia'], negative=['brasil'])"
   ]
  },
  {
   "cell_type": "code",
   "execution_count": 48,
   "metadata": {},
   "outputs": [
    {
     "data": {
      "text/plain": [
       "[('tandilense', 0.5718888640403748),\n",
       " ('federer', 0.5575558543205261),\n",
       " ('argentino', 0.5560175180435181),\n",
       " ('nalbandian', 0.5551522374153137),\n",
       " ('djokovic', 0.5535011291503906),\n",
       " ('zeballos', 0.5508044958114624),\n",
       " ('garín', 0.5437861084938049),\n",
       " ('banfield', 0.5352136492729187),\n",
       " ('đoković', 0.5317217707633972),\n",
       " ('djoković', 0.5287153124809265)]"
      ]
     },
     "execution_count": 48,
     "metadata": {},
     "output_type": "execute_result"
    }
   ],
   "source": [
    "# Ejemplo 4\n",
    "model_es.most_similar(positive=['argentina','nadal'], negative=['españa'])"
   ]
  },
  {
   "cell_type": "code",
   "execution_count": 49,
   "metadata": {},
   "outputs": [
    {
     "data": {
      "text/plain": [
       "[('bogotá', 0.8238403797149658),\n",
       " ('medellín', 0.7347131967544556),\n",
       " ('barranquilla', 0.7271052598953247),\n",
       " ('antioquia', 0.7188071012496948),\n",
       " ('nariño', 0.7158085703849792),\n",
       " ('bucaramanga', 0.714212954044342),\n",
       " ('cúcuta', 0.7115553021430969),\n",
       " ('cundinamarca', 0.7014581561088562),\n",
       " ('ibagué', 0.697793185710907),\n",
       " ('popayán', 0.6908361911773682)]"
      ]
     },
     "execution_count": 49,
     "metadata": {},
     "output_type": "execute_result"
    }
   ],
   "source": [
    "# Ejemplo 5\n",
    "model_es.most_similar(positive=['colombia','montevideo'], negative=['uruguay'])"
   ]
  },
  {
   "cell_type": "code",
   "execution_count": 50,
   "metadata": {},
   "outputs": [
    {
     "data": {
      "text/plain": [
       "[('podóloga', 0.46492791175842285),\n",
       " ('clienta', 0.44701749086380005),\n",
       " ('nefróloga', 0.4391913414001465),\n",
       " ('ginecóloga', 0.4372602105140686),\n",
       " ('uróloga', 0.43637749552726746),\n",
       " ('robopsicóloga', 0.4344342052936554),\n",
       " ('oncóloga', 0.4332377314567566),\n",
       " ('vaginadora', 0.4332067668437958),\n",
       " ('diseñadora', 0.4305908679962158),\n",
       " ('radióloga', 0.43041637539863586)]"
      ]
     },
     "execution_count": 50,
     "metadata": {},
     "output_type": "execute_result"
    }
   ],
   "source": [
    "# 5.  Con algunos terminos tiene sesgo\n",
    "\n",
    "terminos_mujer = ['mujer', 'ella', 'señora', 'chica']\n",
    "terminos_hombre = ['hombre', 'el', 'caballero', 'chico']\n",
    "model_es.most_similar(positive=terminos_mujer + ['programador'], negative=terminos_hombre)"
   ]
  },
  {
   "cell_type": "markdown",
   "metadata": {},
   "source": [
    "#### Ejercicio 2: \"Otros text embedding\" (opcional)\n",
    "\n",
    "Probar otro método de generar el text embedding a partir de los word embeddings y reportar los resultados."
   ]
  },
  {
   "cell_type": "code",
   "execution_count": 15,
   "metadata": {},
   "outputs": [
    {
     "name": "stderr",
     "output_type": "stream",
     "text": [
      "C:\\Users\\hgarnica\\AppData\\Local\\Temp\\ipykernel_22500\\2759239655.py:9: DeprecationWarning: Call to deprecated `glove2word2vec` (KeyedVectors.load_word2vec_format(.., binary=False, no_header=True) loads GLoVE text vectors.).\n",
      "  glove2word2vec(embeddings_path, word2vec_glove_file)\n"
     ]
    }
   ],
   "source": [
    "from gensim.test.utils import datapath, get_tmpfile\n",
    "from gensim.scripts.glove2word2vec import glove2word2vec\n",
    "\n",
    "embeddings_path = '../../models/glove.6B/glove.6B.300d.txt'\n",
    "\n",
    "glove_file = datapath(embeddings_path)\n",
    "word2vec_glove_file = get_tmpfile(\"glove.6B.300d.word2vec.txt\")\n",
    "\n",
    "glove2word2vec(embeddings_path, word2vec_glove_file)\n",
    "\n",
    "model_en = KeyedVectors.load_word2vec_format(word2vec_glove_file)"
   ]
  },
  {
   "cell_type": "code",
   "execution_count": 2,
   "metadata": {},
   "outputs": [
    {
     "data": {
      "text/html": [
       "<div>\n",
       "<style scoped>\n",
       "    .dataframe tbody tr th:only-of-type {\n",
       "        vertical-align: middle;\n",
       "    }\n",
       "\n",
       "    .dataframe tbody tr th {\n",
       "        vertical-align: top;\n",
       "    }\n",
       "\n",
       "    .dataframe thead th {\n",
       "        text-align: right;\n",
       "    }\n",
       "</style>\n",
       "<table border=\"1\" class=\"dataframe\">\n",
       "  <thead>\n",
       "    <tr style=\"text-align: right;\">\n",
       "      <th></th>\n",
       "      <th>text</th>\n",
       "      <th>class</th>\n",
       "    </tr>\n",
       "  </thead>\n",
       "  <tbody>\n",
       "    <tr>\n",
       "      <th>8290</th>\n",
       "      <td>Fleet was released in 1936 during the middle o...</td>\n",
       "      <td>pos</td>\n",
       "    </tr>\n",
       "    <tr>\n",
       "      <th>19036</th>\n",
       "      <td>As is often the case, films about self-loathin...</td>\n",
       "      <td>neg</td>\n",
       "    </tr>\n",
       "    <tr>\n",
       "      <th>773</th>\n",
       "      <td>Modern, original, romantic story.&lt;br /&gt;&lt;br /&gt;V...</td>\n",
       "      <td>pos</td>\n",
       "    </tr>\n",
       "    <tr>\n",
       "      <th>1512</th>\n",
       "      <td>Though I saw this movie years ago, its impact ...</td>\n",
       "      <td>pos</td>\n",
       "    </tr>\n",
       "    <tr>\n",
       "      <th>8269</th>\n",
       "      <td>Generically speaking, Fay Grim is a highly ent...</td>\n",
       "      <td>pos</td>\n",
       "    </tr>\n",
       "    <tr>\n",
       "      <th>24699</th>\n",
       "      <td>Now, i hired this movie because Brad Dourif wa...</td>\n",
       "      <td>neg</td>\n",
       "    </tr>\n",
       "    <tr>\n",
       "      <th>15520</th>\n",
       "      <td>Like watching a neighbor's summer camp home mo...</td>\n",
       "      <td>neg</td>\n",
       "    </tr>\n",
       "    <tr>\n",
       "      <th>2718</th>\n",
       "      <td>There's a great deal of material from the Mode...</td>\n",
       "      <td>pos</td>\n",
       "    </tr>\n",
       "    <tr>\n",
       "      <th>18087</th>\n",
       "      <td>Don't even ask me why I watched this! The only...</td>\n",
       "      <td>neg</td>\n",
       "    </tr>\n",
       "    <tr>\n",
       "      <th>3444</th>\n",
       "      <td>This is my favorite movie EVER. I have watched...</td>\n",
       "      <td>pos</td>\n",
       "    </tr>\n",
       "  </tbody>\n",
       "</table>\n",
       "</div>"
      ],
      "text/plain": [
       "                                                    text class\n",
       "8290   Fleet was released in 1936 during the middle o...   pos\n",
       "19036  As is often the case, films about self-loathin...   neg\n",
       "773    Modern, original, romantic story.<br /><br />V...   pos\n",
       "1512   Though I saw this movie years ago, its impact ...   pos\n",
       "8269   Generically speaking, Fay Grim is a highly ent...   pos\n",
       "24699  Now, i hired this movie because Brad Dourif wa...   neg\n",
       "15520  Like watching a neighbor's summer camp home mo...   neg\n",
       "2718   There's a great deal of material from the Mode...   pos\n",
       "18087  Don't even ask me why I watched this! The only...   neg\n",
       "3444   This is my favorite movie EVER. I have watched...   pos"
      ]
     },
     "execution_count": 2,
     "metadata": {},
     "output_type": "execute_result"
    }
   ],
   "source": [
    "import os.path \n",
    "import glob\n",
    "import pandas as pd\n",
    "\n",
    "dataset_path = '../../data/aclImdb/'\n",
    "\n",
    "cls = ['pos', 'neg']\n",
    "\n",
    "def get_text(file_path):\n",
    "    with open(file_path, 'r') as f:\n",
    "        return '\\n'.join(f.readlines())\n",
    "\n",
    "def load_dataset(is_train, limit):\n",
    "    data_path = os.path.join(dataset_path, 'train' if is_train else 'test')\n",
    "    data = []\n",
    "    limit_per_class = limit//2\n",
    "    for c in cls:\n",
    "        class_path = os.path.join(data_path,c)\n",
    "        regex_glob = os.path.join(class_path,\"*.txt\")\n",
    "        for i, file_path in enumerate(glob.glob(regex_glob)):\n",
    "            if i == limit_per_class:\n",
    "                break\n",
    "            data.append((get_text(file_path),c))\n",
    "    return pd.DataFrame(data=data,columns=['text', 'class'])\n",
    "            \n",
    "        \n",
    "df = load_dataset(is_train=True, limit=100000).sample(frac=1)\n",
    "df.head(10)"
   ]
  },
  {
   "cell_type": "code",
   "execution_count": 18,
   "metadata": {},
   "outputs": [
    {
     "name": "stderr",
     "output_type": "stream",
     "text": [
      "[nltk_data] Downloading package punkt to\n",
      "[nltk_data]     C:\\Users\\hgarnica\\AppData\\Roaming\\nltk_data...\n",
      "[nltk_data]   Package punkt is already up-to-date!\n"
     ]
    },
    {
     "data": {
      "text/plain": [
       "True"
      ]
     },
     "execution_count": 18,
     "metadata": {},
     "output_type": "execute_result"
    }
   ],
   "source": [
    "import nltk\n",
    "nltk.download('punkt')"
   ]
  },
  {
   "cell_type": "code",
   "execution_count": 24,
   "metadata": {},
   "outputs": [],
   "source": [
    "import numpy as np\n",
    "\n",
    "# Se tomará el máximo en los embeddings de las palabras en el texto\n",
    "def get_text_embedding(text):\n",
    "    words = nltk.word_tokenize(text.lower())\n",
    "    l = [model_en[w] for w in words if w in model_en]\n",
    "    if not l:\n",
    "        return np.zeros((300,))\n",
    "    return np.array(l).max(axis=0)"
   ]
  },
  {
   "cell_type": "code",
   "execution_count": 25,
   "metadata": {},
   "outputs": [],
   "source": [
    "import tqdm\n",
    "\n",
    "def get_df_embeddings(df):\n",
    "    embs = []\n",
    "    for i, row in tqdm.tqdm(df.iterrows(), total=len(df)):\n",
    "        embs.append(get_text_embedding(row['text']))\n",
    "    embs=np.array(embs)\n",
    "    return embs"
   ]
  },
  {
   "cell_type": "code",
   "execution_count": 26,
   "metadata": {},
   "outputs": [
    {
     "name": "stderr",
     "output_type": "stream",
     "text": [
      "100%|██████████| 25000/25000 [00:49<00:00, 504.58it/s]\n"
     ]
    },
    {
     "data": {
      "text/plain": [
       "((25000, 300), (25000,))"
      ]
     },
     "execution_count": 26,
     "metadata": {},
     "output_type": "execute_result"
    }
   ],
   "source": [
    "x = get_df_embeddings(df)\n",
    "y = (df['class']=='pos').astype(int)\n",
    "x.shape, y.shape"
   ]
  },
  {
   "cell_type": "code",
   "execution_count": 27,
   "metadata": {},
   "outputs": [
    {
     "data": {
      "text/plain": [
       "((20000, 300), (5000, 300), (20000,), (5000,))"
      ]
     },
     "execution_count": 27,
     "metadata": {},
     "output_type": "execute_result"
    }
   ],
   "source": [
    "from sklearn.model_selection import train_test_split\n",
    "\n",
    "X_train, X_valid, y_train, y_valid = train_test_split(x, y, test_size=0.2, random_state=42)\n",
    "X_train.shape, X_valid.shape, y_train.shape, y_valid.shape"
   ]
  },
  {
   "cell_type": "code",
   "execution_count": 28,
   "metadata": {},
   "outputs": [
    {
     "data": {
      "text/html": [
       "<style>#sk-container-id-1 {color: black;background-color: white;}#sk-container-id-1 pre{padding: 0;}#sk-container-id-1 div.sk-toggleable {background-color: white;}#sk-container-id-1 label.sk-toggleable__label {cursor: pointer;display: block;width: 100%;margin-bottom: 0;padding: 0.3em;box-sizing: border-box;text-align: center;}#sk-container-id-1 label.sk-toggleable__label-arrow:before {content: \"▸\";float: left;margin-right: 0.25em;color: #696969;}#sk-container-id-1 label.sk-toggleable__label-arrow:hover:before {color: black;}#sk-container-id-1 div.sk-estimator:hover label.sk-toggleable__label-arrow:before {color: black;}#sk-container-id-1 div.sk-toggleable__content {max-height: 0;max-width: 0;overflow: hidden;text-align: left;background-color: #f0f8ff;}#sk-container-id-1 div.sk-toggleable__content pre {margin: 0.2em;color: black;border-radius: 0.25em;background-color: #f0f8ff;}#sk-container-id-1 input.sk-toggleable__control:checked~div.sk-toggleable__content {max-height: 200px;max-width: 100%;overflow: auto;}#sk-container-id-1 input.sk-toggleable__control:checked~label.sk-toggleable__label-arrow:before {content: \"▾\";}#sk-container-id-1 div.sk-estimator input.sk-toggleable__control:checked~label.sk-toggleable__label {background-color: #d4ebff;}#sk-container-id-1 div.sk-label input.sk-toggleable__control:checked~label.sk-toggleable__label {background-color: #d4ebff;}#sk-container-id-1 input.sk-hidden--visually {border: 0;clip: rect(1px 1px 1px 1px);clip: rect(1px, 1px, 1px, 1px);height: 1px;margin: -1px;overflow: hidden;padding: 0;position: absolute;width: 1px;}#sk-container-id-1 div.sk-estimator {font-family: monospace;background-color: #f0f8ff;border: 1px dotted black;border-radius: 0.25em;box-sizing: border-box;margin-bottom: 0.5em;}#sk-container-id-1 div.sk-estimator:hover {background-color: #d4ebff;}#sk-container-id-1 div.sk-parallel-item::after {content: \"\";width: 100%;border-bottom: 1px solid gray;flex-grow: 1;}#sk-container-id-1 div.sk-label:hover label.sk-toggleable__label {background-color: #d4ebff;}#sk-container-id-1 div.sk-serial::before {content: \"\";position: absolute;border-left: 1px solid gray;box-sizing: border-box;top: 0;bottom: 0;left: 50%;z-index: 0;}#sk-container-id-1 div.sk-serial {display: flex;flex-direction: column;align-items: center;background-color: white;padding-right: 0.2em;padding-left: 0.2em;position: relative;}#sk-container-id-1 div.sk-item {position: relative;z-index: 1;}#sk-container-id-1 div.sk-parallel {display: flex;align-items: stretch;justify-content: center;background-color: white;position: relative;}#sk-container-id-1 div.sk-item::before, #sk-container-id-1 div.sk-parallel-item::before {content: \"\";position: absolute;border-left: 1px solid gray;box-sizing: border-box;top: 0;bottom: 0;left: 50%;z-index: -1;}#sk-container-id-1 div.sk-parallel-item {display: flex;flex-direction: column;z-index: 1;position: relative;background-color: white;}#sk-container-id-1 div.sk-parallel-item:first-child::after {align-self: flex-end;width: 50%;}#sk-container-id-1 div.sk-parallel-item:last-child::after {align-self: flex-start;width: 50%;}#sk-container-id-1 div.sk-parallel-item:only-child::after {width: 0;}#sk-container-id-1 div.sk-dashed-wrapped {border: 1px dashed gray;margin: 0 0.4em 0.5em 0.4em;box-sizing: border-box;padding-bottom: 0.4em;background-color: white;}#sk-container-id-1 div.sk-label label {font-family: monospace;font-weight: bold;display: inline-block;line-height: 1.2em;}#sk-container-id-1 div.sk-label-container {text-align: center;}#sk-container-id-1 div.sk-container {/* jupyter's `normalize.less` sets `[hidden] { display: none; }` but bootstrap.min.css set `[hidden] { display: none !important; }` so we also need the `!important` here to be able to override the default hidden behavior on the sphinx rendered scikit-learn.org. See: https://github.com/scikit-learn/scikit-learn/issues/21755 */display: inline-block !important;position: relative;}#sk-container-id-1 div.sk-text-repr-fallback {display: none;}</style><div id=\"sk-container-id-1\" class=\"sk-top-container\"><div class=\"sk-text-repr-fallback\"><pre>RandomForestClassifier()</pre><b>In a Jupyter environment, please rerun this cell to show the HTML representation or trust the notebook. <br />On GitHub, the HTML representation is unable to render, please try loading this page with nbviewer.org.</b></div><div class=\"sk-container\" hidden><div class=\"sk-item\"><div class=\"sk-estimator sk-toggleable\"><input class=\"sk-toggleable__control sk-hidden--visually\" id=\"sk-estimator-id-1\" type=\"checkbox\" checked><label for=\"sk-estimator-id-1\" class=\"sk-toggleable__label sk-toggleable__label-arrow\">RandomForestClassifier</label><div class=\"sk-toggleable__content\"><pre>RandomForestClassifier()</pre></div></div></div></div></div>"
      ],
      "text/plain": [
       "RandomForestClassifier()"
      ]
     },
     "execution_count": 28,
     "metadata": {},
     "output_type": "execute_result"
    }
   ],
   "source": [
    "from sklearn.ensemble import RandomForestClassifier\n",
    "\n",
    "rf_clf = RandomForestClassifier()\n",
    "rf_clf.fit(X_train, y_train)"
   ]
  },
  {
   "cell_type": "code",
   "execution_count": 31,
   "metadata": {},
   "outputs": [
    {
     "data": {
      "text/plain": [
       "(5000,)"
      ]
     },
     "execution_count": 31,
     "metadata": {},
     "output_type": "execute_result"
    }
   ],
   "source": [
    "pred_rf = rf_clf.predict(X_valid)\n",
    "probs_rf = rf_clf.predict_proba(X_valid)\n",
    "\n",
    "pred_rf.shape"
   ]
  },
  {
   "cell_type": "code",
   "execution_count": 32,
   "metadata": {},
   "outputs": [
    {
     "data": {
      "text/plain": [
       "True"
      ]
     },
     "execution_count": 32,
     "metadata": {},
     "output_type": "execute_result"
    }
   ],
   "source": [
    "((probs_rf[:,1]>0.5) == pred_rf).all()"
   ]
  },
  {
   "cell_type": "code",
   "execution_count": 33,
   "metadata": {},
   "outputs": [
    {
     "name": "stdout",
     "output_type": "stream",
     "text": [
      "Random Forest acc: 0.7486\n"
     ]
    }
   ],
   "source": [
    "from sklearn.metrics import accuracy_score\n",
    "print(f'Random Forest acc: {accuracy_score(y_valid,pred_rf)}')"
   ]
  },
  {
   "cell_type": "markdown",
   "metadata": {},
   "source": [
    "Al utilizar Random Forest y el max al hacer el calcular el embbeding, el acc: 0.7486\n",
    "\n",
    "Al utilizar la media se habia obtenido un acc: 0.7774\n",
    "\n",
    "Lo cual la tecnica del maximo no mejoro la del promedio!!!"
   ]
  },
  {
   "cell_type": "markdown",
   "metadata": {},
   "source": [
    "#### Ejercicio 3: \"Conjunto de test\" (obligatorio)\n",
    "\n",
    "Reportar los resultados en el conjunto de test.\n",
    "\n",
    "Entrenar los resultados en toda la data de desarrollo (incluyendo x_valid), y volver a evaluar el test. Esto no se debería hacer, por qué?\n",
    "\n",
    "En la práctica, no obstante es común entrenar la configuración elegida en toda la data de desarrollo y luego evaluar en el test. Notar que esto no supone un conflicto siempre y cuando evaluemos en test UNA SOLA VEZ (no vale elegir entre el modelo entrenado en toda la data de desarrollo.\n",
    "Que ventajas se hace e"
   ]
  },
  {
   "cell_type": "code",
   "execution_count": 35,
   "metadata": {},
   "outputs": [
    {
     "data": {
      "text/html": [
       "<div>\n",
       "<style scoped>\n",
       "    .dataframe tbody tr th:only-of-type {\n",
       "        vertical-align: middle;\n",
       "    }\n",
       "\n",
       "    .dataframe tbody tr th {\n",
       "        vertical-align: top;\n",
       "    }\n",
       "\n",
       "    .dataframe thead th {\n",
       "        text-align: right;\n",
       "    }\n",
       "</style>\n",
       "<table border=\"1\" class=\"dataframe\">\n",
       "  <thead>\n",
       "    <tr style=\"text-align: right;\">\n",
       "      <th></th>\n",
       "      <th>text</th>\n",
       "      <th>class</th>\n",
       "    </tr>\n",
       "  </thead>\n",
       "  <tbody>\n",
       "    <tr>\n",
       "      <th>14920</th>\n",
       "      <td>Secret Service agent Jay Killion (Charles Bron...</td>\n",
       "      <td>neg</td>\n",
       "    </tr>\n",
       "    <tr>\n",
       "      <th>11863</th>\n",
       "      <td>For the sake of propaganda during World War II...</td>\n",
       "      <td>pos</td>\n",
       "    </tr>\n",
       "    <tr>\n",
       "      <th>6750</th>\n",
       "      <td>I have to say I was pleasantly surprised by th...</td>\n",
       "      <td>pos</td>\n",
       "    </tr>\n",
       "    <tr>\n",
       "      <th>15424</th>\n",
       "      <td>Okay, I like to give the benefit of the doubt....</td>\n",
       "      <td>neg</td>\n",
       "    </tr>\n",
       "    <tr>\n",
       "      <th>15306</th>\n",
       "      <td>If you're a kid liking fairy tale \"real life\" ...</td>\n",
       "      <td>neg</td>\n",
       "    </tr>\n",
       "    <tr>\n",
       "      <th>2116</th>\n",
       "      <td>I love this movie and I recommend it to anybod...</td>\n",
       "      <td>pos</td>\n",
       "    </tr>\n",
       "    <tr>\n",
       "      <th>2799</th>\n",
       "      <td>CONTAINS \"SPOILER\" INFORMATION. Watch this dir...</td>\n",
       "      <td>pos</td>\n",
       "    </tr>\n",
       "    <tr>\n",
       "      <th>4646</th>\n",
       "      <td>I mean let's face it, all you have to do in mo...</td>\n",
       "      <td>pos</td>\n",
       "    </tr>\n",
       "    <tr>\n",
       "      <th>17410</th>\n",
       "      <td>Warning Might contain spoilers&lt;br /&gt;&lt;br /&gt;i ju...</td>\n",
       "      <td>neg</td>\n",
       "    </tr>\n",
       "    <tr>\n",
       "      <th>18525</th>\n",
       "      <td>What can be said about THIS? Truly one of the ...</td>\n",
       "      <td>neg</td>\n",
       "    </tr>\n",
       "  </tbody>\n",
       "</table>\n",
       "</div>"
      ],
      "text/plain": [
       "                                                    text class\n",
       "14920  Secret Service agent Jay Killion (Charles Bron...   neg\n",
       "11863  For the sake of propaganda during World War II...   pos\n",
       "6750   I have to say I was pleasantly surprised by th...   pos\n",
       "15424  Okay, I like to give the benefit of the doubt....   neg\n",
       "15306  If you're a kid liking fairy tale \"real life\" ...   neg\n",
       "2116   I love this movie and I recommend it to anybod...   pos\n",
       "2799   CONTAINS \"SPOILER\" INFORMATION. Watch this dir...   pos\n",
       "4646   I mean let's face it, all you have to do in mo...   pos\n",
       "17410  Warning Might contain spoilers<br /><br />i ju...   neg\n",
       "18525  What can be said about THIS? Truly one of the ...   neg"
      ]
     },
     "execution_count": 35,
     "metadata": {},
     "output_type": "execute_result"
    }
   ],
   "source": [
    "df_test = load_dataset(is_train=False, limit=100000).sample(frac=1)\n",
    "df_test.head(10)"
   ]
  },
  {
   "cell_type": "code",
   "execution_count": 40,
   "metadata": {},
   "outputs": [
    {
     "name": "stderr",
     "output_type": "stream",
     "text": [
      "100%|██████████| 25000/25000 [00:47<00:00, 521.18it/s]\n"
     ]
    },
    {
     "data": {
      "text/plain": [
       "((25000, 300), (25000,))"
      ]
     },
     "execution_count": 40,
     "metadata": {},
     "output_type": "execute_result"
    }
   ],
   "source": [
    "x_test = get_df_embeddings(df_test)\n",
    "y_test = (df_test['class']=='pos').astype(int)\n",
    "x_test.shape, y_test.shape"
   ]
  },
  {
   "cell_type": "code",
   "execution_count": 41,
   "metadata": {},
   "outputs": [
    {
     "data": {
      "text/plain": [
       "(25000,)"
      ]
     },
     "execution_count": 41,
     "metadata": {},
     "output_type": "execute_result"
    }
   ],
   "source": [
    "pred_rf_test = rf_clf.predict(x_test)\n",
    "probs_rf_test = rf_clf.predict_proba(x_test)\n",
    "\n",
    "pred_rf_test.shape"
   ]
  },
  {
   "cell_type": "code",
   "execution_count": 42,
   "metadata": {},
   "outputs": [
    {
     "name": "stdout",
     "output_type": "stream",
     "text": [
      "Random Forest acc: 0.73616\n"
     ]
    }
   ],
   "source": [
    "print(f'Random Forest accuracy test: {accuracy_score(y_test,pred_rf_test)}')\n"
   ]
  },
  {
   "cell_type": "markdown",
   "metadata": {},
   "source": [
    "El accuracy del modelo obtenido con los datos de test siguen siendo muy buenos. Muy cercano al obtenido con la validación.\n"
   ]
  },
  {
   "cell_type": "markdown",
   "metadata": {},
   "source": [
    "Volvemos a entrenar con todos los datos del train y de validación"
   ]
  },
  {
   "cell_type": "code",
   "execution_count": 43,
   "metadata": {},
   "outputs": [
    {
     "data": {
      "text/html": [
       "<style>#sk-container-id-3 {color: black;background-color: white;}#sk-container-id-3 pre{padding: 0;}#sk-container-id-3 div.sk-toggleable {background-color: white;}#sk-container-id-3 label.sk-toggleable__label {cursor: pointer;display: block;width: 100%;margin-bottom: 0;padding: 0.3em;box-sizing: border-box;text-align: center;}#sk-container-id-3 label.sk-toggleable__label-arrow:before {content: \"▸\";float: left;margin-right: 0.25em;color: #696969;}#sk-container-id-3 label.sk-toggleable__label-arrow:hover:before {color: black;}#sk-container-id-3 div.sk-estimator:hover label.sk-toggleable__label-arrow:before {color: black;}#sk-container-id-3 div.sk-toggleable__content {max-height: 0;max-width: 0;overflow: hidden;text-align: left;background-color: #f0f8ff;}#sk-container-id-3 div.sk-toggleable__content pre {margin: 0.2em;color: black;border-radius: 0.25em;background-color: #f0f8ff;}#sk-container-id-3 input.sk-toggleable__control:checked~div.sk-toggleable__content {max-height: 200px;max-width: 100%;overflow: auto;}#sk-container-id-3 input.sk-toggleable__control:checked~label.sk-toggleable__label-arrow:before {content: \"▾\";}#sk-container-id-3 div.sk-estimator input.sk-toggleable__control:checked~label.sk-toggleable__label {background-color: #d4ebff;}#sk-container-id-3 div.sk-label input.sk-toggleable__control:checked~label.sk-toggleable__label {background-color: #d4ebff;}#sk-container-id-3 input.sk-hidden--visually {border: 0;clip: rect(1px 1px 1px 1px);clip: rect(1px, 1px, 1px, 1px);height: 1px;margin: -1px;overflow: hidden;padding: 0;position: absolute;width: 1px;}#sk-container-id-3 div.sk-estimator {font-family: monospace;background-color: #f0f8ff;border: 1px dotted black;border-radius: 0.25em;box-sizing: border-box;margin-bottom: 0.5em;}#sk-container-id-3 div.sk-estimator:hover {background-color: #d4ebff;}#sk-container-id-3 div.sk-parallel-item::after {content: \"\";width: 100%;border-bottom: 1px solid gray;flex-grow: 1;}#sk-container-id-3 div.sk-label:hover label.sk-toggleable__label {background-color: #d4ebff;}#sk-container-id-3 div.sk-serial::before {content: \"\";position: absolute;border-left: 1px solid gray;box-sizing: border-box;top: 0;bottom: 0;left: 50%;z-index: 0;}#sk-container-id-3 div.sk-serial {display: flex;flex-direction: column;align-items: center;background-color: white;padding-right: 0.2em;padding-left: 0.2em;position: relative;}#sk-container-id-3 div.sk-item {position: relative;z-index: 1;}#sk-container-id-3 div.sk-parallel {display: flex;align-items: stretch;justify-content: center;background-color: white;position: relative;}#sk-container-id-3 div.sk-item::before, #sk-container-id-3 div.sk-parallel-item::before {content: \"\";position: absolute;border-left: 1px solid gray;box-sizing: border-box;top: 0;bottom: 0;left: 50%;z-index: -1;}#sk-container-id-3 div.sk-parallel-item {display: flex;flex-direction: column;z-index: 1;position: relative;background-color: white;}#sk-container-id-3 div.sk-parallel-item:first-child::after {align-self: flex-end;width: 50%;}#sk-container-id-3 div.sk-parallel-item:last-child::after {align-self: flex-start;width: 50%;}#sk-container-id-3 div.sk-parallel-item:only-child::after {width: 0;}#sk-container-id-3 div.sk-dashed-wrapped {border: 1px dashed gray;margin: 0 0.4em 0.5em 0.4em;box-sizing: border-box;padding-bottom: 0.4em;background-color: white;}#sk-container-id-3 div.sk-label label {font-family: monospace;font-weight: bold;display: inline-block;line-height: 1.2em;}#sk-container-id-3 div.sk-label-container {text-align: center;}#sk-container-id-3 div.sk-container {/* jupyter's `normalize.less` sets `[hidden] { display: none; }` but bootstrap.min.css set `[hidden] { display: none !important; }` so we also need the `!important` here to be able to override the default hidden behavior on the sphinx rendered scikit-learn.org. See: https://github.com/scikit-learn/scikit-learn/issues/21755 */display: inline-block !important;position: relative;}#sk-container-id-3 div.sk-text-repr-fallback {display: none;}</style><div id=\"sk-container-id-3\" class=\"sk-top-container\"><div class=\"sk-text-repr-fallback\"><pre>RandomForestClassifier()</pre><b>In a Jupyter environment, please rerun this cell to show the HTML representation or trust the notebook. <br />On GitHub, the HTML representation is unable to render, please try loading this page with nbviewer.org.</b></div><div class=\"sk-container\" hidden><div class=\"sk-item\"><div class=\"sk-estimator sk-toggleable\"><input class=\"sk-toggleable__control sk-hidden--visually\" id=\"sk-estimator-id-3\" type=\"checkbox\" checked><label for=\"sk-estimator-id-3\" class=\"sk-toggleable__label sk-toggleable__label-arrow\">RandomForestClassifier</label><div class=\"sk-toggleable__content\"><pre>RandomForestClassifier()</pre></div></div></div></div></div>"
      ],
      "text/plain": [
       "RandomForestClassifier()"
      ]
     },
     "execution_count": 43,
     "metadata": {},
     "output_type": "execute_result"
    }
   ],
   "source": [
    "# Entranamod con todos los datos de train y valid\n",
    "\n",
    "rf_clf2 = RandomForestClassifier()\n",
    "rf_clf2.fit(x, y)"
   ]
  },
  {
   "cell_type": "code",
   "execution_count": 45,
   "metadata": {},
   "outputs": [
    {
     "data": {
      "text/plain": [
       "(25000,)"
      ]
     },
     "execution_count": 45,
     "metadata": {},
     "output_type": "execute_result"
    }
   ],
   "source": [
    "pred_rf2_test = rf_clf2.predict(x_test)\n",
    "probs_rf2_test = rf_clf2.predict_proba(x_test)\n",
    "\n",
    "pred_rf_test.shape"
   ]
  },
  {
   "cell_type": "code",
   "execution_count": 46,
   "metadata": {},
   "outputs": [
    {
     "name": "stdout",
     "output_type": "stream",
     "text": [
      "Random Forest acc: 0.73732\n"
     ]
    }
   ],
   "source": [
    "print(f'Random Forest acc: {accuracy_score(y_test,pred_rf2_test)}')\n"
   ]
  },
  {
   "cell_type": "markdown",
   "metadata": {},
   "source": [
    "Se puede ver que el accuracy mejora. Pero esto no está bien hacerlo. Entrenar el modelo con todos los datos de desarrollo anularía el propósito del conjunto de validación y podría dar una evaluación sobreajustada del rendimiento del modelo. Mantener la separación entre estos conjuntos asegura que tengas una evaluación justa y precisa de cómo el modelo puede rendir en datos no vistos."
   ]
  },
  {
   "cell_type": "markdown",
   "metadata": {},
   "source": [
    "De todos modos se podria entrenar sumando los datos de validaciòn a los fines de poder evaluar el modelo con los datos que nunca vio. Luego testear con los datos de test y asi poder tener mejor metrica del modelo. Pero luego mantener el modelo inicial que no vio los datos de validación."
   ]
  }
 ],
 "metadata": {
  "kernelspec": {
   "display_name": "base",
   "language": "python",
   "name": "python3"
  },
  "language_info": {
   "codemirror_mode": {
    "name": "ipython",
    "version": 3
   },
   "file_extension": ".py",
   "mimetype": "text/x-python",
   "name": "python",
   "nbconvert_exporter": "python",
   "pygments_lexer": "ipython3",
   "version": "3.11.7"
  }
 },
 "nbformat": 4,
 "nbformat_minor": 2
}

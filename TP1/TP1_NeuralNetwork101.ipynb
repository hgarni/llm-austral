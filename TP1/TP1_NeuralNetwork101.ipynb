{
 "cells": [
  {
   "cell_type": "code",
   "execution_count": 1,
   "id": "a7047fa1-fa53-4496-b9cc-db8b410c58a6",
   "metadata": {},
   "outputs": [],
   "source": [
    "import torch\n",
    "import numpy as np\n",
    "from matplotlib import pyplot\n",
    "import math"
   ]
  },
  {
   "cell_type": "markdown",
   "id": "df203554-56b6-4c5f-ac16-6f4be578e3fc",
   "metadata": {},
   "source": [
    "# Introducción a redes neuronales en pytorch\n",
    "\n",
    "En este notebook veremos como aprovechar la diferenciación automática que provee Pytorch (autograd) para programar redes neuronales.\n",
    "\n",
    "Lo haremos para identificar dígitos (número del 0-9) dada una imagen del mismo. \n",
    "\n",
    "El dataset es conocido como MNIST. **La idea NO es aprender a reconocer dígitos (ni imágenes) sino fijar los conceptos de redes neuronales y ver como se implementan en Pytorch.** Además conocer práctica habituales a la hora de entrenar redes neuronales"
   ]
  },
  {
   "cell_type": "markdown",
   "id": "11632e7a-c71c-44dc-848c-92544b0ea438",
   "metadata": {},
   "source": [
    "### Descargando el dataset\n",
    "\n",
    "Descargaremos el dataset MNIST de la página de pytorch. Para ello crearemos un subdirectorio en nuestra carpeta actual llamado \"data\" donde guardaremos nuestros datasets (esta es una práctica habitual en los proyectos de Machine Learning). Dentro de la carpeta \"data\" crearemos una subcarpeta para cada dataset. En este caso crearemos la subcarpeta \"mnist\":"
   ]
  },
  {
   "cell_type": "code",
   "execution_count": 2,
   "id": "47b7ab9f-8339-4eb2-a20b-62b2ae65dffe",
   "metadata": {},
   "outputs": [],
   "source": [
    "from pathlib import Path\n",
    "import requests\n",
    "\n",
    "DATA_PATH = Path(\"../data\")\n",
    "PATH = DATA_PATH / \"mnist\"\n",
    "\n",
    "# Creara ../data/mnist si no existe \n",
    "# (si no existe ./data lo creará y creará ./data/mnist)\n",
    "# (y si existe pero no existe ./data/mnist sólo creará este último).\n",
    "# Cualquier cuestión que no se entienda, consultar la documentación de las librerías\n",
    "# por ejemplo https://docs.python.org/3/library/pathlib.html\n",
    "PATH.mkdir(parents=True, exist_ok=True)\n",
    "\n",
    "URL = \"https://github.com/pytorch/tutorials/raw/main/_static/\"\n",
    "FILENAME = \"mnist.pkl.gz\"\n",
    "\n",
    "# Descargamos mnist.pkl.gz utilizando un HTTP GET request\n",
    "if not (PATH / FILENAME).exists():\n",
    "        content = requests.get(URL + FILENAME).content\n",
    "        (PATH / FILENAME).open(\"wb\").write(content)"
   ]
  },
  {
   "cell_type": "markdown",
   "id": "d01be179-f2a7-4bbe-a825-6b269c18327f",
   "metadata": {},
   "source": [
    "### Cargando el dataset\n",
    "\n",
    "Cada dataset tiene diferentes formas. Hay veces que se presenta como un conjunto de imágenes dentro de carpetas cuyo nombre indica la clase a la que pertenece. En este caso el dataset MNIST descargado contiene 4 numpy arrays con los datos de las imágenes y las clases de train y tests respectivamente"
   ]
  },
  {
   "cell_type": "code",
   "execution_count": 3,
   "id": "6d3bcb5b-7c81-4ef4-988d-dcf4eda1b624",
   "metadata": {},
   "outputs": [],
   "source": [
    "import pickle\n",
    "import gzip\n",
    "\n",
    "# Los arrays de las imagenes fueron guardados en un archivo formato pickle, que se utiliza para persistir variable en Python\n",
    "with gzip.open((PATH / FILENAME).as_posix(), \"rb\") as f:\n",
    "        ((x_train, y_train), (x_valid, y_valid), _) = pickle.load(f, encoding=\"latin-1\")"
   ]
  },
  {
   "cell_type": "code",
   "execution_count": 4,
   "id": "0e5500e3-d134-472e-a0d2-6c738f7ab831",
   "metadata": {},
   "outputs": [
    {
     "data": {
      "text/plain": [
       "((50000, 784), (50000,), (10000, 784), (10000,))"
      ]
     },
     "execution_count": 4,
     "metadata": {},
     "output_type": "execute_result"
    }
   ],
   "source": [
    "x_train.shape, y_train.shape, x_valid.shape, y_valid.shape"
   ]
  },
  {
   "cell_type": "markdown",
   "id": "ebddc0a4-bec0-4b51-b491-84d62ee44e4c",
   "metadata": {},
   "source": [
    "#### Visualizando el dataset\n",
    "\n",
    "Visualizemos la clase y la imagen del primer elemento del training set:"
   ]
  },
  {
   "cell_type": "code",
   "execution_count": 5,
   "id": "ae0b7336-a2f1-4d2b-8879-3addd06bc657",
   "metadata": {},
   "outputs": [
    {
     "data": {
      "text/plain": [
       "5"
      ]
     },
     "execution_count": 5,
     "metadata": {},
     "output_type": "execute_result"
    }
   ],
   "source": [
    "y_train[0]"
   ]
  },
  {
   "cell_type": "markdown",
   "id": "5d8c344d-b598-4bc4-a36f-4c0d939d1738",
   "metadata": {},
   "source": [
    "x_train contiene el valor de los $28 \\times 28$ pixeles \"aplanado\" (transformado en una sóla dimensión de longitud 784)"
   ]
  },
  {
   "cell_type": "code",
   "execution_count": 6,
   "id": "615a2825-9f56-45ea-bb63-663ae5c9a46a",
   "metadata": {},
   "outputs": [
    {
     "data": {
      "text/plain": [
       "(784,)"
      ]
     },
     "execution_count": 6,
     "metadata": {},
     "output_type": "execute_result"
    }
   ],
   "source": [
    "x_train[0].shape"
   ]
  },
  {
   "cell_type": "code",
   "execution_count": 7,
   "id": "ed5406a3-51f1-4c68-95ea-c1abc7db44f3",
   "metadata": {},
   "outputs": [
    {
     "data": {
      "text/plain": [
       "array([0.        , 0.        , 0.        , 0.        , 0.        ,\n",
       "       0.        , 0.        , 0.        , 0.        , 0.        ,\n",
       "       0.        , 0.        , 0.        , 0.        , 0.        ,\n",
       "       0.        , 0.        , 0.        , 0.        , 0.54296875,\n",
       "       0.98828125, 0.7421875 , 0.0078125 , 0.        , 0.        ,\n",
       "       0.        , 0.        , 0.        , 0.        , 0.        ,\n",
       "       0.        , 0.        , 0.        , 0.        , 0.        ,\n",
       "       0.        , 0.        , 0.        , 0.        , 0.        ,\n",
       "       0.        , 0.        , 0.        , 0.        , 0.        ,\n",
       "       0.        , 0.        , 0.04296875, 0.7421875 , 0.98828125,\n",
       "       0.2734375 , 0.        , 0.        , 0.        , 0.        ,\n",
       "       0.        , 0.        , 0.        , 0.        , 0.        ,\n",
       "       0.        , 0.        , 0.        , 0.        , 0.        ,\n",
       "       0.        , 0.        , 0.        , 0.        , 0.        ,\n",
       "       0.        , 0.        , 0.        , 0.        , 0.        ,\n",
       "       0.        , 0.13671875, 0.94140625, 0.87890625, 0.625     ,\n",
       "       0.421875  , 0.00390625, 0.        , 0.        , 0.        ,\n",
       "       0.        , 0.        , 0.        , 0.        , 0.        ,\n",
       "       0.        , 0.        , 0.        , 0.        , 0.        ,\n",
       "       0.        , 0.        , 0.        , 0.        , 0.        ],\n",
       "      dtype=float32)"
      ]
     },
     "execution_count": 7,
     "metadata": {},
     "output_type": "execute_result"
    }
   ],
   "source": [
    "x_train[0][300:400]"
   ]
  },
  {
   "cell_type": "markdown",
   "id": "d3890ee9-7efc-4ce1-b79e-00985c17964d",
   "metadata": {},
   "source": [
    "Para visualizar la imagen tenemos que volver al array de pixeles a su estado original (dos dimensiones de tamaño 28)"
   ]
  },
  {
   "cell_type": "code",
   "execution_count": 8,
   "id": "f24a8e11-f297-4558-b1ad-35f523645f35",
   "metadata": {},
   "outputs": [
    {
     "data": {
      "image/png": "[encoded data removed]",
      "text/plain": [
       "<Figure size 640x480 with 1 Axes>"
      ]
     },
     "metadata": {},
     "output_type": "display_data"
    }
   ],
   "source": [
    "pyplot.imshow(x_train[0].reshape((28, 28)), cmap=\"gray\")\n",
    "pyplot.show()"
   ]
  },
  {
   "cell_type": "markdown",
   "id": "5a900640-93a5-4d45-8c35-89b541a0e1f3",
   "metadata": {},
   "source": [
    "## Creando nuestra red neuronal\n",
    "\n",
    "Vimos que una red neuronal es una composición de funciones que llevan de $\\large \\mathbb{R}^{n_{in}}$ a $\\large \\mathbb{R}^{n_{out}}$, como composición de funciones que transforman vectores en vectores:\n",
    "\n",
    "$\\Large \\mathbb{R}^{n_{in}} \\rightarrow \\mathbb{R}^{n_{hidden_1}} \\rightarrow \\mathbb{R}^{n_{hidden_2}} \\rightarrow ... \\rightarrow \\mathbb{R}^{n_{out}}$\n",
    "\n",
    "Vamos a entrenar una red de dos capas ocultas de tamaño 512. O sea concretamente nuestra red tendrá la forma:\n",
    "\n",
    "$\\Large \\mathbb{R}^{784} \\rightarrow \\mathbb{R}^{512} \\rightarrow \\mathbb{R}^{512} \\rightarrow \\mathbb{R}^{10}$\n",
    "\n",
    "Como vimos cada función toma los valores de la capa anterior $h_{t}$ y produce los de la capa subsiguiente $h_{t+1}$ aplicando una transformación lineal seguida de una función no-lineal $g$:\n",
    "\n",
    "$h_{t+1} = g( h_t \\times W_t + b_t )$\n",
    "\n",
    "$g$ será la función $ReLU$ excepto para la última capa que utilizaremos la función softmax:\n",
    "\n",
    "$ReLU(x) = max(0, x)$\n",
    "\n",
    "La función softmax toma un vector de longitud $n$, lo positiviza aplicando $e^x$ y luego divide cada componente por la suma de cada uno de dichos términos positivos. Como resultado da un vector de longitud $n$ que es siempre positivo y la suma es $1$. Se utiliza cuando se espera que la salida sea una distribución de probabilidad. En problemas de clasificación, la salida son $n$ probabilidades siendo $n$ el número de clases (la probabilidad que da el modelo para que el $x$ suministrado pertenezca a cada una de las clases).\n",
    "\n",
    "Los pesos de cada capa son inicializados de manera aleatoria con una fórmula que los escala teniendo en cuenta la dimensión de entrada y salida. Lo que se pretende con esto es que los valores de las activaciones no crezcan demasiado, ya que de hacerlo luego $e^x$ (aplicado en la última capa por la softmax resultará en el valor inf."
   ]
  },
  {
   "cell_type": "code",
   "execution_count": 9,
   "id": "e6becad6-5741-4fe2-9333-545827bac5b0",
   "metadata": {},
   "outputs": [
    {
     "data": {
      "text/plain": [
       "(tensor([0.0010, 0.1251, 0.2475, 0.0554, 0.3730, 0.0354, 0.0204, 0.0188, 0.0724,\n",
       "         0.0510], grad_fn=<DivBackward0>),\n",
       " torch.Size([10]))"
      ]
     },
     "execution_count": 9,
     "metadata": {},
     "output_type": "execute_result"
    }
   ],
   "source": [
    "def w_rand(n_in, n_out):\n",
    "    return torch.normal(0, math.sqrt(6) / math.sqrt(n_in + n_out), size=(n_in,n_out), requires_grad=True)\n",
    "\n",
    "W_1 = w_rand(28*28, 512)\n",
    "b_1 = torch.zeros(512, requires_grad=True)\n",
    "\n",
    "W_2 = w_rand(512, 512)\n",
    "b_2 = torch.zeros(512, requires_grad=True)\n",
    "\n",
    "W_3 = w_rand(512,10)\n",
    "b_3 = torch.zeros(10, requires_grad=True)\n",
    "\n",
    "weights = [W_1, b_1, W_2, b_2, W_2, b_3]\n",
    "\n",
    "def softmax(x):\n",
    "    return x.exp() / x.exp().sum(-1).unsqueeze(-1)\n",
    "\n",
    "def calculate_predictions(t):\n",
    "    linear_combination_1 = t @ W_1 + b_1\n",
    "    hidden_layer_1 = torch.max(torch.tensor(0), linear_combination_1)\n",
    "    \n",
    "    linear_combination_2 = hidden_layer_1 @ W_2 + b_2\n",
    "    hidden_layer_2 = torch.max(torch.tensor(0), linear_combination_2)\n",
    "\n",
    "    linear_combination_3 = hidden_layer_2 @ W_3 + b_3\n",
    "    \n",
    "    return softmax(linear_combination_3)\n",
    "\n",
    "pred = calculate_predictions(torch.tensor(x_train[0]))\n",
    "pred, pred.shape"
   ]
  },
  {
   "cell_type": "markdown",
   "id": "fcc2dd9b-1194-4f6d-bdae-b4e2275608e1",
   "metadata": {},
   "source": [
    "Podemos corroborar que efectivamente la salida suma 1 (como debe ser por ser una distribución de probabilidad):"
   ]
  },
  {
   "cell_type": "code",
   "execution_count": 10,
   "id": "84ba3545-13ea-4d0a-abc3-8b7d95293729",
   "metadata": {},
   "outputs": [
    {
     "data": {
      "text/plain": [
       "tensor(1.0000, grad_fn=<SumBackward0>)"
      ]
     },
     "execution_count": 10,
     "metadata": {},
     "output_type": "execute_result"
    }
   ],
   "source": [
    "pred.sum()"
   ]
  },
  {
   "cell_type": "markdown",
   "id": "847e2b47-04fe-469b-9598-6dbff087e416",
   "metadata": {},
   "source": [
    "Necesitamos una función que nos genere los mini-batches, no queremos evaluar los 50000 arrays en cada iteración de descenso por gradiente:"
   ]
  },
  {
   "cell_type": "code",
   "execution_count": 11,
   "id": "d3a40f52-9d03-4bfb-84d1-befd6db429de",
   "metadata": {},
   "outputs": [
    {
     "data": {
      "text/plain": [
       "(torch.Size([32, 784]), torch.Size([32]))"
      ]
     },
     "execution_count": 11,
     "metadata": {},
     "output_type": "execute_result"
    }
   ],
   "source": [
    "batch_size = 32\n",
    "\n",
    "def get_batch(a, i):\n",
    "    return torch.tensor(a[batch_size*i:batch_size*(i+1),...])\n",
    "\n",
    "x_batch = get_batch(x_train, 0)\n",
    "y_batch = get_batch(y_train, 0)\n",
    "\n",
    "x_batch.shape, y_batch.shape"
   ]
  },
  {
   "cell_type": "markdown",
   "id": "828b7f38-d97d-45d8-82dd-7bece4f69d70",
   "metadata": {},
   "source": [
    "La misma función que calculate_predictions, que nos servía para evaluar una sóla instancia la podemos utilizar para calcular la predicción de un mini-batch entero. Esto es posible gracias al broadcasting.\n",
    "\n",
    "Se calcula de forma paralela, lo cual es ventajoso si estamos usando GPU."
   ]
  },
  {
   "cell_type": "code",
   "execution_count": 12,
   "id": "c21ab6eb-3042-4330-9de0-a222a35cf06f",
   "metadata": {},
   "outputs": [
    {
     "data": {
      "text/plain": [
       "torch.Size([32, 10])"
      ]
     },
     "execution_count": 12,
     "metadata": {},
     "output_type": "execute_result"
    }
   ],
   "source": [
    "batch_pred = calculate_predictions(x_batch)\n",
    "batch_pred.shape"
   ]
  },
  {
   "cell_type": "markdown",
   "id": "841e8996-96ec-4c1d-b461-e173499929b9",
   "metadata": {},
   "source": [
    "Como función de costo utilizaremos Negative Log Likehood (NNL). O sea el $log$ de la probabilidad de la clase objetivo:"
   ]
  },
  {
   "cell_type": "code",
   "execution_count": 13,
   "id": "1b9bcf74-f90b-4c05-b679-7368296328c3",
   "metadata": {},
   "outputs": [
    {
     "data": {
      "text/plain": [
       "tensor(3.8597, grad_fn=<NegBackward0>)"
      ]
     },
     "execution_count": 13,
     "metadata": {},
     "output_type": "execute_result"
    }
   ],
   "source": [
    "def negative_log_likehood(pred_batch, target_batch):\n",
    "    bz = pred_batch.shape[0]\n",
    "    return -torch.log(pred_batch[range(bz), target_batch]).mean()\n",
    "\n",
    "negative_log_likehood(batch_pred, y_batch)"
   ]
  },
  {
   "cell_type": "markdown",
   "id": "f214ba18-923b-4100-9866-d704c20a8534",
   "metadata": {},
   "source": [
    "La función anterior asume que los argumentos son mini-batches de predicciones y clases (no va a funcionar dado sólo una predicción):"
   ]
  },
  {
   "cell_type": "code",
   "execution_count": 14,
   "id": "3171c7f3-005f-4c9e-aa3c-cbf4d0cad0fd",
   "metadata": {},
   "outputs": [
    {
     "ename": "IndexError",
     "evalue": "too many indices for tensor of dimension 1",
     "output_type": "error",
     "traceback": [
      "\u001b[1;31m---------------------------------------------------------------------------\u001b[0m",
      "\u001b[1;31mIndexError\u001b[0m                                Traceback (most recent call last)",
      "Cell \u001b[1;32mIn[14], line 1\u001b[0m\n\u001b[1;32m----> 1\u001b[0m negative_log_likehood(pred, y_train[\u001b[38;5;241m0\u001b[39m])\n",
      "Cell \u001b[1;32mIn[13], line 3\u001b[0m, in \u001b[0;36mnegative_log_likehood\u001b[1;34m(pred_batch, target_batch)\u001b[0m\n\u001b[0;32m      1\u001b[0m \u001b[38;5;28;01mdef\u001b[39;00m \u001b[38;5;21mnegative_log_likehood\u001b[39m(pred_batch, target_batch):\n\u001b[0;32m      2\u001b[0m     bz \u001b[38;5;241m=\u001b[39m pred_batch\u001b[38;5;241m.\u001b[39mshape[\u001b[38;5;241m0\u001b[39m]\n\u001b[1;32m----> 3\u001b[0m     \u001b[38;5;28;01mreturn\u001b[39;00m \u001b[38;5;241m-\u001b[39mtorch\u001b[38;5;241m.\u001b[39mlog(pred_batch[\u001b[38;5;28mrange\u001b[39m(bz), target_batch])\u001b[38;5;241m.\u001b[39mmean()\n",
      "\u001b[1;31mIndexError\u001b[0m: too many indices for tensor of dimension 1"
     ]
    }
   ],
   "source": [
    "negative_log_likehood(pred, y_train[0])"
   ]
  },
  {
   "cell_type": "markdown",
   "id": "f36fedb0-dfcc-4fc8-80a2-15c39313ace5",
   "metadata": {},
   "source": [
    "Lo que podemos hacer en estos casos si queremos evaluarlo en una instancia sola es crear un mini-batch de tamaño 1:"
   ]
  },
  {
   "cell_type": "code",
   "execution_count": 15,
   "id": "004995c5-82a6-4eec-a3bf-c01ab4e7fad6",
   "metadata": {},
   "outputs": [
    {
     "data": {
      "text/plain": [
       "(torch.Size([1, 784]), torch.Size([1, 1]))"
      ]
     },
     "execution_count": 15,
     "metadata": {},
     "output_type": "execute_result"
    }
   ],
   "source": [
    "x = torch.tensor(x_train[0])\n",
    "y = torch.tensor([y_train[0]])\n",
    "x = x.unsqueeze(0)\n",
    "y = y.unsqueeze(0)\n",
    "x.shape, y.shape"
   ]
  },
  {
   "cell_type": "code",
   "execution_count": 16,
   "id": "2295bdc3-867e-43ec-a49d-139598340819",
   "metadata": {},
   "outputs": [
    {
     "data": {
      "text/plain": [
       "(tensor([[0.0010, 0.1251, 0.2475, 0.0554, 0.3730, 0.0354, 0.0204, 0.0188, 0.0724,\n",
       "          0.0510]], grad_fn=<DivBackward0>),\n",
       " torch.Size([1, 10]))"
      ]
     },
     "execution_count": 16,
     "metadata": {},
     "output_type": "execute_result"
    }
   ],
   "source": [
    "pred = calculate_predictions(x)\n",
    "pred, pred.shape"
   ]
  },
  {
   "cell_type": "code",
   "execution_count": 17,
   "id": "90e99409-3d86-4b21-a3e3-5711f5355aad",
   "metadata": {},
   "outputs": [
    {
     "data": {
      "text/plain": [
       "tensor(3.3425, grad_fn=<NegBackward0>)"
      ]
     },
     "execution_count": 17,
     "metadata": {},
     "output_type": "execute_result"
    }
   ],
   "source": [
    "negative_log_likehood(pred, y)"
   ]
  },
  {
   "cell_type": "markdown",
   "id": "c9a47767-498e-4371-a19f-6c2bb6feb257",
   "metadata": {},
   "source": [
    "Como métrica de evaluación utilizaremos la accuracy (tasa de aciertos):"
   ]
  },
  {
   "cell_type": "code",
   "execution_count": 18,
   "id": "5ac17d4d-a1f3-497b-b419-f95c9ae2fd9d",
   "metadata": {},
   "outputs": [
    {
     "data": {
      "text/plain": [
       "tensor(0.1250)"
      ]
     },
     "execution_count": 18,
     "metadata": {},
     "output_type": "execute_result"
    }
   ],
   "source": [
    "def accuracy(probs, target):\n",
    "    class_predictions = torch.argmax(probs, dim=1)\n",
    "    return (class_predictions == target).float().mean()\n",
    "\n",
    "accuracy(batch_pred, y_batch)"
   ]
  },
  {
   "cell_type": "markdown",
   "id": "9c09fda6-9bf2-47e4-a865-fc2fb2d25ef0",
   "metadata": {},
   "source": [
    "Ya estamos en condición de escribir nuestro loop de entrenamiento:\n",
    "1. Para cada mini-batch del train haremos un paso de descenso por gradiente:\n",
    "    1. Evaluaremos el modelo en nuestro mini-batch.\n",
    "    2. Calcularemos el costo: negative log likehood.\n",
    "    3. Calcularemos los gradientes del costo respecto de los pesos.\n",
    "    4. Actualizaremos los gradientes de los pesos. \n",
    "2. Esto lo repetiremos una cierta cantidad de épocas.\n",
    "3. Al final de cada época evaluaremos el dataset de validación y mostraremos el valor de la métrica (accuracy)."
   ]
  },
  {
   "cell_type": "code",
   "execution_count": 19,
   "id": "51fb7b90-591d-4cf7-88ab-a9e3b9860db4",
   "metadata": {},
   "outputs": [
    {
     "name": "stdout",
     "output_type": "stream",
     "text": [
      "epoch 0 | train loss 0.5100759144027394 | validation loss 0.986387277258114 | accuracy 0.8687100638977636\n",
      "epoch 1 | train loss 0.38018896940131536 | validation loss 0.47613906947163703 | accuracy 0.8962659744408946\n",
      "epoch 2 | train loss 0.3260510074682891 | validation loss 0.38664067623881615 | accuracy 0.9091453674121406\n",
      "epoch 3 | train loss 0.29576238026967444 | validation loss 0.34051261679120315 | accuracy 0.9172324281150159\n",
      "epoch 4 | train loss 0.2746359545309037 | validation loss 0.3108753324098761 | accuracy 0.924520766773163\n",
      "epoch 5 | train loss 0.257632209249912 | validation loss 0.28915133321998826 | accuracy 0.9286142172523961\n",
      "epoch 6 | train loss 0.24455134233180137 | validation loss 0.2723860100255122 | accuracy 0.9325079872204473\n",
      "epoch 7 | train loss 0.23377581118656615 | validation loss 0.2585072282596793 | accuracy 0.935702875399361\n",
      "epoch 8 | train loss 0.22625216552481864 | validation loss 0.24653531796514758 | accuracy 0.9362020766773163\n",
      "epoch 9 | train loss 0.21720353863276423 | validation loss 0.2366383991749163 | accuracy 0.9396964856230032\n",
      "epoch 10 | train loss 0.21039592362821294 | validation loss 0.22751125678534545 | accuracy 0.9417931309904153\n",
      "epoch 11 | train loss 0.20406006811002192 | validation loss 0.21951711839530022 | accuracy 0.9446884984025559\n",
      "epoch 12 | train loss 0.19805364541935558 | validation loss 0.21217152594723446 | accuracy 0.9452875399361023\n",
      "epoch 13 | train loss 0.19431824345415394 | validation loss 0.20534860093394597 | accuracy 0.9478833865814696\n",
      "epoch 14 | train loss 0.18916669666183927 | validation loss 0.19971768926142233 | accuracy 0.9495806709265175\n"
     ]
    }
   ],
   "source": [
    "n_samples_train = x_train.shape[0]\n",
    "n_samples_valid = x_valid.shape[0]\n",
    "\n",
    "n_batches_train = n_samples_train // batch_size\n",
    "n_batches_valid = (n_samples_valid + batch_size - 1) // batch_size\n",
    "\n",
    "learning_rate = 0.001\n",
    "n_epochs = 15\n",
    "\n",
    "for idx_epoch in range(n_epochs):\n",
    "    # Loop de entrenamiento\n",
    "    loss_train_sum = 0\n",
    "    for idx_batch in range(n_batches_train):\n",
    "        # Obtenemos un mini-batch de entrenamiento\n",
    "        x_train_batch, y_train_batch = get_batch(x_train, idx_batch), get_batch(y_train, idx_batch)\n",
    "        \n",
    "        # Calculamos las predciones del modelo para dicho mini-batch\n",
    "        predictions = calculate_predictions(x_train_batch)\n",
    "    \n",
    "        # Calculamos el costo de dichas predicciones\n",
    "        loss = negative_log_likehood(predictions, y_train_batch)\n",
    "    \n",
    "        # Calculamos el gradiente de los pesos\n",
    "        # Antes de llamar a backwards, inicializarmos los gradientes en cero. \n",
    "        # Recordar que Pytorch acumula los gradientes, de modo que si llamamos \n",
    "        # a backwards dos veces sin inicializar en cero, se acumularán ambos cálculos.\n",
    "        for w in weights:\n",
    "            if w.grad is not None:\n",
    "                w.grad.zero_()\n",
    "        loss.backward()\n",
    "        loss_train_sum += loss.item()\n",
    "    \n",
    "        # Actualizaremos los pesos utilizando los gradientes, según la fórmula de descenso por gradiente\n",
    "        for w in weights:\n",
    "            w.data -= w.grad.data * learning_rate\n",
    "        \n",
    "    # Una vez terminado el entrenamiento\n",
    "    # Shuffleamos los datos de entrenamiento de modo que los mini-batches de la próxima epoch sean distintos\n",
    "    idxs_rand = torch.randperm(x_train.shape[0])\n",
    "    x_train = x_train[idxs_rand,...]\n",
    "    y_train = y_train[idxs_rand,...]\n",
    "\n",
    "    # Evaluamos los datos en validación\n",
    "    loss_validation_sum = 0\n",
    "    accuracy_sum = 0\n",
    "    for idx_batch in range(n_batches_valid):\n",
    "        # Obtenemos un mini-batch de validación\n",
    "        x_valid_batch, y_valid_batch = get_batch(x_valid, idx_batch), get_batch(y_valid, idx_batch)\n",
    "        predictions = calculate_predictions(x_valid_batch)\n",
    "        loss = negative_log_likehood(predictions, y_valid_batch)\n",
    "        loss_validation_sum += loss.item()\n",
    "\n",
    "        # Evaluamos nuestra métrica. NUNCA lo hacemos en train\n",
    "        accuracy_sum += accuracy(predictions, y_valid_batch).item()\n",
    "    \n",
    "    # Imprimimos el loss en train y validación y la métrica (siempre en validación)\n",
    "    accuracy_validation = accuracy_sum / n_batches_valid\n",
    "    loss_validation = loss_validation_sum / n_batches_valid\n",
    "    train_validation = loss_train_sum / n_batches_train\n",
    "    print(f'epoch {idx_epoch} | train loss {loss_validation} | validation loss {train_validation} | accuracy {accuracy_validation}')\n"
   ]
  },
  {
   "cell_type": "markdown",
   "id": "482794a2-732b-42cd-a448-cc02509db6dc",
   "metadata": {},
   "source": [
    "Una accuracy del 94% es bastante considerando que tenemos 10 clases.\n",
    "\n",
    "Luego, veamos como usar nuestro modelo si tenemos un imagen en tiempo de inferencia"
   ]
  },
  {
   "cell_type": "code",
   "execution_count": 25,
   "id": "baba75d0-a2e8-4864-ae48-7b3625bc21fa",
   "metadata": {},
   "outputs": [
    {
     "data": {
      "text/plain": [
       "8"
      ]
     },
     "execution_count": 25,
     "metadata": {},
     "output_type": "execute_result"
    }
   ],
   "source": [
    "x = x_valid[15]\n",
    "y = y_valid[15]\n",
    "y"
   ]
  },
  {
   "cell_type": "code",
   "execution_count": 26,
   "id": "f22bce83-b68d-4d33-ac90-79d5d771d169",
   "metadata": {},
   "outputs": [
    {
     "data": {
      "image/png": "[encoded data removed]",
      "text/plain": [
       "<Figure size 640x480 with 1 Axes>"
      ]
     },
     "metadata": {},
     "output_type": "display_data"
    }
   ],
   "source": [
    "pyplot.imshow(x.reshape((28, 28)), cmap=\"gray\")\n",
    "pyplot.show()"
   ]
  },
  {
   "cell_type": "code",
   "execution_count": 27,
   "id": "a464f4ce-7361-4850-b62b-fe21e2f2a412",
   "metadata": {},
   "outputs": [
    {
     "data": {
      "text/plain": [
       "tensor([1.4619e-04, 1.8251e-05, 2.8265e-04, 6.6528e-04, 1.8981e-04, 1.6483e-03,\n",
       "        4.1513e-07, 5.1560e-06, 9.9590e-01, 1.1421e-03],\n",
       "       grad_fn=<DivBackward0>)"
      ]
     },
     "execution_count": 27,
     "metadata": {},
     "output_type": "execute_result"
    }
   ],
   "source": [
    "probs = calculate_predictions(torch.tensor(x))\n",
    "probs"
   ]
  },
  {
   "cell_type": "markdown",
   "id": "4c049ed2-54ef-47c6-890a-9cf209a4e626",
   "metadata": {},
   "source": [
    "El modelo le acertó esta vez, la probabildiad más alta es de que sea un 8:"
   ]
  },
  {
   "cell_type": "code",
   "execution_count": 28,
   "id": "a0ec910e-bb69-48f9-b15e-7aa238909a31",
   "metadata": {},
   "outputs": [
    {
     "data": {
      "text/plain": [
       "tensor(8)"
      ]
     },
     "execution_count": 28,
     "metadata": {},
     "output_type": "execute_result"
    }
   ],
   "source": [
    "torch.argmax(probs)"
   ]
  },
  {
   "cell_type": "markdown",
   "id": "6e6a0054-7cb0-40f0-addf-a2f25be94379",
   "metadata": {},
   "source": [
    "#### Ejercicio 1: \"Re-implementando\" (opcional):\n",
    "\n",
    "Copiar esta notebook y borrar las celdas donde creamos la red neuronal (desde la sección \"Creando nuestra red neuronal\" en adelante). De modo que sólo quede la parte donde importamos el dataset. Y re-escribir:\n",
    "- La creación de los pesos y la función que dado las features produce la predicción.\n",
    "- La función de costo (negative log likehood).\n",
    "- La métrica: accuracy.\n",
    "- El loop de entrenamiento, incluyendo código para evaluar en cada época y mostrar cómo mejora la métrica.\n",
    "- Un ejemplo de cómo se usa el modelo para inferencia (sobre un sólo caso, para calcular la predicción)."
   ]
  },
  {
   "cell_type": "markdown",
   "id": "46686215-a53e-45b3-9d20-03a523fb02e7",
   "metadata": {},
   "source": [
    "## Utilizando más la librería Pytorch\n"
   ]
  },
  {
   "cell_type": "markdown",
   "id": "0a7117c1-0d9c-4c93-801e-26f4cfd31260",
   "metadata": {},
   "source": [
    "Pytorch define clases y funciones que proveen las abstracciones comunes a trabajar con redes neuronales.\n",
    "\n",
    "Una abstracción es la de Dataset. Un Daataset es una lista de ejemplos, sobre el que se va a entrenar. Existen diferentes tipos de Dataset, TensorDataset es un tipo heredado de Dataset, que sirve para definir una lista dejemplo dado tensores de features y samples.\n",
    "\n",
    "Uno puede crear sus propios tipos de datasets tal como se muetra en este [tutorial](https://pytorch.org/tutorials/beginner/basics/data_tutorial.html).\n",
    "\n",
    "Para nuestro fin, TensorDataset nos viene bien, ya que tenemos los samples en tensores (tanto las features como las targets)."
   ]
  },
  {
   "cell_type": "code",
   "execution_count": 29,
   "id": "83c99630-547a-4b86-a141-faaeefa35ddc",
   "metadata": {},
   "outputs": [],
   "source": [
    "from torch.utils.data import TensorDataset, DataLoader\n",
    "\n",
    "train_dataset = TensorDataset(torch.tensor(x_train), torch.tensor(y_train))\n",
    "valid_dataset = TensorDataset(torch.tensor(x_valid), torch.tensor(y_valid))"
   ]
  },
  {
   "cell_type": "markdown",
   "id": "5de45056-3bf0-44b1-9f74-5e43821119f9",
   "metadata": {},
   "source": [
    "Un dataset se puede indexar y obtener un ejemplo que será una tupla de (features, target):"
   ]
  },
  {
   "cell_type": "code",
   "execution_count": 30,
   "id": "a81522bb-7dfa-48c8-ac1f-7886dbd13663",
   "metadata": {},
   "outputs": [
    {
     "data": {
      "text/plain": [
       "(tuple, 2)"
      ]
     },
     "execution_count": 30,
     "metadata": {},
     "output_type": "execute_result"
    }
   ],
   "source": [
    "type(train_dataset[0]), len(train_dataset[0])"
   ]
  },
  {
   "cell_type": "code",
   "execution_count": 31,
   "id": "7b69fd54-7067-4fac-869f-0e48fbe44fc8",
   "metadata": {},
   "outputs": [
    {
     "data": {
      "text/plain": [
       "(torch.Size([784]), tensor(7))"
      ]
     },
     "execution_count": 31,
     "metadata": {},
     "output_type": "execute_result"
    }
   ],
   "source": [
    "train_dataset[0][0].shape, train_dataset[0][1]"
   ]
  },
  {
   "cell_type": "markdown",
   "id": "9053d118-6680-44c1-8b67-9368ac873a79",
   "metadata": {},
   "source": [
    "Otra abstracción que nos provee pytorch es el de DataLoader, que nos define un generador de batches dado un Dataset:"
   ]
  },
  {
   "cell_type": "code",
   "execution_count": 32,
   "id": "723b4531-1a51-4c3a-bd5d-332b096def5b",
   "metadata": {},
   "outputs": [],
   "source": [
    "train_dataloader = DataLoader(train_dataset, batch_size=32, shuffle=True)\n",
    "valid_dataloader = DataLoader(valid_dataset, batch_size=32, shuffle=True)"
   ]
  },
  {
   "cell_type": "markdown",
   "id": "86203026-1443-4fc6-9b23-38c4d0d73c6d",
   "metadata": {},
   "source": [
    "Los DataLoaders no son indexables: no podemos obtener el batch i-ésimo. Sino que son generadores: permite iterar sobre los batches.\n",
    "\n",
    "Además la clase DataLoader provee funcionalidad aparejada al concepto de mini-batch: por ejemplo shufflear (randomizar) el orden de los ejemplos una vez que se itere sobre todo el dataset."
   ]
  },
  {
   "cell_type": "code",
   "execution_count": 33,
   "id": "ad3473a1-182f-49da-ad9a-ab8d5194ec59",
   "metadata": {},
   "outputs": [
    {
     "data": {
      "text/plain": [
       "(torch.Size([32, 784]), torch.Size([32]))"
      ]
     },
     "execution_count": 33,
     "metadata": {},
     "output_type": "execute_result"
    }
   ],
   "source": [
    "x_batch, y_batch = next(iter(train_dataloader))\n",
    "x_batch.shape, y_batch.shape"
   ]
  },
  {
   "cell_type": "markdown",
   "id": "07711148-c753-4c0a-9b9c-ff0d5a8463bb",
   "metadata": {},
   "source": [
    "Una de las abstracciones más poderosas que posee Pytorch es la de nn.Module, para definir modelos. Un modelo escencialmente es una función que contiene parámetros. \n",
    "\n",
    "Los modelos pueden estar compuestos de modelos más simples. Por ejemplo nuestro modelo contiene tres variables de tipo nn.Linear (la clase nn.Linear hereda de nn.Module).\n",
    "\n",
    "Heredando de nn.Module estamos creando nuestro propia arquitectura."
   ]
  },
  {
   "cell_type": "code",
   "execution_count": 34,
   "id": "a625f350-f768-4dcc-9095-09e628523a16",
   "metadata": {},
   "outputs": [],
   "source": [
    "from torch import nn\n",
    "\n",
    "class MyArchitecture(nn.Module):\n",
    "    def __init__(self):\n",
    "        super().__init__()\n",
    "        self.linear_layer_1 = nn.Linear(28*28, 512)\n",
    "        self.linear_layer_2 = nn.Linear(512, 512)\n",
    "        self.linear_layer_3 = nn.Linear(512, 10)\n",
    "\n",
    "    def forward(self, x):\n",
    "        l1 = self.linear_layer_1(x)\n",
    "        h1 = nn.ReLU()(l1)\n",
    "        l2 = self.linear_layer_2(h1)\n",
    "        h2 = nn.ReLU()(l2)\n",
    "        l3 = self.linear_layer_3(h2)\n",
    "        probs = nn.LogSoftmax(dim=-1)(l3)\n",
    "        return probs"
   ]
  },
  {
   "cell_type": "markdown",
   "id": "2a6c68a4-8e2e-4c69-851c-33a71718dc8a",
   "metadata": {},
   "source": [
    "Luego podemos crear un modelo instanciando la clase definida:"
   ]
  },
  {
   "cell_type": "code",
   "execution_count": 35,
   "id": "70c979a3-e69c-4718-ae3f-78e14fff9720",
   "metadata": {},
   "outputs": [],
   "source": [
    "model = MyArchitecture()"
   ]
  },
  {
   "cell_type": "markdown",
   "id": "1a2e20c3-9e59-4925-8760-a7880ef2ee29",
   "metadata": {},
   "source": [
    "Cuando llamemos al modelo en una entrada determinada, se ejecutará el código de la función forward para dicha entrada:"
   ]
  },
  {
   "cell_type": "code",
   "execution_count": 36,
   "id": "68200b07-9a10-48f6-bfbd-6d75c1b44ca8",
   "metadata": {},
   "outputs": [
    {
     "data": {
      "text/plain": [
       "(tensor([-2.2727, -2.2559, -2.3008, -2.3091, -2.3407, -2.3589, -2.3103, -2.2678,\n",
       "         -2.3683, -2.2493], grad_fn=<LogSoftmaxBackward0>),\n",
       " torch.Size([10]))"
      ]
     },
     "execution_count": 36,
     "metadata": {},
     "output_type": "execute_result"
    }
   ],
   "source": [
    "log_probs = model(train_dataset[0][0])\n",
    "log_probs, log_probs.shape"
   ]
  },
  {
   "cell_type": "markdown",
   "id": "3304a8e0-44fc-461b-aa27-b40439be0a74",
   "metadata": {},
   "source": [
    "Notar que el modelo es ligeramente distinto al implementado anteriormente: las predicciones no son probabilidades sino el log de las probabilidades. Esto es debido a que calcular el log del softmax es fácil debido a un trabajo algebraico (el softmax es un cociente y el log del cociente es la diferencia de logs). Y de todas formas le íbamos a aplicar log para la función de costo.\n",
    "\n",
    "Al log de una distribución se lo conoce también como \"logprobs\":"
   ]
  },
  {
   "cell_type": "code",
   "execution_count": 37,
   "id": "fd628d15-6969-418f-8048-da83982e5f2d",
   "metadata": {
    "jupyter": {
     "source_hidden": true
    }
   },
   "outputs": [
    {
     "data": {
      "text/plain": [
       "tensor([0.1030, 0.1048, 0.1002, 0.0993, 0.0963, 0.0945, 0.0992, 0.1035, 0.0936,\n",
       "        0.1055], grad_fn=<ExpBackward0>)"
      ]
     },
     "execution_count": 37,
     "metadata": {},
     "output_type": "execute_result"
    }
   ],
   "source": [
    "torch.exp(log_probs)"
   ]
  },
  {
   "cell_type": "code",
   "execution_count": 38,
   "id": "1f61f925-c76c-4fd1-974f-eff1d35e39d0",
   "metadata": {},
   "outputs": [
    {
     "data": {
      "text/plain": [
       "tensor(1.0000, grad_fn=<SumBackward0>)"
      ]
     },
     "execution_count": 38,
     "metadata": {},
     "output_type": "execute_result"
    }
   ],
   "source": [
    "torch.exp(log_probs).sum()"
   ]
  },
  {
   "cell_type": "markdown",
   "id": "205f4b2b-026a-4073-a86c-ffede12f3172",
   "metadata": {},
   "source": [
    "Gracias al broadcasting, podemos llamar al modelo en un mini-batch:"
   ]
  },
  {
   "cell_type": "code",
   "execution_count": 39,
   "id": "c26e6c72-deec-4c6c-8d94-005deafbd83c",
   "metadata": {},
   "outputs": [
    {
     "data": {
      "text/plain": [
       "torch.Size([32, 10])"
      ]
     },
     "execution_count": 39,
     "metadata": {},
     "output_type": "execute_result"
    }
   ],
   "source": [
    "log_probs_batch = model(x_batch)\n",
    "log_probs_batch.shape"
   ]
  },
  {
   "cell_type": "markdown",
   "id": "5f037151-2ce9-4fb1-92ef-92e4a8d127b5",
   "metadata": {},
   "source": [
    "nn.Module implementa muchas funcionalidades comunes a los modelos como por ejemplo mostrar las variables que lo componen (notar que no muestra como se combinan dichas variables):"
   ]
  },
  {
   "cell_type": "code",
   "execution_count": 40,
   "id": "6bf0b36a-2826-4c91-9e1f-131f9fab8b12",
   "metadata": {},
   "outputs": [
    {
     "data": {
      "text/plain": [
       "MyArchitecture(\n",
       "  (linear_layer_1): Linear(in_features=784, out_features=512, bias=True)\n",
       "  (linear_layer_2): Linear(in_features=512, out_features=512, bias=True)\n",
       "  (linear_layer_3): Linear(in_features=512, out_features=10, bias=True)\n",
       ")"
      ]
     },
     "execution_count": 40,
     "metadata": {},
     "output_type": "execute_result"
    }
   ],
   "source": [
    "model"
   ]
  },
  {
   "cell_type": "markdown",
   "id": "f3f062b3-8e71-4f61-8c50-dcc5957599e9",
   "metadata": {},
   "source": [
    "O también listas los parámetros (muy útil para actualizarlos, nosotros en nuestra implementación anterior tuvimos que crear manualmente una lista a la cual llamamos weights de todos los parámetros a actualizar):"
   ]
  },
  {
   "cell_type": "code",
   "execution_count": 41,
   "id": "76684a7f-4387-451f-981d-25d9e5ed2370",
   "metadata": {},
   "outputs": [
    {
     "data": {
      "text/plain": [
       "[Parameter containing:\n",
       " tensor([[ 0.0084, -0.0115,  0.0272,  ...,  0.0130, -0.0315, -0.0121],\n",
       "         [ 0.0132,  0.0178,  0.0281,  ..., -0.0021,  0.0013,  0.0175],\n",
       "         [-0.0128, -0.0183,  0.0233,  ..., -0.0282,  0.0064, -0.0038],\n",
       "         ...,\n",
       "         [-0.0101, -0.0023,  0.0143,  ..., -0.0336, -0.0285,  0.0112],\n",
       "         [ 0.0045, -0.0126, -0.0341,  ..., -0.0173, -0.0206, -0.0311],\n",
       "         [ 0.0050, -0.0270,  0.0011,  ..., -0.0035, -0.0236, -0.0112]],\n",
       "        requires_grad=True),\n",
       " Parameter containing:\n",
       " tensor([ 1.3140e-02, -4.4555e-03,  1.7561e-02, -1.1932e-02, -1.7963e-02,\n",
       "          1.1377e-02, -2.3321e-02, -7.5176e-03, -3.3335e-02,  3.2310e-02,\n",
       "          5.2047e-03, -3.2078e-02,  6.7018e-03,  2.5232e-02, -8.9914e-03,\n",
       "         -1.8673e-02,  3.6256e-03,  8.6021e-03,  2.2659e-02, -8.2516e-03,\n",
       "          2.1142e-02,  1.5444e-03,  3.4421e-02, -2.8429e-02, -9.9832e-03,\n",
       "         -3.4861e-02, -3.7122e-03,  2.6731e-03,  1.3470e-02, -2.3327e-02,\n",
       "          3.2179e-02,  7.1178e-03,  9.9715e-03, -1.7493e-02,  2.6928e-02,\n",
       "          2.1487e-02, -2.8761e-02,  1.8220e-02,  2.3018e-02, -1.3435e-02,\n",
       "         -1.9670e-02,  2.1442e-02,  1.2022e-02, -2.6003e-02, -1.3892e-02,\n",
       "          1.9901e-03,  2.9964e-02, -2.1579e-02,  2.7967e-02,  2.0241e-02,\n",
       "         -7.6599e-03,  3.3505e-02, -2.7512e-02,  2.5275e-02, -7.2833e-03,\n",
       "         -5.5469e-03,  2.5665e-02,  1.6532e-02,  3.1154e-02,  1.3202e-02,\n",
       "         -2.1725e-02, -2.1219e-02,  2.2067e-02, -5.9227e-03, -2.7625e-02,\n",
       "          3.2764e-02, -3.4519e-03, -2.2698e-02, -1.3268e-02, -1.7603e-02,\n",
       "         -1.1750e-02, -2.4716e-02, -2.6473e-02, -3.1664e-02, -3.0279e-02,\n",
       "         -1.6102e-02, -1.8598e-02,  1.2906e-02,  2.4055e-02, -1.8050e-02,\n",
       "         -5.6290e-03,  3.3297e-02, -1.3196e-02, -7.8519e-03, -1.8626e-02,\n",
       "          3.1646e-02, -3.5081e-02,  2.1294e-02, -5.9682e-03,  3.3612e-02,\n",
       "          1.2390e-03,  1.5087e-02, -1.4834e-02,  1.2469e-02,  1.8030e-02,\n",
       "         -3.4788e-02, -2.6544e-02,  2.2992e-02,  1.6583e-02,  2.3254e-02,\n",
       "          3.5168e-02,  1.8083e-02,  9.1236e-04,  2.7662e-04,  1.1056e-02,\n",
       "         -2.3713e-02, -2.9435e-02,  1.1607e-03,  1.1998e-02,  4.8747e-04,\n",
       "          6.4379e-03, -1.1723e-02,  1.1022e-02, -2.6507e-02,  2.7622e-03,\n",
       "          1.5095e-02,  3.9796e-03,  1.7618e-02, -1.2563e-02,  3.3831e-02,\n",
       "         -3.2565e-05,  1.2074e-02, -2.9403e-02,  1.7483e-03,  1.0180e-02,\n",
       "         -1.5308e-04, -1.9948e-02, -1.3591e-02,  6.2264e-03, -2.7532e-02,\n",
       "         -2.7030e-02, -3.2422e-02,  9.6054e-03, -1.8856e-02,  2.7688e-02,\n",
       "         -1.4864e-02, -1.6555e-02, -3.3759e-02,  3.0902e-02, -7.6313e-03,\n",
       "          1.5672e-02,  3.3041e-02,  6.9472e-03, -8.7285e-03, -1.5197e-02,\n",
       "          2.9886e-02, -2.4996e-02, -4.2983e-03, -3.2244e-02,  1.6638e-02,\n",
       "         -1.3716e-02, -7.7028e-03,  2.7022e-04,  3.0090e-02,  1.5330e-02,\n",
       "          1.0475e-02, -6.1813e-03,  3.3411e-02, -1.0777e-02, -1.1955e-02,\n",
       "          2.1167e-02,  3.4329e-02, -1.5640e-02,  2.5086e-02, -5.5679e-04,\n",
       "         -1.4459e-02,  3.0992e-02,  3.1213e-02,  1.3586e-02, -2.5182e-03,\n",
       "         -2.8042e-02, -3.8138e-03,  2.4346e-02, -2.1445e-02, -1.0999e-02,\n",
       "          8.0255e-03, -8.4913e-04, -3.4065e-02, -1.3625e-02, -2.2031e-02,\n",
       "          1.0899e-03, -5.2193e-03,  2.4888e-02,  3.1077e-02,  1.7818e-02,\n",
       "          4.2465e-03,  1.8039e-02,  2.1559e-02,  1.7255e-02,  2.4336e-02,\n",
       "          3.1787e-02, -8.1553e-03, -3.3323e-02, -2.8413e-02, -1.4984e-02,\n",
       "          4.1785e-03, -8.9168e-03, -2.6916e-02,  1.4480e-02, -3.3055e-02,\n",
       "          3.6961e-03,  1.9031e-02, -7.7803e-03,  2.7434e-02, -5.3728e-03,\n",
       "         -2.7691e-02, -1.8091e-02,  2.3427e-02, -2.2341e-02,  6.7766e-03,\n",
       "          6.8378e-03, -2.6282e-03,  3.4140e-02,  8.7251e-03,  2.8670e-02,\n",
       "          1.8256e-02, -1.7489e-02,  1.8059e-02,  2.0356e-02,  1.6478e-02,\n",
       "         -2.8776e-03, -1.2204e-02, -1.9825e-03, -3.2290e-03,  2.0288e-02,\n",
       "          9.4524e-03, -9.9528e-03,  2.3673e-02, -2.3270e-02,  2.0771e-02,\n",
       "         -1.8767e-02, -2.2526e-02,  3.2422e-02,  1.8235e-02,  4.3970e-03,\n",
       "         -3.2942e-02, -1.9841e-02, -5.2387e-03, -1.8756e-02, -3.3981e-02,\n",
       "          1.9658e-02,  2.3624e-02, -2.9711e-02, -7.7960e-03, -2.5137e-03,\n",
       "          3.1780e-02, -4.3972e-03, -2.9758e-02, -3.1241e-02,  3.4423e-02,\n",
       "         -3.1096e-02,  7.4354e-03, -1.0902e-02, -3.5221e-02,  2.0335e-02,\n",
       "          1.6300e-02,  2.0746e-02,  1.0659e-02,  2.5466e-02,  1.0097e-02,\n",
       "          3.4343e-03, -1.2277e-02,  6.6137e-03, -1.8968e-02,  1.5423e-02,\n",
       "         -2.5672e-02,  2.9804e-02,  3.1259e-02,  1.0607e-02, -1.6235e-02,\n",
       "         -2.7389e-02, -6.1234e-03,  2.7347e-02,  1.4727e-02,  2.2715e-02,\n",
       "         -2.5116e-02,  1.0904e-02,  9.4675e-03, -2.4830e-02,  6.8573e-03,\n",
       "          2.8260e-02, -1.6322e-02,  1.8092e-03,  1.7361e-02, -6.0906e-04,\n",
       "          8.5487e-03,  2.4164e-03, -9.1879e-03, -2.9204e-02,  2.8325e-02,\n",
       "         -3.3721e-02,  1.1927e-02,  5.8945e-03, -2.4126e-02,  7.0438e-03,\n",
       "         -2.8466e-02, -2.7582e-02, -7.6471e-04,  3.2474e-02, -3.1246e-02,\n",
       "          3.3216e-02, -2.2533e-02,  1.0461e-02, -3.1347e-03, -1.6793e-02,\n",
       "          2.9008e-02, -2.0643e-02,  2.6129e-02,  3.4385e-02,  2.5678e-03,\n",
       "          1.8073e-02, -1.2935e-02, -1.9980e-02, -2.5663e-02, -1.7720e-02,\n",
       "          2.9052e-02, -3.3279e-02, -2.2486e-03,  2.2131e-02,  4.4256e-03,\n",
       "          1.1424e-02, -1.5496e-02,  5.9737e-03,  2.8630e-02, -3.1653e-02,\n",
       "         -2.7975e-02,  1.6226e-02,  2.4625e-02,  2.7371e-02, -3.1757e-02,\n",
       "         -2.9566e-02,  1.7352e-02, -1.2769e-02, -1.0298e-02, -1.3283e-02,\n",
       "          1.2547e-02,  9.6280e-03, -2.6106e-02, -9.8091e-03, -3.0173e-03,\n",
       "         -6.6807e-03, -1.3137e-02,  1.1276e-02, -2.4723e-02,  8.5953e-03,\n",
       "         -1.1539e-02,  2.8899e-03,  3.0561e-02, -8.1221e-03, -1.0772e-02,\n",
       "          1.5599e-02, -1.0996e-02,  2.3301e-02,  1.3854e-02, -1.1613e-02,\n",
       "          2.7241e-02, -1.3389e-02,  4.0649e-03, -2.9292e-02, -8.8034e-03,\n",
       "          1.7886e-02, -2.8357e-02,  1.0608e-02, -2.0958e-02, -2.7971e-02,\n",
       "         -9.9559e-04, -9.6774e-03, -1.4134e-02, -2.7106e-02, -5.8806e-03,\n",
       "         -2.7029e-02, -3.2127e-02,  1.3369e-02, -3.5037e-02,  2.6017e-04,\n",
       "         -3.2714e-02, -3.2398e-02, -1.2348e-02, -3.3604e-02,  3.5583e-02,\n",
       "          1.4498e-02, -1.6055e-02, -3.4430e-02, -3.2631e-02,  3.3960e-02,\n",
       "         -6.6868e-03,  1.8267e-02,  2.0546e-02, -3.0670e-02,  3.0253e-02,\n",
       "          2.1000e-02,  2.3699e-02,  1.2616e-03, -2.7581e-02, -1.9215e-02,\n",
       "         -6.6984e-03, -3.4764e-03,  2.2937e-02, -8.0149e-03, -2.6329e-02,\n",
       "          1.0153e-02, -4.5036e-03,  2.4381e-02,  2.5381e-02, -1.0674e-02,\n",
       "         -3.5048e-03,  2.9560e-02,  1.7016e-03,  2.6979e-02,  2.8976e-02,\n",
       "          2.6567e-02, -1.9804e-02,  2.5236e-02, -8.8422e-03,  2.9094e-02,\n",
       "         -2.7471e-02, -9.6697e-03, -6.8930e-03, -3.5627e-02,  2.4577e-02,\n",
       "          2.8974e-02, -2.2414e-02,  3.0565e-02, -7.0835e-03, -2.2260e-02,\n",
       "          8.5993e-04,  2.9968e-02,  2.0556e-02,  2.0597e-02, -2.5631e-02,\n",
       "          1.1259e-02,  5.8091e-03, -1.5437e-02, -6.1589e-03,  2.8421e-02,\n",
       "          3.2597e-02, -2.8692e-02, -2.6070e-02,  8.4706e-03, -6.3899e-03,\n",
       "          2.0360e-02,  1.4877e-02, -2.0884e-02, -9.8906e-03, -4.5371e-03,\n",
       "          1.6386e-02,  3.0503e-02, -2.1985e-02,  5.4502e-03,  1.5679e-02,\n",
       "         -2.0215e-02,  3.4564e-02, -3.8591e-03, -3.4226e-02,  1.4408e-03,\n",
       "         -1.2547e-02, -2.6808e-02, -9.8373e-03,  1.1660e-02, -6.3562e-03,\n",
       "         -1.5714e-02,  7.2409e-03, -4.6596e-03, -5.7290e-03, -3.3236e-02,\n",
       "          3.2765e-02, -3.4303e-02,  3.2388e-02, -2.3929e-02,  2.2477e-02,\n",
       "          2.8701e-02,  1.1916e-02, -1.3858e-02,  1.9412e-03,  7.1285e-03,\n",
       "         -2.0120e-02,  1.0596e-02,  5.0865e-03, -2.2757e-02,  3.2789e-02,\n",
       "          3.2102e-02, -4.2135e-03,  7.1357e-03,  8.0687e-03, -1.0192e-02,\n",
       "         -1.4674e-02,  3.4984e-02, -1.3067e-02, -4.5738e-03,  2.7896e-02,\n",
       "         -2.6745e-02, -8.8351e-03,  2.1439e-02, -8.2605e-03,  2.9256e-02,\n",
       "          3.4458e-02,  4.5583e-03,  2.1688e-02,  2.0623e-02, -1.6986e-02,\n",
       "          8.8401e-03, -8.7111e-03, -3.2755e-02,  2.0530e-02,  2.6200e-02,\n",
       "          1.9713e-02,  2.2410e-02,  6.8671e-03,  2.6179e-02, -9.7622e-03,\n",
       "          2.0359e-02,  1.7354e-02], requires_grad=True),\n",
       " Parameter containing:\n",
       " tensor([[ 0.0046, -0.0292, -0.0365,  ..., -0.0064, -0.0197, -0.0318],\n",
       "         [ 0.0085,  0.0284, -0.0415,  ..., -0.0049, -0.0085,  0.0373],\n",
       "         [ 0.0407, -0.0264, -0.0241,  ..., -0.0275,  0.0340, -0.0182],\n",
       "         ...,\n",
       "         [-0.0013, -0.0271, -0.0045,  ..., -0.0057,  0.0377, -0.0396],\n",
       "         [ 0.0293,  0.0221,  0.0293,  ..., -0.0205,  0.0088, -0.0245],\n",
       "         [-0.0246, -0.0301, -0.0337,  ..., -0.0179, -0.0102, -0.0142]],\n",
       "        requires_grad=True),\n",
       " Parameter containing:\n",
       " tensor([ 1.0848e-02,  1.7518e-02, -1.9156e-02,  2.6044e-02,  1.9776e-02,\n",
       "         -1.8225e-03, -2.3323e-02,  3.8453e-02, -1.2500e-02, -2.8309e-02,\n",
       "          6.5193e-03, -1.8705e-02, -2.2052e-02,  1.3659e-03, -2.5240e-02,\n",
       "         -3.2647e-02, -2.3374e-02,  3.1605e-03,  4.2764e-02, -2.6145e-02,\n",
       "          1.2579e-02, -3.7613e-02, -6.1531e-03, -4.2955e-02, -2.7240e-02,\n",
       "          3.5174e-02,  3.8865e-02,  4.3229e-02, -8.4825e-03, -9.3842e-04,\n",
       "          8.2463e-03, -2.3935e-02, -2.4097e-04,  2.3671e-02, -1.9220e-02,\n",
       "          1.0349e-02,  2.4210e-02, -4.0484e-02,  6.9520e-03,  4.2418e-02,\n",
       "         -3.3272e-02, -1.1247e-02,  2.6991e-02, -2.0317e-02, -3.4450e-02,\n",
       "          3.9502e-02,  3.8599e-02,  4.0847e-02, -2.7859e-03,  1.1191e-02,\n",
       "          1.0150e-02,  3.5717e-03, -1.5198e-02,  3.2094e-02, -2.9839e-03,\n",
       "          1.8544e-02, -3.2575e-03, -3.8178e-02,  7.2897e-03, -3.7907e-03,\n",
       "         -3.0823e-02,  3.0350e-02,  4.1671e-02,  2.4541e-02,  1.8765e-02,\n",
       "          1.8853e-02,  3.1314e-02,  4.3950e-02, -1.6611e-02,  6.7012e-04,\n",
       "          1.0696e-02, -8.0840e-03, -5.7261e-03, -1.7636e-02, -2.0426e-02,\n",
       "         -1.6799e-02, -3.3075e-02,  1.8611e-02, -3.6655e-02,  3.5754e-02,\n",
       "          1.8382e-02, -1.0899e-02,  2.2912e-03, -4.1011e-02, -1.6935e-02,\n",
       "          3.2206e-02, -7.6681e-03,  7.2493e-03,  1.6888e-02, -3.8210e-02,\n",
       "         -4.0137e-02,  7.7734e-03,  3.7249e-02,  5.6223e-03, -8.2840e-04,\n",
       "          5.6254e-03,  1.5972e-03, -3.8110e-03,  4.7314e-03, -3.8561e-02,\n",
       "         -4.1885e-02,  2.4586e-02, -4.4030e-03,  5.5071e-03, -9.2125e-04,\n",
       "          4.6086e-03, -2.6797e-02,  3.7170e-02,  3.6109e-02, -2.9895e-02,\n",
       "         -1.0482e-02,  4.2489e-02,  3.7048e-02, -3.6812e-02,  3.0579e-03,\n",
       "         -4.1691e-02,  4.2865e-02,  2.6625e-02,  2.7452e-02, -2.2159e-02,\n",
       "          4.1386e-02,  3.5377e-02,  3.3094e-02, -1.4780e-02, -3.9968e-02,\n",
       "         -2.4269e-02,  7.5622e-03, -8.8224e-03, -2.4718e-02, -3.7604e-02,\n",
       "          2.6693e-02, -7.5176e-03, -3.6566e-02, -2.7516e-02,  1.5139e-02,\n",
       "         -4.1944e-02,  1.5268e-02, -1.3520e-02, -1.0319e-02,  1.5231e-02,\n",
       "          1.7598e-03, -3.9621e-02, -1.9662e-02, -2.6815e-02, -1.6222e-02,\n",
       "         -3.0432e-02,  3.0311e-02, -3.7486e-02,  2.8746e-02, -2.4558e-02,\n",
       "         -9.1095e-03,  3.2967e-03, -4.0182e-02, -8.1120e-04,  3.5260e-02,\n",
       "         -9.4135e-03, -3.8346e-02, -4.1058e-02, -3.3834e-02,  6.4275e-03,\n",
       "         -2.4586e-04,  1.9452e-02,  2.2994e-02, -4.4364e-03, -2.0557e-02,\n",
       "          4.3320e-02,  2.4839e-02,  2.2425e-02, -1.3543e-02, -2.7902e-02,\n",
       "         -7.0241e-03,  3.7409e-03,  1.0706e-02,  2.0888e-02, -3.5118e-02,\n",
       "          1.5715e-02,  3.2688e-02, -3.9224e-02,  2.9975e-02,  6.0601e-03,\n",
       "          3.3331e-03,  3.4698e-02, -3.3590e-02, -2.0366e-02, -4.5012e-03,\n",
       "          4.2787e-03,  1.7325e-02, -1.2056e-02,  3.7187e-02,  2.5765e-02,\n",
       "          9.2379e-03,  1.1841e-02, -1.0809e-02,  1.2292e-02,  3.0438e-02,\n",
       "          2.4382e-02,  4.1276e-02,  6.8870e-03,  2.4051e-03,  2.8747e-02,\n",
       "          1.4249e-02,  1.5601e-02,  3.7733e-02,  3.6630e-02,  2.3474e-02,\n",
       "         -2.8912e-02,  2.2155e-02,  9.8452e-03, -2.7658e-02, -4.0580e-02,\n",
       "         -1.6092e-02,  1.1275e-02, -1.6705e-04,  3.5992e-02, -4.1478e-02,\n",
       "         -1.9123e-02,  3.5069e-02,  3.7711e-02, -7.3923e-03,  3.4998e-02,\n",
       "          3.9586e-02, -3.4881e-02,  8.6354e-03,  4.1306e-02,  8.4103e-03,\n",
       "          9.2502e-04,  2.4849e-02, -8.9111e-04,  5.9256e-03, -2.3786e-03,\n",
       "          2.9637e-02,  3.8548e-02, -3.9092e-02, -7.7570e-03,  4.3038e-02,\n",
       "          4.3527e-02,  4.0708e-03, -3.3144e-02, -1.7352e-02, -1.1602e-02,\n",
       "         -7.9376e-03, -3.3075e-02, -9.9548e-04,  2.7321e-02,  2.0049e-02,\n",
       "         -3.7432e-02, -2.7230e-02,  3.1503e-03,  3.6233e-02, -7.8353e-03,\n",
       "          1.4200e-02,  4.0095e-02,  3.7327e-02, -3.4427e-02,  8.4332e-03,\n",
       "          4.2904e-02,  1.3653e-02, -2.0836e-02, -3.7820e-02, -2.6207e-02,\n",
       "         -1.8051e-02,  1.1523e-03,  3.7224e-03,  3.7749e-02,  1.8542e-02,\n",
       "         -3.7639e-02, -3.4884e-02,  4.3710e-02,  4.3197e-02,  3.8817e-02,\n",
       "          1.4643e-02,  3.0318e-02, -1.6386e-02,  5.6869e-03,  1.8799e-02,\n",
       "         -3.0657e-02, -9.3343e-03,  1.7292e-02, -1.6609e-02,  1.2863e-02,\n",
       "         -2.3849e-02,  1.1687e-02, -1.6406e-02,  2.1867e-02, -2.0945e-02,\n",
       "          1.1903e-02, -1.3824e-02, -2.5001e-02,  3.2301e-02, -9.8114e-03,\n",
       "         -2.6313e-03,  3.4202e-02,  1.5729e-02,  3.2631e-02,  1.8068e-02,\n",
       "          1.4807e-02, -4.1396e-02, -1.5226e-06, -3.4121e-02,  3.3561e-02,\n",
       "          2.2186e-02, -9.6490e-05,  3.7781e-02,  3.1841e-04, -1.2336e-02,\n",
       "         -2.1874e-03, -2.0277e-02,  4.6268e-03,  4.2518e-02,  1.8777e-02,\n",
       "         -1.4311e-02, -2.5309e-02,  3.8085e-02,  2.6860e-03,  1.5799e-02,\n",
       "         -2.5870e-02,  1.2864e-02, -3.4649e-03,  3.9985e-02, -7.2318e-03,\n",
       "         -3.9738e-02, -1.4514e-02, -2.9419e-02, -1.7869e-02, -3.7911e-02,\n",
       "         -1.4496e-02, -8.7585e-03, -7.7291e-03,  3.2356e-02,  2.0377e-02,\n",
       "         -3.1332e-03,  3.8200e-02, -2.8584e-02,  1.4136e-03, -1.4268e-02,\n",
       "         -3.7229e-02,  1.8588e-02,  7.6472e-03, -1.8689e-02, -1.3379e-03,\n",
       "          1.6188e-02,  4.6380e-03,  1.7646e-03,  2.9701e-02, -1.3445e-02,\n",
       "          2.2069e-02, -4.3595e-02, -5.4077e-03,  2.0734e-02,  1.8324e-02,\n",
       "          2.3306e-02, -2.2464e-02, -1.5925e-03,  4.2234e-02, -4.1459e-02,\n",
       "         -3.9542e-02, -2.7354e-02, -1.0287e-03, -1.9165e-02,  1.4591e-02,\n",
       "         -2.5233e-02,  3.1251e-02,  6.4342e-03,  8.6738e-03, -2.4573e-02,\n",
       "         -8.4102e-04,  8.4150e-04,  3.6989e-02, -3.0329e-02, -6.6476e-03,\n",
       "         -1.8158e-02, -2.3553e-02,  2.4937e-02,  6.8478e-03,  4.1883e-02,\n",
       "         -1.9555e-02,  8.3586e-03,  3.5414e-02,  4.2504e-02,  6.1220e-03,\n",
       "          8.0698e-03, -8.7483e-04,  2.6092e-02, -7.5099e-03,  3.7428e-02,\n",
       "         -3.1677e-02, -3.3980e-02, -2.1177e-02,  3.9829e-02, -1.8028e-02,\n",
       "         -1.9684e-03, -2.3794e-02, -4.0223e-02, -3.1555e-02,  2.5231e-02,\n",
       "         -1.8453e-02, -3.4751e-02, -7.4207e-03,  3.3991e-02,  1.9834e-02,\n",
       "          8.3527e-04, -2.0770e-02, -1.5390e-02,  3.0705e-02, -2.1836e-02,\n",
       "         -4.3811e-02,  4.1064e-02, -6.6463e-03,  3.8468e-02,  4.1448e-02,\n",
       "         -2.5921e-02,  4.1134e-03,  4.7949e-03, -2.0396e-02,  8.9471e-03,\n",
       "          2.1317e-02, -3.7869e-02,  2.4353e-02, -4.7552e-03, -1.0500e-02,\n",
       "         -1.4530e-02, -5.2453e-03, -4.2693e-02,  3.5118e-02, -1.1757e-02,\n",
       "          7.5342e-03, -2.4638e-02, -9.4037e-03, -1.6453e-02, -8.3744e-03,\n",
       "          3.9298e-02,  2.1398e-02,  8.6627e-03, -3.2716e-02, -2.3160e-03,\n",
       "          1.0013e-02, -2.2967e-03,  1.1923e-02, -1.3394e-02,  3.8734e-02,\n",
       "         -3.7470e-02,  3.6360e-03,  8.5236e-03,  8.1658e-04, -3.4878e-02,\n",
       "         -2.3547e-04, -3.3262e-02, -9.3234e-03, -1.5940e-02,  4.8494e-03,\n",
       "          2.3730e-02,  2.4010e-02,  4.2901e-02,  2.1569e-02,  1.2644e-02,\n",
       "         -3.0157e-02,  3.4948e-02, -3.6537e-02, -3.5956e-02, -4.1804e-02,\n",
       "         -1.4930e-02,  6.6931e-03, -1.3709e-02,  1.0619e-02,  4.4052e-02,\n",
       "          1.8586e-02, -2.7238e-02,  3.1567e-02, -9.8777e-03, -3.7427e-03,\n",
       "         -6.0448e-03,  6.4574e-05, -4.2402e-03, -3.7218e-02,  2.2141e-02,\n",
       "          1.1183e-02,  1.2986e-02,  8.2859e-04, -1.1000e-02, -1.7761e-02,\n",
       "         -1.5838e-02,  1.9629e-02,  1.7588e-02,  1.1557e-03,  2.5095e-02,\n",
       "          4.7362e-03,  9.8964e-03,  5.1001e-03, -4.3703e-02,  1.3776e-03,\n",
       "         -3.9233e-02, -5.8222e-03, -2.0369e-02, -2.8727e-02, -1.8646e-02,\n",
       "          3.0520e-02, -3.7655e-02,  2.9836e-02, -1.9584e-02,  2.3311e-02,\n",
       "         -1.4767e-03, -2.3650e-02, -1.8681e-03,  2.1382e-02,  1.8447e-03,\n",
       "         -1.8746e-02,  2.3674e-02, -1.2351e-02, -3.9709e-02,  3.4743e-02,\n",
       "          2.7623e-02,  1.5570e-03], requires_grad=True),\n",
       " Parameter containing:\n",
       " tensor([[ 0.0080,  0.0278,  0.0406,  ...,  0.0038,  0.0371,  0.0373],\n",
       "         [-0.0346,  0.0113,  0.0134,  ...,  0.0265, -0.0260, -0.0197],\n",
       "         [-0.0155, -0.0101,  0.0057,  ...,  0.0138,  0.0178,  0.0129],\n",
       "         ...,\n",
       "         [ 0.0218,  0.0037, -0.0045,  ...,  0.0376, -0.0087,  0.0292],\n",
       "         [-0.0064,  0.0129, -0.0281,  ...,  0.0104,  0.0333,  0.0400],\n",
       "         [ 0.0279,  0.0047, -0.0341,  ..., -0.0187, -0.0265,  0.0141]],\n",
       "        requires_grad=True),\n",
       " Parameter containing:\n",
       " tensor([-0.0359,  0.0361, -0.0440, -0.0020, -0.0216, -0.0339, -0.0224,  0.0264,\n",
       "         -0.0030,  0.0409], requires_grad=True)]"
      ]
     },
     "execution_count": 41,
     "metadata": {},
     "output_type": "execute_result"
    }
   ],
   "source": [
    "list(model.parameters())"
   ]
  },
  {
   "cell_type": "markdown",
   "id": "fa8b2c08-ad94-4c83-88bc-0ca40dd04649",
   "metadata": {},
   "source": [
    "Pytorch provee también funciones de costo, como NLL (Negative Log Likehood). NLLLoss() asume que recibe log probs."
   ]
  },
  {
   "cell_type": "code",
   "execution_count": 42,
   "id": "09db132e-ad2d-4eff-8781-43853c4dd0fa",
   "metadata": {},
   "outputs": [
    {
     "data": {
      "text/plain": [
       "tensor(2.3030, grad_fn=<NllLossBackward0>)"
      ]
     },
     "execution_count": 42,
     "metadata": {},
     "output_type": "execute_result"
    }
   ],
   "source": [
    "loss_func = nn.NLLLoss()\n",
    "loss = loss_func(log_probs_batch, y_batch)\n",
    "loss"
   ]
  },
  {
   "cell_type": "markdown",
   "id": "540a2862-30f4-44e6-989d-75873ea9b589",
   "metadata": {},
   "source": [
    "Otra abstracción que provee Pytorch es la de optimizador. \n",
    "Un optimizador toma los pesos cuando es construido (también se dice que se registran los pesos en el optimizador) y oculta la forma en la que los pesos son actualizados teniendo en cuenta los gradientes: sólo basta tener los gradientes calculados dentro de los pesos (haber llamado a loss.backward()) y luego llamar al método .step(), que hará la actualización sobre los pesos registrados.\n",
    "\n",
    "Existen cálculos de actualización de los pesos que también hacen uso del gradiente del costo respecto a los mismos y que mejoran la convergencia respecto a la cuenta que hace el descenso por gradiente. Usando un optimizador en vez de hacer la cuenta manualmente hace que podamos cambiar la fórmula simplemente cambiando el tipo de optimizador.\n",
    "\n",
    "Otra funcionalidad que provee el optimizador es setear en cero los gradientes de los parámetros registrados por medio del método .zero_grad(). Recordar que de no hacerlo se acumularán los gradientes entre llamadas sucesivas a backward."
   ]
  },
  {
   "cell_type": "code",
   "execution_count": 43,
   "id": "12d61a78-f855-4736-85d3-a022c0249ef6",
   "metadata": {},
   "outputs": [
    {
     "name": "stdout",
     "output_type": "stream",
     "text": [
      "None\n",
      "tensor([[ 2.4303e-04,  2.5687e-04, -2.0132e-04,  ...,  0.0000e+00,\n",
      "         -5.4569e-04, -5.5081e-05],\n",
      "        [ 1.9965e-04, -2.0604e-04,  2.4627e-04,  ...,  0.0000e+00,\n",
      "          1.2506e-03,  1.9088e-04],\n",
      "        [ 2.0076e-04,  8.4269e-06,  4.2171e-04,  ...,  0.0000e+00,\n",
      "          1.3228e-03, -3.5821e-05],\n",
      "        ...,\n",
      "        [ 5.1932e-04, -5.7735e-05,  6.4193e-04,  ...,  0.0000e+00,\n",
      "          2.0274e-03, -9.2699e-05],\n",
      "        [ 3.9231e-05,  2.4111e-04, -3.6741e-05,  ...,  0.0000e+00,\n",
      "         -7.5206e-04, -2.7180e-04],\n",
      "        [ 1.6509e-04,  2.5405e-04,  1.7885e-04,  ...,  0.0000e+00,\n",
      "          1.1736e-03, -1.5361e-04]])\n"
     ]
    }
   ],
   "source": [
    "optimizer = torch.optim.SGD(model.parameters(), lr=0.001)\n",
    "\n",
    "# Seteamos los gradientes de los parámetros en cero\n",
    "optimizer.zero_grad()\n",
    "print(list(model.parameters())[0].grad)\n",
    "\n",
    "# Calculamos las predicciones, el costo y los gradientes\n",
    "probs_batch = model(x_batch)\n",
    "loss_func = nn.NLLLoss()\n",
    "loss = loss_func(log_probs_batch, y_batch)\n",
    "loss.backward()\n",
    "print(list(model.parameters())[2].grad)\n",
    "\n",
    "# Hacemos un paso de optimización\n",
    "optimizer.step()"
   ]
  },
  {
   "cell_type": "code",
   "execution_count": 44,
   "id": "312ee8bb-1467-4696-944a-b61818feaa13",
   "metadata": {},
   "outputs": [
    {
     "data": {
      "text/plain": [
       "tensor(-0.9321, grad_fn=<NllLossBackward0>)"
      ]
     },
     "execution_count": 44,
     "metadata": {},
     "output_type": "execute_result"
    }
   ],
   "source": [
    "loss_func(predictions, y_valid_batch)"
   ]
  },
  {
   "cell_type": "markdown",
   "id": "7e94c4d1-1271-4c6f-bbae-bcb37d327c05",
   "metadata": {},
   "source": [
    "Ya estamos en condiciones de escribir nuestro training loop usando Pytorch:"
   ]
  },
  {
   "cell_type": "code",
   "execution_count": 45,
   "id": "3871e714-3508-4660-940d-949aff5ef44d",
   "metadata": {},
   "outputs": [
    {
     "name": "stdout",
     "output_type": "stream",
     "text": [
      "epoch 0 | train loss 2.2169394241735194 | validation loss 2.265044297000497 | accuracy 0.5652955271565495\n",
      "epoch 1 | train loss 2.02828141066213 | validation loss 2.1401991374356886 | accuracy 0.6874001597444089\n",
      "epoch 2 | train loss 1.6100607421070623 | validation loss 1.8508244611785263 | accuracy 0.746305910543131\n",
      "epoch 3 | train loss 1.0992749335285954 | validation loss 1.3655925323699272 | accuracy 0.797723642172524\n",
      "epoch 4 | train loss 0.7921403442708829 | validation loss 0.9624993587562234 | accuracy 0.8348642172523961\n",
      "epoch 5 | train loss 0.6343120860215574 | validation loss 0.745351133480792 | accuracy 0.8497404153354633\n",
      "epoch 6 | train loss 0.5429039481348885 | validation loss 0.626382143487552 | accuracy 0.8662140575079872\n",
      "epoch 7 | train loss 0.48514255200521633 | validation loss 0.5531343446468895 | accuracy 0.8759984025559105\n",
      "epoch 8 | train loss 0.44559223749957527 | validation loss 0.5038443993031025 | accuracy 0.8849840255591054\n",
      "epoch 9 | train loss 0.41543958495600153 | validation loss 0.46808498378983693 | accuracy 0.8911741214057508\n",
      "epoch 10 | train loss 0.3937545193555637 | validation loss 0.4409836502656369 | accuracy 0.8962659744408946\n",
      "epoch 11 | train loss 0.37624708796366335 | validation loss 0.41985584819309235 | accuracy 0.8994608626198083\n",
      "epoch 12 | train loss 0.3628120314056119 | validation loss 0.40293334284827104 | accuracy 0.9023562300319489\n",
      "epoch 13 | train loss 0.3505741922904889 | validation loss 0.3890760352433452 | accuracy 0.9056509584664537\n",
      "epoch 14 | train loss 0.34196137410764116 | validation loss 0.3771789140870612 | accuracy 0.9063498402555911\n"
     ]
    }
   ],
   "source": [
    "n_epochs = 15\n",
    "\n",
    "for idx_epoch in range(n_epochs):\n",
    "    # Loop de entrenamiento\n",
    "    loss_train_sum = 0\n",
    "    n_batches_train = 0\n",
    "    for x_train_batch, y_train_batch in train_dataloader:\n",
    "        predictions = model(x_train_batch)\n",
    "        loss = loss_func(predictions, y_train_batch)\n",
    "        loss_train_sum += loss.item()\n",
    "        n_batches_train += 1\n",
    "        optimizer.zero_grad()\n",
    "        loss.backward()\n",
    "        optimizer.step()\n",
    "\n",
    "    # Evaluamos los datos en validación\n",
    "    loss_validation_sum = 0\n",
    "    accuracy_sum = 0\n",
    "    for x_valid_batch, y_valid_batch in valid_dataloader:\n",
    "        predictions = model(x_valid_batch)\n",
    "        loss = loss_func(predictions, y_valid_batch)\n",
    "        loss_validation_sum += loss.item()\n",
    "        accuracy_sum += accuracy(predictions, y_valid_batch).item()\n",
    "    \n",
    "    # Imprimimos el loss en train y validación y la métrica (siempre en validación)\n",
    "    accuracy_validation = accuracy_sum / n_batches_valid\n",
    "    loss_validation = loss_validation_sum / n_batches_valid\n",
    "    train_validation = loss_train_sum / n_batches_train\n",
    "    print(f'epoch {idx_epoch} | train loss {loss_validation} | validation loss {train_validation} | accuracy {accuracy_validation}')"
   ]
  },
  {
   "cell_type": "markdown",
   "id": "a8b9264c-9bf7-462a-9bf3-012ee9d951d9",
   "metadata": {},
   "source": [
    "La ventaja no es sólo que queda más corto, además está más \"encapsulado\": es más fácil de cambiar alguna de sus partes sin introducir cambios en otras partes."
   ]
  },
  {
   "cell_type": "markdown",
   "id": "d6328222-cdcd-4eb2-b2ea-fc9c6366d9a9",
   "metadata": {},
   "source": [
    "#### Ejercicio 2: \"Analizando nuestro modelo\" (obligatorio)\n",
    "\n",
    "Usando como base alguno de los dos ejemplos realizar código que:\n",
    "- Calcule la matriz de confusión para los dígitos. La matriz de confusión es una métrica, por lo que debe ser calculada sólo en validación.\n",
    "- Utilizando la matriz de confusión elegir el par de dígitos dónde el modelo se confunde más y mostrar 20 ejemplos mal clasificados.\n",
    "- Una función que muestre los 20 ejemplos de validación con mayor costo. Intuitivamente estos son los ejemplos donde el modelo está más errado: arroja probabilidades altas para clases que no son la correcta.\n",
    "- Una función que muestre los 20 ejemplos de validación donde el modelo arroja probabilidades más bajas. Esto se puede interpretar como que el modelo está \"poco seguro\" para estos casos.\n",
    "\n",
    "Todo este trabajo de visualización suele ser comun realizarlo cuando se trabaja con datasets reales para limpiar el dataset de ejemplos malformados, maletiquetados, etc.\n",
    "En caso de utilizarlo para limpiar el dataset hay que realizarlo sobre todo el conjunto de datos (no sólo validación). Y es importante que el modelo no llegue a sobre-ajustar ni un poco (ya que usaremos por ejemplo el costo en training para limpiar el dataset)."
   ]
  },
  {
   "cell_type": "markdown",
   "id": "87811a6f-5d7f-4947-8c7e-e93144b3a39d",
   "metadata": {},
   "source": [
    "#### Ejercicio 3: \"Fine-tunning\" (opcional)\n",
    "\n",
    "Re-escribir el código de la unidad anterior utilizando el modelo resnet34 con pesos entrenados para ImageNet.\n",
    "**Si deciden hacer este ejercicios las siguientes secciones les serán útiles**\n",
    "\n",
    "ResNet es una familia de arquitecturas de redes convolucionales."
   ]
  },
  {
   "cell_type": "code",
   "execution_count": 46,
   "id": "c3092baf-919c-4c80-88f9-8af04003a128",
   "metadata": {},
   "outputs": [
    {
     "data": {
      "text/plain": [
       "ResNet(\n",
       "  (conv1): Conv2d(3, 64, kernel_size=(7, 7), stride=(2, 2), padding=(3, 3), bias=False)\n",
       "  (bn1): BatchNorm2d(64, eps=1e-05, momentum=0.1, affine=True, track_running_stats=True)\n",
       "  (relu): ReLU(inplace=True)\n",
       "  (maxpool): MaxPool2d(kernel_size=3, stride=2, padding=1, dilation=1, ceil_mode=False)\n",
       "  (layer1): Sequential(\n",
       "    (0): BasicBlock(\n",
       "      (conv1): Conv2d(64, 64, kernel_size=(3, 3), stride=(1, 1), padding=(1, 1), bias=False)\n",
       "      (bn1): BatchNorm2d(64, eps=1e-05, momentum=0.1, affine=True, track_running_stats=True)\n",
       "      (relu): ReLU(inplace=True)\n",
       "      (conv2): Conv2d(64, 64, kernel_size=(3, 3), stride=(1, 1), padding=(1, 1), bias=False)\n",
       "      (bn2): BatchNorm2d(64, eps=1e-05, momentum=0.1, affine=True, track_running_stats=True)\n",
       "    )\n",
       "    (1): BasicBlock(\n",
       "      (conv1): Conv2d(64, 64, kernel_size=(3, 3), stride=(1, 1), padding=(1, 1), bias=False)\n",
       "      (bn1): BatchNorm2d(64, eps=1e-05, momentum=0.1, affine=True, track_running_stats=True)\n",
       "      (relu): ReLU(inplace=True)\n",
       "      (conv2): Conv2d(64, 64, kernel_size=(3, 3), stride=(1, 1), padding=(1, 1), bias=False)\n",
       "      (bn2): BatchNorm2d(64, eps=1e-05, momentum=0.1, affine=True, track_running_stats=True)\n",
       "    )\n",
       "    (2): BasicBlock(\n",
       "      (conv1): Conv2d(64, 64, kernel_size=(3, 3), stride=(1, 1), padding=(1, 1), bias=False)\n",
       "      (bn1): BatchNorm2d(64, eps=1e-05, momentum=0.1, affine=True, track_running_stats=True)\n",
       "      (relu): ReLU(inplace=True)\n",
       "      (conv2): Conv2d(64, 64, kernel_size=(3, 3), stride=(1, 1), padding=(1, 1), bias=False)\n",
       "      (bn2): BatchNorm2d(64, eps=1e-05, momentum=0.1, affine=True, track_running_stats=True)\n",
       "    )\n",
       "  )\n",
       "  (layer2): Sequential(\n",
       "    (0): BasicBlock(\n",
       "      (conv1): Conv2d(64, 128, kernel_size=(3, 3), stride=(2, 2), padding=(1, 1), bias=False)\n",
       "      (bn1): BatchNorm2d(128, eps=1e-05, momentum=0.1, affine=True, track_running_stats=True)\n",
       "      (relu): ReLU(inplace=True)\n",
       "      (conv2): Conv2d(128, 128, kernel_size=(3, 3), stride=(1, 1), padding=(1, 1), bias=False)\n",
       "      (bn2): BatchNorm2d(128, eps=1e-05, momentum=0.1, affine=True, track_running_stats=True)\n",
       "      (downsample): Sequential(\n",
       "        (0): Conv2d(64, 128, kernel_size=(1, 1), stride=(2, 2), bias=False)\n",
       "        (1): BatchNorm2d(128, eps=1e-05, momentum=0.1, affine=True, track_running_stats=True)\n",
       "      )\n",
       "    )\n",
       "    (1): BasicBlock(\n",
       "      (conv1): Conv2d(128, 128, kernel_size=(3, 3), stride=(1, 1), padding=(1, 1), bias=False)\n",
       "      (bn1): BatchNorm2d(128, eps=1e-05, momentum=0.1, affine=True, track_running_stats=True)\n",
       "      (relu): ReLU(inplace=True)\n",
       "      (conv2): Conv2d(128, 128, kernel_size=(3, 3), stride=(1, 1), padding=(1, 1), bias=False)\n",
       "      (bn2): BatchNorm2d(128, eps=1e-05, momentum=0.1, affine=True, track_running_stats=True)\n",
       "    )\n",
       "    (2): BasicBlock(\n",
       "      (conv1): Conv2d(128, 128, kernel_size=(3, 3), stride=(1, 1), padding=(1, 1), bias=False)\n",
       "      (bn1): BatchNorm2d(128, eps=1e-05, momentum=0.1, affine=True, track_running_stats=True)\n",
       "      (relu): ReLU(inplace=True)\n",
       "      (conv2): Conv2d(128, 128, kernel_size=(3, 3), stride=(1, 1), padding=(1, 1), bias=False)\n",
       "      (bn2): BatchNorm2d(128, eps=1e-05, momentum=0.1, affine=True, track_running_stats=True)\n",
       "    )\n",
       "    (3): BasicBlock(\n",
       "      (conv1): Conv2d(128, 128, kernel_size=(3, 3), stride=(1, 1), padding=(1, 1), bias=False)\n",
       "      (bn1): BatchNorm2d(128, eps=1e-05, momentum=0.1, affine=True, track_running_stats=True)\n",
       "      (relu): ReLU(inplace=True)\n",
       "      (conv2): Conv2d(128, 128, kernel_size=(3, 3), stride=(1, 1), padding=(1, 1), bias=False)\n",
       "      (bn2): BatchNorm2d(128, eps=1e-05, momentum=0.1, affine=True, track_running_stats=True)\n",
       "    )\n",
       "  )\n",
       "  (layer3): Sequential(\n",
       "    (0): BasicBlock(\n",
       "      (conv1): Conv2d(128, 256, kernel_size=(3, 3), stride=(2, 2), padding=(1, 1), bias=False)\n",
       "      (bn1): BatchNorm2d(256, eps=1e-05, momentum=0.1, affine=True, track_running_stats=True)\n",
       "      (relu): ReLU(inplace=True)\n",
       "      (conv2): Conv2d(256, 256, kernel_size=(3, 3), stride=(1, 1), padding=(1, 1), bias=False)\n",
       "      (bn2): BatchNorm2d(256, eps=1e-05, momentum=0.1, affine=True, track_running_stats=True)\n",
       "      (downsample): Sequential(\n",
       "        (0): Conv2d(128, 256, kernel_size=(1, 1), stride=(2, 2), bias=False)\n",
       "        (1): BatchNorm2d(256, eps=1e-05, momentum=0.1, affine=True, track_running_stats=True)\n",
       "      )\n",
       "    )\n",
       "    (1): BasicBlock(\n",
       "      (conv1): Conv2d(256, 256, kernel_size=(3, 3), stride=(1, 1), padding=(1, 1), bias=False)\n",
       "      (bn1): BatchNorm2d(256, eps=1e-05, momentum=0.1, affine=True, track_running_stats=True)\n",
       "      (relu): ReLU(inplace=True)\n",
       "      (conv2): Conv2d(256, 256, kernel_size=(3, 3), stride=(1, 1), padding=(1, 1), bias=False)\n",
       "      (bn2): BatchNorm2d(256, eps=1e-05, momentum=0.1, affine=True, track_running_stats=True)\n",
       "    )\n",
       "    (2): BasicBlock(\n",
       "      (conv1): Conv2d(256, 256, kernel_size=(3, 3), stride=(1, 1), padding=(1, 1), bias=False)\n",
       "      (bn1): BatchNorm2d(256, eps=1e-05, momentum=0.1, affine=True, track_running_stats=True)\n",
       "      (relu): ReLU(inplace=True)\n",
       "      (conv2): Conv2d(256, 256, kernel_size=(3, 3), stride=(1, 1), padding=(1, 1), bias=False)\n",
       "      (bn2): BatchNorm2d(256, eps=1e-05, momentum=0.1, affine=True, track_running_stats=True)\n",
       "    )\n",
       "    (3): BasicBlock(\n",
       "      (conv1): Conv2d(256, 256, kernel_size=(3, 3), stride=(1, 1), padding=(1, 1), bias=False)\n",
       "      (bn1): BatchNorm2d(256, eps=1e-05, momentum=0.1, affine=True, track_running_stats=True)\n",
       "      (relu): ReLU(inplace=True)\n",
       "      (conv2): Conv2d(256, 256, kernel_size=(3, 3), stride=(1, 1), padding=(1, 1), bias=False)\n",
       "      (bn2): BatchNorm2d(256, eps=1e-05, momentum=0.1, affine=True, track_running_stats=True)\n",
       "    )\n",
       "    (4): BasicBlock(\n",
       "      (conv1): Conv2d(256, 256, kernel_size=(3, 3), stride=(1, 1), padding=(1, 1), bias=False)\n",
       "      (bn1): BatchNorm2d(256, eps=1e-05, momentum=0.1, affine=True, track_running_stats=True)\n",
       "      (relu): ReLU(inplace=True)\n",
       "      (conv2): Conv2d(256, 256, kernel_size=(3, 3), stride=(1, 1), padding=(1, 1), bias=False)\n",
       "      (bn2): BatchNorm2d(256, eps=1e-05, momentum=0.1, affine=True, track_running_stats=True)\n",
       "    )\n",
       "    (5): BasicBlock(\n",
       "      (conv1): Conv2d(256, 256, kernel_size=(3, 3), stride=(1, 1), padding=(1, 1), bias=False)\n",
       "      (bn1): BatchNorm2d(256, eps=1e-05, momentum=0.1, affine=True, track_running_stats=True)\n",
       "      (relu): ReLU(inplace=True)\n",
       "      (conv2): Conv2d(256, 256, kernel_size=(3, 3), stride=(1, 1), padding=(1, 1), bias=False)\n",
       "      (bn2): BatchNorm2d(256, eps=1e-05, momentum=0.1, affine=True, track_running_stats=True)\n",
       "    )\n",
       "  )\n",
       "  (layer4): Sequential(\n",
       "    (0): BasicBlock(\n",
       "      (conv1): Conv2d(256, 512, kernel_size=(3, 3), stride=(2, 2), padding=(1, 1), bias=False)\n",
       "      (bn1): BatchNorm2d(512, eps=1e-05, momentum=0.1, affine=True, track_running_stats=True)\n",
       "      (relu): ReLU(inplace=True)\n",
       "      (conv2): Conv2d(512, 512, kernel_size=(3, 3), stride=(1, 1), padding=(1, 1), bias=False)\n",
       "      (bn2): BatchNorm2d(512, eps=1e-05, momentum=0.1, affine=True, track_running_stats=True)\n",
       "      (downsample): Sequential(\n",
       "        (0): Conv2d(256, 512, kernel_size=(1, 1), stride=(2, 2), bias=False)\n",
       "        (1): BatchNorm2d(512, eps=1e-05, momentum=0.1, affine=True, track_running_stats=True)\n",
       "      )\n",
       "    )\n",
       "    (1): BasicBlock(\n",
       "      (conv1): Conv2d(512, 512, kernel_size=(3, 3), stride=(1, 1), padding=(1, 1), bias=False)\n",
       "      (bn1): BatchNorm2d(512, eps=1e-05, momentum=0.1, affine=True, track_running_stats=True)\n",
       "      (relu): ReLU(inplace=True)\n",
       "      (conv2): Conv2d(512, 512, kernel_size=(3, 3), stride=(1, 1), padding=(1, 1), bias=False)\n",
       "      (bn2): BatchNorm2d(512, eps=1e-05, momentum=0.1, affine=True, track_running_stats=True)\n",
       "    )\n",
       "    (2): BasicBlock(\n",
       "      (conv1): Conv2d(512, 512, kernel_size=(3, 3), stride=(1, 1), padding=(1, 1), bias=False)\n",
       "      (bn1): BatchNorm2d(512, eps=1e-05, momentum=0.1, affine=True, track_running_stats=True)\n",
       "      (relu): ReLU(inplace=True)\n",
       "      (conv2): Conv2d(512, 512, kernel_size=(3, 3), stride=(1, 1), padding=(1, 1), bias=False)\n",
       "      (bn2): BatchNorm2d(512, eps=1e-05, momentum=0.1, affine=True, track_running_stats=True)\n",
       "    )\n",
       "  )\n",
       "  (avgpool): AdaptiveAvgPool2d(output_size=(1, 1))\n",
       "  (fc): Linear(in_features=512, out_features=1000, bias=True)\n",
       ")"
      ]
     },
     "execution_count": 46,
     "metadata": {},
     "output_type": "execute_result"
    }
   ],
   "source": [
    "import torchvision.models\n",
    "\n",
    "resnet_model = torchvision.models.resnet34()\n",
    "resnet_model"
   ]
  },
  {
   "cell_type": "markdown",
   "id": "23d8943d-f2f9-4460-97bd-11262c6b527d",
   "metadata": {},
   "source": [
    "No es necesario para este ejercicio saber de redes convolucionales. Basta saber que resnet espera que le pasen un tensor de dimensiones $(3,H,W)$ siendo $3$ la cantidad de canales, $H$ la altura de una imágen y $W$ la anchura.\n",
    "\n",
    "Para aplicarlo, debemos des-aplanar las 784 features que componene cada sample:"
   ]
  },
  {
   "cell_type": "code",
   "execution_count": 47,
   "id": "a6bb8678-4121-450c-9a5f-4dbab2ca87fe",
   "metadata": {},
   "outputs": [
    {
     "data": {
      "text/plain": [
       "torch.Size([32, 28, 28])"
      ]
     },
     "execution_count": 47,
     "metadata": {},
     "output_type": "execute_result"
    }
   ],
   "source": [
    "x_batch_new = x_batch.reshape(-1,28,28)\n",
    "x_batch_new.shape"
   ]
  },
  {
   "cell_type": "markdown",
   "id": "b24c988a-9bbb-49a4-b546-06b6bea34127",
   "metadata": {},
   "source": [
    "Podemos crear un ResNet con 1 solo canal, pero como vamos a usar un ResNet con pesos ya entrenado en el dataset ImageNet (que es un dataset a color), crearemos 3 canales iguales:"
   ]
  },
  {
   "cell_type": "code",
   "execution_count": 48,
   "id": "35a32941-acab-4636-abbe-4cb92ad3af64",
   "metadata": {},
   "outputs": [
    {
     "data": {
      "text/plain": [
       "torch.Size([32, 3, 28, 28])"
      ]
     },
     "execution_count": 48,
     "metadata": {},
     "output_type": "execute_result"
    }
   ],
   "source": [
    "x_batch_new = torch.stack([x_batch_new,x_batch_new,x_batch_new]).permute(1,0,2,3)\n",
    "x_batch_new.shape"
   ]
  },
  {
   "cell_type": "markdown",
   "id": "91fbe2eb-1253-4d94-a7e0-0249d555224a",
   "metadata": {},
   "source": [
    "Corroboremos que de des-aplanó correctamente mostrando la primera imágen:"
   ]
  },
  {
   "cell_type": "code",
   "execution_count": 50,
   "id": "b8d13027-c4c1-4be2-bd01-adee495e791e",
   "metadata": {},
   "outputs": [
    {
     "data": {
      "text/plain": [
       "tensor(6)"
      ]
     },
     "execution_count": 50,
     "metadata": {},
     "output_type": "execute_result"
    }
   ],
   "source": [
    "y_batch[0]"
   ]
  },
  {
   "cell_type": "code",
   "execution_count": 49,
   "id": "f286621b-4726-4270-9a85-767a01f0e54f",
   "metadata": {},
   "outputs": [
    {
     "data": {
      "image/png": "[encoded data removed]",
      "text/plain": [
       "<Figure size 640x480 with 1 Axes>"
      ]
     },
     "metadata": {},
     "output_type": "display_data"
    }
   ],
   "source": [
    "pyplot.imshow(x_batch_new[0,0], cmap=\"gray\")\n",
    "pyplot.show()"
   ]
  },
  {
   "cell_type": "markdown",
   "id": "4f8c3df9-c5aa-4c3b-84f7-03dd58fed04a",
   "metadata": {},
   "source": [
    "Finalmente podemos calcular la predicción del modelo:"
   ]
  },
  {
   "cell_type": "code",
   "execution_count": 51,
   "id": "c2adf3fe-bec8-4f21-8ba3-15f1489d093c",
   "metadata": {},
   "outputs": [
    {
     "data": {
      "text/plain": [
       "(torch.Size([32, 1000]),\n",
       " tensor([ 9.1016e-01, -7.7014e-01,  4.6726e-01, -6.3173e-01,  4.0379e-01,\n",
       "          9.8521e-01,  2.0389e-01,  2.6708e-01, -1.1869e+00,  1.5896e-01,\n",
       "          3.0784e-01, -8.5848e-01,  3.7861e-01,  2.9015e-01,  1.1732e+00,\n",
       "          1.2052e+00,  1.0521e+00,  5.4613e-02,  7.4649e-02,  1.0794e+00,\n",
       "         -4.0085e-01,  8.3996e-01,  3.8568e-01, -1.2842e-01,  9.0162e-01,\n",
       "          1.5944e+00,  5.7479e-01, -2.3507e-01,  1.1083e+00, -1.9808e-01,\n",
       "          2.6719e-01, -2.2984e+00, -2.1798e-01, -7.9175e-01, -4.5641e-01,\n",
       "          1.2669e+00, -7.3512e-02,  5.5714e-04, -7.6510e-01, -1.6730e-01,\n",
       "         -4.7479e-01, -7.9917e-01,  2.2590e-01,  2.7395e-01, -6.8764e-01,\n",
       "          9.3216e-01, -4.9089e-02, -2.7635e-01, -9.9985e-01,  1.8095e-01,\n",
       "          8.0763e-02, -3.0958e-01, -6.2228e-01,  2.7327e-02,  1.2112e+00,\n",
       "         -8.4899e-01,  3.6948e-01,  1.1408e+00,  3.7819e-02,  1.0669e+00,\n",
       "          3.5618e-01,  1.8724e+00, -1.1176e-01, -1.0349e+00, -1.6912e-01,\n",
       "         -3.3949e-01,  1.0243e+00, -7.6935e-01,  1.4415e+00, -9.7343e-02,\n",
       "         -1.7354e+00,  7.3051e-02,  1.0656e-01,  5.1772e-01,  3.3769e-01,\n",
       "          7.7799e-01,  4.2398e-01, -1.1499e+00,  7.9785e-01, -1.6343e+00,\n",
       "          1.3980e-01,  2.4415e-01,  4.6982e-01, -8.9842e-01,  1.2133e+00,\n",
       "          1.7435e-01,  1.3211e+00, -1.8990e+00, -3.3207e-01,  1.2052e-01,\n",
       "         -4.3880e-01, -2.9657e-01, -4.5474e-01, -1.9222e+00, -1.3747e+00,\n",
       "          2.5679e-01,  5.3246e-01,  2.4699e+00, -1.1708e-01, -7.2103e-01,\n",
       "         -2.7417e+00, -3.5962e-01,  6.1150e-01,  1.1262e+00,  9.3276e-01,\n",
       "         -3.0302e-01,  1.1181e+00,  9.1495e-01, -6.8543e-01, -1.1520e+00,\n",
       "          3.1904e-03, -6.0627e-02,  1.0033e+00, -3.9929e-01, -1.1980e+00,\n",
       "         -1.5058e+00,  7.9639e-01, -4.8482e-01, -1.1728e+00,  7.2670e-01,\n",
       "          3.8489e-01, -3.1902e-01, -1.3751e+00,  1.4266e+00,  1.0716e+00,\n",
       "          1.4750e+00, -2.1084e+00,  5.4335e-01,  1.2384e+00,  6.2313e-01,\n",
       "         -7.5012e-01,  1.0027e+00, -4.9767e-01,  4.9839e-01, -1.6775e-01,\n",
       "         -5.2107e-01, -2.0643e-01,  5.5854e-01,  5.0339e-01,  1.0245e+00,\n",
       "          6.8865e-01, -2.6454e-01,  9.5757e-01,  1.1586e+00,  1.7522e-01,\n",
       "         -2.2442e-01,  4.2874e-01,  5.3310e-02,  5.7134e-01, -8.2244e-01,\n",
       "         -3.3361e-02, -2.2121e-01, -1.5321e+00,  1.0057e+00, -1.3975e+00,\n",
       "          1.1768e+00,  6.2760e-01, -1.1554e+00,  3.9785e-01,  5.2917e-02,\n",
       "          7.0261e-01,  1.1935e+00,  9.6499e-02, -1.0276e+00,  7.3214e-01,\n",
       "          7.1854e-02,  1.3821e-01,  1.2266e+00, -2.7231e-01,  6.5536e-01,\n",
       "         -3.6204e-01, -1.2297e+00,  2.2086e-01,  2.0810e+00,  7.4873e-01,\n",
       "          5.0318e-01,  6.4786e-01, -6.3404e-01,  1.8940e+00, -6.5200e-01,\n",
       "         -2.3192e-01,  5.1899e-02,  5.1187e-01,  7.7469e-01,  2.2761e-01,\n",
       "          1.1018e+00, -5.6341e-01, -1.0609e+00, -5.2771e-01,  1.1033e+00,\n",
       "          3.8622e-01, -1.4102e+00, -1.2235e+00, -1.6848e+00,  3.9168e-01,\n",
       "         -1.2319e-01, -3.0274e-01, -1.0086e-01,  3.1890e-01, -1.2387e+00,\n",
       "         -1.4150e-01,  2.6968e-01,  4.3195e-01, -4.4390e-01,  2.2137e-01,\n",
       "         -4.6481e-01,  8.1262e-01,  2.3199e-01,  5.7785e-01, -1.2447e+00,\n",
       "         -6.3647e-01, -5.8218e-01, -1.8700e-01,  4.4584e-01,  9.2101e-02,\n",
       "         -4.4701e-01, -3.7712e-01,  2.5126e-01, -4.1696e-01, -7.7365e-01,\n",
       "         -4.2945e-03,  4.0757e-01, -7.7399e-01,  4.3548e-01, -6.1311e-01,\n",
       "          2.1164e-01,  1.4794e+00,  7.2551e-01,  6.4654e-01,  7.1564e-01,\n",
       "          3.9367e-01,  5.8557e-02,  1.2435e+00, -1.5577e+00,  7.8834e-01,\n",
       "          5.6791e-01,  2.0473e+00,  8.8485e-01, -6.4068e-01, -2.8365e-01,\n",
       "         -1.5037e-01, -1.5543e+00, -3.7484e-01,  1.1784e+00, -6.2652e-01,\n",
       "         -9.9857e-01, -6.8843e-01, -6.2738e-01,  9.5659e-01,  8.6960e-01,\n",
       "         -7.5533e-01, -1.5246e-01,  6.1230e-01,  1.1356e+00, -1.1982e-01,\n",
       "          1.4086e+00,  9.0565e-01,  4.5167e-01, -1.0105e+00, -2.8573e-01,\n",
       "          7.7750e-01,  1.0104e+00,  3.4412e-01, -5.9506e-01,  1.3947e-02,\n",
       "          5.6808e-01,  1.0426e+00,  1.1854e+00,  4.4508e-01,  1.3426e+00,\n",
       "         -8.6663e-01,  2.7946e-01, -3.1607e-01,  1.2169e+00,  7.2617e-01,\n",
       "         -1.4302e+00, -6.0917e-02, -1.8283e-01,  2.0882e+00, -7.8632e-01,\n",
       "          6.1734e-01,  1.7241e-01,  5.9442e-01, -2.6393e-01, -5.9141e-01,\n",
       "          6.9223e-01,  6.4051e-01,  2.7175e-01,  8.9121e-02, -8.5071e-01,\n",
       "         -1.3051e+00, -8.9841e-01, -1.1003e+00, -7.7539e-01, -1.8115e-01,\n",
       "         -1.1637e-02,  1.6845e-01, -6.4438e-02,  4.4885e-01,  2.4877e-02,\n",
       "         -1.5810e-01,  1.2842e+00,  8.4828e-01, -9.2806e-01, -2.3747e-01,\n",
       "          6.3559e-01,  4.3708e-01,  4.4612e-01, -3.6930e-01,  2.5640e-01,\n",
       "          1.0577e+00, -9.8247e-01, -7.4583e-01,  3.8829e-01,  5.4272e-01,\n",
       "          5.3597e-01,  1.6808e-01,  1.3029e+00, -5.8134e-01,  3.6933e-03,\n",
       "          3.9395e-01, -1.1005e+00,  1.0332e+00,  1.9208e-01,  6.7133e-01,\n",
       "         -3.2698e-01,  2.5924e-01, -4.3637e-01, -9.9538e-02,  8.7807e-02,\n",
       "          2.1343e-01,  1.2559e+00,  3.2808e-01,  8.4234e-02,  8.3956e-02,\n",
       "          1.1138e+00, -1.2490e+00, -7.7670e-01,  2.3488e-01,  7.3640e-01,\n",
       "          7.0906e-01,  3.9923e-01, -2.7492e-01,  2.9736e-01,  6.9517e-01,\n",
       "          9.7346e-01,  2.3497e-01,  1.0554e+00, -2.1922e-01, -2.6322e-01,\n",
       "          1.1567e+00,  1.0136e+00,  3.4651e-01, -2.1864e-01,  2.0594e-02,\n",
       "          8.0912e-01, -6.9204e-01, -4.7787e-01,  8.4698e-01, -4.4911e-01,\n",
       "          1.2858e-01,  9.0541e-01,  3.3923e-01, -1.3259e+00,  1.6822e+00,\n",
       "          5.7105e-01,  1.3519e+00, -8.3426e-01, -1.2024e-01,  1.5632e-01,\n",
       "         -3.8128e-02,  3.3597e-01, -4.5856e-01, -2.1612e-01,  1.0198e+00,\n",
       "          8.8858e-01, -6.8600e-01, -4.5633e-01, -8.3381e-01,  7.1762e-01,\n",
       "          5.8123e-01,  1.0036e-01,  2.7890e-01,  2.7244e-01, -3.1631e-01,\n",
       "         -4.8188e-01,  1.0998e+00,  3.6357e-01,  1.1687e+00, -3.9987e-01,\n",
       "          3.5983e-02,  6.0972e-01,  6.3625e-01, -1.3649e+00, -9.8803e-01,\n",
       "         -1.1503e+00, -5.2236e-02, -6.7329e-01, -1.0834e+00,  4.8317e-01,\n",
       "          8.3407e-01,  5.8822e-01,  6.1801e-01, -5.8122e-01, -4.5081e-01,\n",
       "          1.4259e-01,  4.2851e-01, -1.0499e-01,  1.4354e+00,  4.9828e-01,\n",
       "         -8.6686e-03, -3.6894e-01, -6.7957e-01, -4.2374e-01, -4.3051e-01,\n",
       "          1.1900e-01,  1.9243e-01,  8.9592e-02, -1.7693e-01,  1.6685e+00,\n",
       "          1.3820e+00, -5.7668e-01,  2.1268e-01, -8.0753e-01, -6.3745e-01,\n",
       "         -3.8516e-01,  5.5220e-01,  1.0870e+00, -1.0171e-01, -1.1199e+00,\n",
       "          2.6799e-01,  1.4334e+00, -2.2749e-01,  4.0083e-01,  3.3887e-01,\n",
       "         -6.8671e-01, -5.5092e-01, -7.4059e-01, -9.6307e-02,  5.4498e-02,\n",
       "          7.3856e-02,  1.4654e+00,  7.3723e-01,  5.8168e-01, -3.7061e-01,\n",
       "          4.6340e-02, -1.5227e+00, -4.2572e-01, -6.1869e-02, -2.3822e-01,\n",
       "          6.3947e-01, -2.0690e-01, -9.9963e-01,  9.2139e-01, -5.6893e-01,\n",
       "         -1.8031e-01,  9.7471e-01,  3.3611e-01,  4.1747e-01, -3.1753e-01,\n",
       "          9.4010e-01,  1.6202e+00,  8.1623e-01, -2.8925e-01, -7.8100e-02,\n",
       "          1.7112e-01, -8.4082e-01,  6.4101e-01, -2.6154e-01,  8.8228e-01,\n",
       "          6.7297e-01, -4.2041e-01,  1.7562e-01, -5.6448e-01,  5.0073e-01,\n",
       "          2.4129e-01, -7.5280e-03,  7.4194e-01, -3.6393e-02,  1.3974e-02,\n",
       "         -2.7901e-01, -2.4723e-01,  1.0561e-01,  1.5841e+00,  1.0423e+00,\n",
       "          1.2138e+00,  9.7489e-01, -5.3944e-01, -4.3782e-01,  2.3781e-01,\n",
       "         -6.3093e-01, -6.0130e-01,  2.0517e+00, -1.4051e+00, -5.4019e-01,\n",
       "          1.7019e-01,  5.2462e-01,  4.1287e-01,  7.8868e-01,  7.4710e-01,\n",
       "          9.8497e-02,  4.3455e-01,  2.8607e-01, -4.7806e-01,  4.1995e-01,\n",
       "          6.1235e-02, -4.2198e-01, -8.2139e-01, -3.9572e-01, -1.0914e+00,\n",
       "         -7.4888e-01,  1.1102e+00,  1.7620e+00, -5.6869e-01, -5.0623e-02,\n",
       "         -3.8496e-01, -1.1852e+00, -5.5494e-01,  3.3112e-01,  5.3092e-01,\n",
       "         -3.8916e-02,  3.7124e-01, -6.5777e-02, -3.6721e-01, -3.9682e-01,\n",
       "          9.9092e-01,  5.9077e-01, -7.7380e-03, -1.4874e+00,  6.1386e-01,\n",
       "          8.1727e-02, -3.4887e-01,  4.4259e-01,  1.2191e-01,  3.1195e-01,\n",
       "         -4.5934e-01, -9.5963e-01,  3.7244e-02, -5.9837e-01,  2.9958e-01,\n",
       "         -7.1727e-01, -6.0092e-01,  6.7388e-01,  5.8529e-01,  7.7632e-01,\n",
       "         -6.3591e-01,  2.2302e-02,  1.5215e+00,  9.8730e-02, -8.9862e-01,\n",
       "         -7.1027e-01, -5.6140e-01,  1.0055e+00, -2.0203e-01,  8.1342e-01,\n",
       "          9.0470e-01,  8.0300e-01, -3.6675e-01, -6.3394e-02, -3.2006e-02,\n",
       "         -5.1880e-01, -2.4935e-01,  6.5103e-01, -3.3204e-01,  1.3996e+00,\n",
       "         -1.3267e-01,  6.6759e-01, -7.5698e-01,  1.0268e-01, -6.5487e-01,\n",
       "          3.3888e-01,  3.9650e-01,  1.9120e-03, -1.1551e+00, -7.9501e-01,\n",
       "         -5.8707e-01,  1.9361e+00,  1.0695e+00, -5.4969e-02,  7.5137e-01,\n",
       "         -9.1230e-01,  5.9562e-01,  1.3479e+00,  8.1037e-02,  1.0842e-01,\n",
       "          9.3302e-02, -1.2239e+00, -6.6145e-01,  1.7670e-01, -4.8296e-01,\n",
       "         -1.2259e+00, -1.8468e-01,  1.2941e-01,  5.0050e-02,  8.5256e-01,\n",
       "          4.1835e-01, -9.4613e-01,  7.1824e-01, -6.9962e-01, -1.1706e+00,\n",
       "          4.3470e-01,  2.1446e-01, -5.5166e-01, -1.6906e+00, -6.9640e-01,\n",
       "          6.0536e-01, -9.6503e-01, -3.4787e-01,  7.9694e-01, -1.0123e+00,\n",
       "         -6.6345e-01,  4.9178e-01, -1.3039e+00,  2.1666e-01,  1.1374e-01,\n",
       "          5.7492e-01,  5.8912e-01,  4.6411e-01,  8.0094e-01,  1.6016e+00,\n",
       "         -7.5192e-01, -1.3155e+00,  1.3875e+00, -7.4715e-01, -6.6300e-01,\n",
       "          4.0605e-01,  1.2615e-01,  2.6843e-01, -2.0675e-01, -4.8876e-01,\n",
       "         -9.5489e-01, -2.9294e-01,  3.0157e-01,  1.0826e+00,  1.1778e+00,\n",
       "         -4.3792e-01,  4.0087e-01, -1.9112e-01, -5.9966e-01, -8.7940e-01,\n",
       "          6.4716e-02,  1.8069e-01,  4.8326e-01,  2.5314e-01, -1.4221e-01,\n",
       "         -2.6804e-01,  4.3962e-02,  7.3842e-01, -1.2828e-01, -8.3286e-01,\n",
       "         -3.0480e-01,  1.3334e+00,  6.5923e-01, -1.3248e+00,  1.8591e-02,\n",
       "          2.1777e+00, -1.7185e+00, -7.1063e-02, -1.7738e-01,  4.7267e-01,\n",
       "         -5.6322e-01, -1.3759e+00,  5.5439e-01, -9.1595e-01, -5.0777e-01,\n",
       "         -7.2974e-01, -3.9986e-01,  5.1367e-01, -4.4528e-02, -2.1719e-01,\n",
       "         -1.1748e+00,  7.2342e-01,  5.1250e-01, -1.9849e-01,  8.7046e-01,\n",
       "          8.8368e-01, -4.5178e-01,  1.3450e+00,  1.0142e-01, -8.3510e-02,\n",
       "         -1.5892e+00, -2.3754e-01, -5.2907e-01,  8.2648e-01,  7.3103e-01,\n",
       "          2.1090e-01, -9.6309e-01, -2.4268e+00,  4.5666e-01,  7.1544e-01,\n",
       "          5.7617e-01, -2.6867e-01,  5.5942e-01, -4.4425e-01, -6.7078e-01,\n",
       "         -9.7073e-01,  4.6640e-03, -3.3480e-01,  5.5390e-01, -2.4627e-01,\n",
       "         -2.7233e-01, -1.4747e+00, -1.0787e+00, -4.2542e-01,  3.7808e-01,\n",
       "          5.8393e-01,  1.2008e+00, -1.2015e+00, -1.4229e-01, -1.1509e+00,\n",
       "          1.3553e-01,  1.3385e+00, -2.9777e-01,  7.0532e-01,  1.0112e+00,\n",
       "         -9.9321e-01,  5.8420e-01,  5.0965e-01,  1.1860e+00,  2.8305e-01,\n",
       "         -2.1438e-01, -5.4381e-01,  3.4564e-01,  3.4724e-01, -1.0562e-02,\n",
       "         -7.5205e-01,  5.1078e-01, -3.9574e-01,  5.5893e-01,  5.9452e-02,\n",
       "          3.4080e-01, -2.0659e-01,  4.3859e-01, -5.9199e-01, -1.0697e+00,\n",
       "         -4.8499e-01,  1.9645e-02, -3.3607e-01, -1.1873e+00,  1.1530e+00,\n",
       "         -8.4719e-01,  7.4846e-01,  4.4322e-02,  1.2920e+00, -7.6560e-01,\n",
       "          1.0249e+00, -1.2046e+00, -6.0693e-01, -5.9580e-02, -1.1070e+00,\n",
       "         -3.0718e-01, -7.4345e-01,  1.7568e-01,  7.9925e-01, -3.1733e-01,\n",
       "          5.0430e-01, -1.6457e-02, -1.0250e+00, -4.0499e-01,  1.0497e+00,\n",
       "         -9.7009e-01, -2.3589e-01, -7.1491e-02, -1.1742e+00, -4.7245e-02,\n",
       "          4.6356e-01, -5.5740e-01, -6.9560e-01,  4.5960e-01, -1.1292e-01,\n",
       "          1.2712e+00,  4.8990e-01, -9.5444e-01,  5.3066e-02, -1.1558e+00,\n",
       "          1.0559e+00, -1.0194e+00,  6.3173e-01, -1.6412e+00,  1.7413e+00,\n",
       "          3.1107e-01, -5.2634e-01,  3.8847e-01, -1.2934e+00, -2.1263e-01,\n",
       "          1.9236e-01, -3.0745e-01,  8.0256e-01, -3.3534e-02, -1.0553e+00,\n",
       "          1.2281e-01, -1.1986e+00, -2.0151e-01, -1.4191e+00,  3.4830e-01,\n",
       "          9.1295e-01,  2.2083e-01,  4.6665e-01, -1.6528e-01, -4.8092e-01,\n",
       "         -8.2251e-01, -5.1865e-02, -4.5346e-01, -4.2097e-01, -1.3092e+00,\n",
       "          4.9480e-01, -1.3893e+00,  1.0304e+00,  1.1478e+00, -1.1411e+00,\n",
       "          3.1579e-01, -3.1603e-01, -2.1937e+00,  6.3305e-02,  8.2330e-03,\n",
       "         -3.9899e-01, -5.4801e-01, -3.9048e-01, -1.1259e+00, -1.5017e-01,\n",
       "          7.4803e-01, -6.6378e-01, -1.4495e+00,  9.2416e-01,  7.1351e-01,\n",
       "         -2.3040e-01, -2.0860e-01,  1.7791e+00,  2.0984e-01,  3.0237e-01,\n",
       "          1.6731e-01,  8.1474e-01, -5.5937e-01, -7.6020e-01,  3.8585e-01,\n",
       "          1.9229e-01,  1.9307e-02,  5.5180e-03,  7.9969e-01,  2.0249e-01,\n",
       "          8.3150e-01,  6.2292e-01, -1.3953e+00,  1.3202e+00, -5.3148e-02,\n",
       "          1.5900e+00,  1.1336e+00, -1.5620e+00, -2.4868e-01,  7.5137e-01,\n",
       "         -9.2491e-02,  5.4273e-01,  1.2813e+00, -2.1502e+00,  1.7624e+00,\n",
       "         -7.2885e-02,  1.6197e+00, -6.8011e-01,  6.7064e-01, -2.8107e-01,\n",
       "         -1.5594e-01,  1.6122e+00, -3.7572e-01,  1.5137e+00, -4.9022e-02,\n",
       "         -1.4402e+00,  1.8613e+00, -1.9669e-01, -4.0113e-01, -9.6136e-02,\n",
       "          7.4564e-01, -4.0631e-01, -6.5979e-01,  2.1417e-01, -1.9968e+00,\n",
       "          8.3954e-01,  7.5741e-01, -1.5299e+00, -5.2337e-02,  1.0184e-01,\n",
       "          2.2584e-01,  6.4981e-01,  2.8875e-01, -3.3651e-01,  4.8211e-01,\n",
       "         -4.7041e-01,  1.4465e-02,  2.4699e-01, -1.3351e+00,  1.4255e+00,\n",
       "         -9.7487e-01, -6.7182e-01, -1.2313e+00,  1.6970e-01,  1.0730e+00,\n",
       "          8.1243e-01, -9.9664e-02, -1.1582e-01,  8.2344e-01,  3.1754e-02,\n",
       "         -7.3157e-01,  1.4334e-01,  7.2679e-01,  2.0746e-01, -2.4958e-01,\n",
       "          1.7703e+00, -1.4672e+00,  1.7691e-01, -1.6196e-01,  3.4979e-01,\n",
       "         -9.8454e-02,  1.3382e-01, -5.8648e-01,  4.5586e-04,  6.9248e-01,\n",
       "          4.1288e-01,  1.6703e-01,  2.3717e-01, -1.8513e-01,  1.0529e+00,\n",
       "         -1.5505e+00,  1.0145e+00, -1.7266e+00, -3.4758e-01,  1.0371e-01,\n",
       "         -2.1291e+00,  4.2365e-01,  3.9103e-01,  9.2696e-02,  1.4226e+00,\n",
       "         -6.8151e-01, -7.8399e-01,  5.6280e-01, -1.2414e+00, -1.9711e-01,\n",
       "          7.7761e-01,  8.7155e-01, -1.1608e-01, -9.2251e-01, -1.2494e+00,\n",
       "         -4.6862e-01,  3.0160e-01, -1.0059e+00, -3.6964e-01,  1.4485e+00,\n",
       "         -5.6722e-02,  1.1470e+00, -1.1229e+00, -2.7928e-01, -5.7525e-01,\n",
       "          4.4989e-01, -6.7079e-01,  1.2819e-01, -6.4416e-01, -6.0733e-01,\n",
       "          4.5888e-01, -1.0049e+00,  2.8124e-01, -8.8588e-01,  1.3385e-01,\n",
       "          1.3378e-02,  5.9470e-01, -1.5662e+00, -2.4693e-01, -1.6267e+00,\n",
       "         -3.8923e-01, -1.0566e+00,  1.6881e+00, -1.7119e-01,  2.9634e-02,\n",
       "          4.1458e-01,  9.4292e-02, -1.5159e-01, -8.4289e-01,  5.1109e-01,\n",
       "          6.9620e-01,  7.8448e-01, -1.2587e+00,  2.3463e-01, -1.5870e+00,\n",
       "          1.2054e+00, -2.0579e-02,  4.0460e-01, -2.5489e-01, -3.2026e-01,\n",
       "          1.0327e+00, -1.2493e+00,  8.0123e-02, -6.2979e-01, -4.0214e-02,\n",
       "         -5.0686e-02, -5.1351e-02, -2.2706e-01, -1.3871e+00,  1.9674e+00,\n",
       "          3.4256e-01,  6.7175e-01,  3.2228e-01, -2.7471e-01, -1.8658e+00],\n",
       "        grad_fn=<SelectBackward0>))"
      ]
     },
     "execution_count": 51,
     "metadata": {},
     "output_type": "execute_result"
    }
   ],
   "source": [
    "logprobs = resnet_model(x_batch_new)\n",
    "logprobs.shape, logprobs[0]"
   ]
  },
  {
   "cell_type": "markdown",
   "id": "8ac612bf-592f-4ad1-bbce-91112b321bbc",
   "metadata": {},
   "source": [
    "Como resnet_model está entrenado en ImageNet, predice 1000 logprobs. Podemos cambiar la última capa lineal de resnet_model para adaptarlo a nuestro problema:"
   ]
  },
  {
   "cell_type": "code",
   "execution_count": 52,
   "id": "209e175b-346f-4b7c-af10-5fdd71dc9b4c",
   "metadata": {},
   "outputs": [],
   "source": [
    "resnet_model.fc = nn.Linear(512, 10)"
   ]
  },
  {
   "cell_type": "code",
   "execution_count": 53,
   "id": "de0d2540-8630-4352-88c0-8be5ee972a41",
   "metadata": {},
   "outputs": [
    {
     "data": {
      "text/plain": [
       "(torch.Size([32, 10]),\n",
       " tensor([ 0.1274,  0.3810,  0.0319, -0.1885, -2.2172,  0.3709, -0.3271,  0.3379,\n",
       "          0.1738, -1.1225], grad_fn=<SelectBackward0>))"
      ]
     },
     "execution_count": 53,
     "metadata": {},
     "output_type": "execute_result"
    }
   ],
   "source": [
    "logprobs = resnet_model(x_batch_new)\n",
    "logprobs.shape, logprobs[0]"
   ]
  },
  {
   "cell_type": "markdown",
   "id": "0ea0dd0a-664d-4956-a372-98acd4f99d78",
   "metadata": {},
   "source": [
    "Esta última capa es completamente nueva. Los pesos son completamente aleatorios. Cuándo esto sucede lo recomendable es entrenar algunas épocas esta capa solamente y luego entrenar toda la red. Esto se puede lograr pasando al optimizer sólo los parámetros de ésta última capa. Y luego crear otro optimizer y pasarle todos los parámetros del modelo."
   ]
  },
  {
   "cell_type": "markdown",
   "id": "a1cb70a5-c29e-4aef-82a5-57a7526961ed",
   "metadata": {},
   "source": [
    "#### Ejercicio 4: \"Dataset propio\" (opcional)\n",
    "\n",
    "Crear un dataset de imágenes de tu interés y entrenar un clasificar ResNet (ver ejercicio anterior) en dicho dataset.\n",
    "\n",
    "Para crear un dataset se puede utilizar, por ejemplo la API de Bing para descargar automáticamente imágenes del resultado de una búsqueda: https://pub.aimind.so/build-your-dataset-with-bing-search-api-1adf6b550a3c"
   ]
  },
  {
   "cell_type": "markdown",
   "id": "1bfb477f-9a58-404d-be99-89c5fff38fd3",
   "metadata": {},
   "source": [
    "## Resolviendo otros tipo de problemas\n",
    "\n",
    "Hasta ahora vimos como resolver problemas de clasificación de imágenes. Clasificar imágenes es algo que podemos hacer, hoy en día es algo que la mayoría de las plataformas como [Google AI Cloud](https://cloud.google.com/products/ai/) ya lo tienen integrado.\n",
    "\n",
    "Sólo en el área de computer vision, existen numerosas aplicaciones (algunas más difíciles de tratar que otras) que han sido objeto de estudio tanto en la literatura científica como soluciones comerciales que lo resuelven:\n",
    "- Problema de [Object Recognition](https://es.wikipedia.org/wiki/Detecci%C3%B3n_de_objetos): reconocer objetos en una imágen, encerrándolos en un rectángulo.\n",
    "- Problema de [Image Segmentation](https://en.wikipedia.org/wiki/Image_segmentation): clasificar los píxeles de una imágenes de acuerdo si pertenecen a diferentes objetos (por ejemplo podría ser persona, edifictio, etc).\n",
    "- \n",
    "... etc\n",
    "\n",
    "Pero las redes neuronales son modelos muy versátiles y podemos resolver toda clase de problemas.\n",
    "**Es muy importante, para no perder versatilidad, entender realmente los conceptos subyacentes y poder implementarlos (por eso los ejercicios diseñados en este trabajo práctico).** Y no centrarse en soluciones comerciales que, llegado el caso, pueden ser aprendidas fácilmente utilizando tutoriales.\n",
    "\n",
    "Para demostrar la versatildiad, vamos a aplicar lo que aprendimos un problema de regresión.\n",
    "\n",
    "Para ello usaremos el dataset de [MPII Human Pose Dataset](http://human-pose.mpi-inf.mpg.de/) que contiene fotos de personas realizando diferentes actividades. Las etiquetas las podemos encontrar en formato CSV en [este repo](https://github.com/Arifkhan21/MPII-Dataset-in-CSV). El dataset fue diseñado para Pose Detection (detectar la postura de la persona, localizar sus brazos, cabeza, etc). Pero tiene muchas otras etiquetas y se lo suele usar para diferentes tasks como Activity recognition (reconocer la actividad que la persona está haciendo).\n",
    "\n",
    "Nuestro objetivo será localizar la cabeza de la persona. El siguiente código carga el csv y calcula las posiciones (x,y) de las cabezas para cada imagen:"
   ]
  },
  {
   "cell_type": "code",
   "execution_count": 54,
   "id": "fb17be33-faba-4776-9e5d-50015fa65230",
   "metadata": {},
   "outputs": [
    {
     "data": {
      "text/html": [
       "<div>\n",
       "<style scoped>\n",
       "    .dataframe tbody tr th:only-of-type {\n",
       "        vertical-align: middle;\n",
       "    }\n",
       "\n",
       "    .dataframe tbody tr th {\n",
       "        vertical-align: top;\n",
       "    }\n",
       "\n",
       "    .dataframe thead th {\n",
       "        text-align: right;\n",
       "    }\n",
       "</style>\n",
       "<table border=\"1\" class=\"dataframe\">\n",
       "  <thead>\n",
       "    <tr style=\"text-align: right;\">\n",
       "      <th></th>\n",
       "      <th>filename</th>\n",
       "      <th>head_x</th>\n",
       "      <th>head_y</th>\n",
       "    </tr>\n",
       "  </thead>\n",
       "  <tbody>\n",
       "    <tr>\n",
       "      <th>0</th>\n",
       "      <td>015601864.jpg</td>\n",
       "      <td>666.5</td>\n",
       "      <td>149.0</td>\n",
       "    </tr>\n",
       "    <tr>\n",
       "      <th>1</th>\n",
       "      <td>015599452.jpg</td>\n",
       "      <td>679.0</td>\n",
       "      <td>162.0</td>\n",
       "    </tr>\n",
       "    <tr>\n",
       "      <th>2</th>\n",
       "      <td>005808361.jpg</td>\n",
       "      <td>972.5</td>\n",
       "      <td>158.0</td>\n",
       "    </tr>\n",
       "    <tr>\n",
       "      <th>3</th>\n",
       "      <td>086617615.jpg</td>\n",
       "      <td>291.5</td>\n",
       "      <td>226.5</td>\n",
       "    </tr>\n",
       "    <tr>\n",
       "      <th>4</th>\n",
       "      <td>060111501.jpg</td>\n",
       "      <td>853.5</td>\n",
       "      <td>119.5</td>\n",
       "    </tr>\n",
       "    <tr>\n",
       "      <th>5</th>\n",
       "      <td>070807258.jpg</td>\n",
       "      <td>641.0</td>\n",
       "      <td>296.5</td>\n",
       "    </tr>\n",
       "    <tr>\n",
       "      <th>6</th>\n",
       "      <td>002058449.jpg</td>\n",
       "      <td>696.5</td>\n",
       "      <td>218.5</td>\n",
       "    </tr>\n",
       "    <tr>\n",
       "      <th>7</th>\n",
       "      <td>021233911.jpg</td>\n",
       "      <td>303.0</td>\n",
       "      <td>77.0</td>\n",
       "    </tr>\n",
       "    <tr>\n",
       "      <th>8</th>\n",
       "      <td>018182497.jpg</td>\n",
       "      <td>301.0</td>\n",
       "      <td>157.0</td>\n",
       "    </tr>\n",
       "    <tr>\n",
       "      <th>9</th>\n",
       "      <td>018340451.jpg</td>\n",
       "      <td>302.0</td>\n",
       "      <td>155.0</td>\n",
       "    </tr>\n",
       "  </tbody>\n",
       "</table>\n",
       "</div>"
      ],
      "text/plain": [
       "        filename  head_x  head_y\n",
       "0  015601864.jpg   666.5   149.0\n",
       "1  015599452.jpg   679.0   162.0\n",
       "2  005808361.jpg   972.5   158.0\n",
       "3  086617615.jpg   291.5   226.5\n",
       "4  060111501.jpg   853.5   119.5\n",
       "5  070807258.jpg   641.0   296.5\n",
       "6  002058449.jpg   696.5   218.5\n",
       "7  021233911.jpg   303.0    77.0\n",
       "8  018182497.jpg   301.0   157.0\n",
       "9  018340451.jpg   302.0   155.0"
      ]
     },
     "execution_count": 54,
     "metadata": {},
     "output_type": "execute_result"
    }
   ],
   "source": [
    "import pandas as pd\n",
    "df=pd.read_csv('../data/mpii/mpii_dataset.csv')\n",
    "df=df.rename(columns={'NAME':'filename'})\n",
    "df['head_x'] = (df['head top_X']+df['upper neck_X']) / 2\n",
    "df['head_y'] = (df['head top_Y']+df['upper neck_Y']) / 2\n",
    "df = df[['filename', 'head_x', 'head_y']]\n",
    "df.head(10)"
   ]
  },
  {
   "cell_type": "markdown",
   "id": "ef1d286c-a0ca-4608-b030-b412e05536fd",
   "metadata": {},
   "source": [
    "La siguiente"
   ]
  },
  {
   "cell_type": "code",
   "execution_count": 55,
   "id": "df369382-3239-4253-9256-352eb2b4f151",
   "metadata": {},
   "outputs": [
    {
     "data": {
      "image/png": "[encoded data removed]",
      "text/plain": [
       "<Figure size 640x480 with 1 Axes>"
      ]
     },
     "metadata": {},
     "output_type": "display_data"
    }
   ],
   "source": [
    "import torchvision.io\n",
    "import matplotlib.image as mpimg\n",
    "from matplotlib import pyplot as plt\n",
    "\n",
    "def visualize_sample(idx):\n",
    "    row = df.iloc[idx]\n",
    "    filename = row['filename']\n",
    "    filepath = '../data/mpii/images/'+filename\n",
    "    \n",
    "    x = int(row['head_x'])\n",
    "    y = int(row['head_y'])\n",
    "    \n",
    "    image = mpimg.imread(filepath)\n",
    "    plt.imshow(image)\n",
    "    plt.plot(x, y, \"xr\", markersize=10)\n",
    "\n",
    "visualize_sample(4)"
   ]
  },
  {
   "cell_type": "markdown",
   "id": "ed556d23-e6f4-400f-8523-819a42916ca7",
   "metadata": {},
   "source": [
    "#### Ejercicio 5: \"Regresión sobre imágenes\" (opcional)\n",
    "\n",
    "Hacer un modelo basado en ResNet que prediga la posición de la cabeza dada una imágen.\n",
    "**Este es, probablemente, el ejercicio más difícil del TP.**\n",
    "Si alguien está dispuesto y comienza a hacerlo, le sugiero ir poniéndo sus avances en el foro para que lo pueda ir guiando.\n",
    "A grandes rasgos los pasos debieran ser:\n",
    "1. Implementar un dataset particular. E\n",
    "2. Las imágenes no tienen el mismo size. Para poder construir los batches, necesitamos que lo sean (todas las dimensiones deben ser iguales). Va a ser necesario aplicar recorte (cropp) y reescalamiento (resize). Estas transformaciones se suelen aplicar como transformaciones que aplica la clase Dataset implementada. Notar que los target (las coordenadas de la cabeza) cambian cuando se recorta una imágen. O sea que también hay que aplicar transformaciones sobre los target.\n",
    "3. El resto es similar al ejercicio anterior: hay que tomar un modelo ResNet ya entrenado (puede ser resnet34) y cambiarle la última capa para que calcule dos números: las dos coordenadas. Como ahora la salida no es una distribución de probabilidad no debemos aplicar softmax sobre la salida. Algo que podemos hacer es aplicar la función sigmoide a cada una de las salidas y escalarla, es una práctica habitual para problemas de regresión en un rango acotado.\n",
    "4. Como función de costo ahora tendremos MSE (que aplicaremos sobre cada coordenada)."
   ]
  }
 ],
 "metadata": {
  "kernelspec": {
   "display_name": "base",
   "language": "python",
   "name": "python3"
  },
  "language_info": {
   "codemirror_mode": {
    "name": "ipython",
    "version": 3
   },
   "file_extension": ".py",
   "mimetype": "text/x-python",
   "name": "python",
   "nbconvert_exporter": "python",
   "pygments_lexer": "ipython3",
   "version": "3.11.7"
  }
 },
 "nbformat": 4,
 "nbformat_minor": 5
}
